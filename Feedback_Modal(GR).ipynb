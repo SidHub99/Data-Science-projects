{
 "cells": [
  {
   "cell_type": "code",
   "execution_count": null,
   "id": "ef0fa25b",
   "metadata": {
    "executionInfo": {
     "elapsed": 9,
     "status": "ok",
     "timestamp": 1683801084948,
     "user": {
      "displayName": "Saqib Usman M Usman Ghani",
      "userId": "14161091020965602543"
     },
     "user_tz": -300
    },
    "id": "ef0fa25b"
   },
   "outputs": [],
   "source": []
  },
  {
   "cell_type": "code",
   "execution_count": 1,
   "id": "0f7ba641",
   "metadata": {
    "executionInfo": {
     "elapsed": 7092,
     "status": "ok",
     "timestamp": 1683801092033,
     "user": {
      "displayName": "Saqib Usman M Usman Ghani",
      "userId": "14161091020965602543"
     },
     "user_tz": -300
    },
    "id": "0f7ba641"
   },
   "outputs": [],
   "source": [
    "import numpy as np\n",
    "\n",
    "import tensorflow_datasets as tfds\n",
    "import tensorflow as tf\n",
    "\n",
    "tfds.disable_progress_bar()"
   ]
  },
  {
   "cell_type": "code",
   "execution_count": 2,
   "id": "0af41b0d",
   "metadata": {
    "executionInfo": {
     "elapsed": 13,
     "status": "ok",
     "timestamp": 1683801092034,
     "user": {
      "displayName": "Saqib Usman M Usman Ghani",
      "userId": "14161091020965602543"
     },
     "user_tz": -300
    },
    "id": "0af41b0d"
   },
   "outputs": [],
   "source": [
    "#pip install tensorflow_datasets"
   ]
  },
  {
   "cell_type": "code",
   "execution_count": 3,
   "id": "589fe6ab",
   "metadata": {
    "executionInfo": {
     "elapsed": 9,
     "status": "ok",
     "timestamp": 1683801092035,
     "user": {
      "displayName": "Saqib Usman M Usman Ghani",
      "userId": "14161091020965602543"
     },
     "user_tz": -300
    },
    "id": "589fe6ab"
   },
   "outputs": [],
   "source": [
    "#!pip install --upgrade tensorflow-datasets"
   ]
  },
  {
   "cell_type": "code",
   "execution_count": 4,
   "id": "dbe579b0",
   "metadata": {
    "executionInfo": {
     "elapsed": 10,
     "status": "ok",
     "timestamp": 1683801092037,
     "user": {
      "displayName": "Saqib Usman M Usman Ghani",
      "userId": "14161091020965602543"
     },
     "user_tz": -300
    },
    "id": "dbe579b0"
   },
   "outputs": [],
   "source": [
    "import numpy as np\n",
    "import tensorflow_datasets as tfds\n",
    "import tensorflow as tf\n",
    "tfds.disable_progress_bar()"
   ]
  },
  {
   "cell_type": "code",
   "execution_count": 5,
   "id": "d45380e6",
   "metadata": {
    "colab": {
     "base_uri": "https://localhost:8080/"
    },
    "executionInfo": {
     "elapsed": 55466,
     "status": "ok",
     "timestamp": 1683801148238,
     "user": {
      "displayName": "Saqib Usman M Usman Ghani",
      "userId": "14161091020965602543"
     },
     "user_tz": -300
    },
    "id": "d45380e6",
    "outputId": "f88c80d4-afad-4029-fc5c-ba4b722332f2"
   },
   "outputs": [
    {
     "name": "stdout",
     "output_type": "stream",
     "text": [
      "Downloading and preparing dataset 80.23 MiB (download: 80.23 MiB, generated: Unknown size, total: 80.23 MiB) to /root/tensorflow_datasets/imdb_reviews/plain_text/1.0.0...\n",
      "Dataset imdb_reviews downloaded and prepared to /root/tensorflow_datasets/imdb_reviews/plain_text/1.0.0. Subsequent calls will reuse this data.\n"
     ]
    },
    {
     "data": {
      "text/plain": [
       "(TensorSpec(shape=(), dtype=tf.string, name=None),\n",
       " TensorSpec(shape=(), dtype=tf.int64, name=None))"
      ]
     },
     "execution_count": 5,
     "metadata": {},
     "output_type": "execute_result"
    }
   ],
   "source": [
    "dataset, info = tfds.load('imdb_reviews', with_info=True, as_supervised=True)\n",
    "train_dataset, test_dataset = dataset['train'], dataset['test']\n",
    "train_dataset.element_spec"
   ]
  },
  {
   "cell_type": "code",
   "execution_count": 6,
   "id": "22a357a9",
   "metadata": {
    "executionInfo": {
     "elapsed": 15,
     "status": "ok",
     "timestamp": 1683801148239,
     "user": {
      "displayName": "Saqib Usman M Usman Ghani",
      "userId": "14161091020965602543"
     },
     "user_tz": -300
    },
    "id": "22a357a9"
   },
   "outputs": [],
   "source": [
    "#pip install kaggle"
   ]
  },
  {
   "cell_type": "code",
   "execution_count": 7,
   "id": "988c6a15",
   "metadata": {
    "executionInfo": {
     "elapsed": 13,
     "status": "ok",
     "timestamp": 1683801148239,
     "user": {
      "displayName": "Saqib Usman M Usman Ghani",
      "userId": "14161091020965602543"
     },
     "user_tz": -300
    },
    "id": "988c6a15"
   },
   "outputs": [],
   "source": [
    "#kaggle kernels output \"tanulsingh077/twitter-sentiment-extaction-analysis-eda-and-model\" -p F:/Sentiment\n"
   ]
  },
  {
   "cell_type": "code",
   "execution_count": 8,
   "id": "047cf6b5",
   "metadata": {
    "executionInfo": {
     "elapsed": 12,
     "status": "ok",
     "timestamp": 1683801148240,
     "user": {
      "displayName": "Saqib Usman M Usman Ghani",
      "userId": "14161091020965602543"
     },
     "user_tz": -300
    },
    "id": "047cf6b5"
   },
   "outputs": [],
   "source": [
    "#for example,label in train_dataset.take(1):\n",
    "   # print(label.numpy())\n",
    "    #print(label.numpy())\n",
    "    "
   ]
  },
  {
   "cell_type": "code",
   "execution_count": 9,
   "id": "bbe8e943",
   "metadata": {
    "executionInfo": {
     "elapsed": 11,
     "status": "ok",
     "timestamp": 1683801148240,
     "user": {
      "displayName": "Saqib Usman M Usman Ghani",
      "userId": "14161091020965602543"
     },
     "user_tz": -300
    },
    "id": "bbe8e943"
   },
   "outputs": [],
   "source": [
    "BUFFER_SIZE = 10000\n",
    "BATCH_SIZE = 64"
   ]
  },
  {
   "cell_type": "code",
   "execution_count": 10,
   "id": "66f7b147",
   "metadata": {
    "executionInfo": {
     "elapsed": 12,
     "status": "ok",
     "timestamp": 1683801148241,
     "user": {
      "displayName": "Saqib Usman M Usman Ghani",
      "userId": "14161091020965602543"
     },
     "user_tz": -300
    },
    "id": "66f7b147"
   },
   "outputs": [],
   "source": [
    "train_dataset = train_dataset.shuffle(BUFFER_SIZE).batch(BATCH_SIZE).prefetch(tf.data.AUTOTUNE)\n",
    "test_dataset = test_dataset.batch(BATCH_SIZE).prefetch(tf.data.AUTOTUNE)"
   ]
  },
  {
   "cell_type": "code",
   "execution_count": 11,
   "id": "d432e39b",
   "metadata": {
    "colab": {
     "base_uri": "https://localhost:8080/"
    },
    "executionInfo": {
     "elapsed": 1026,
     "status": "ok",
     "timestamp": 1683801149257,
     "user": {
      "displayName": "Saqib Usman M Usman Ghani",
      "userId": "14161091020965602543"
     },
     "user_tz": -300
    },
    "id": "d432e39b",
    "outputId": "44ddbaef-f714-43f1-d746-2fc4962bd0d1"
   },
   "outputs": [
    {
     "name": "stdout",
     "output_type": "stream",
     "text": [
      "texts:  [b'On the day of the California Presidential Primary, between midnight and 1:00 AM, the spy Victor Rovner sends a message from Kuala Lumpur to USA. Meanwhile, in Los Angeles, the Federal Agent Jack Bauer has returned to his family and is having trouble at home with his teenage daughter Kimberly, who blames her mother Teri for putting Jack out of the house. Teri and Jack decide to have a serious conversation with Kim, and they discover that the girl has run away home. While trying to solve his domestic problem, Jack is called to his Counter Terrorist Unit by his colleague Nina Myers for a meeting with their chief Richard Walsh, who discloses a menace against the life of Senator David Palmer, who is running for president, and they need to find the shooter. Later, Walsh has a private conversation with Jack and tells that there is a conspiracy in the agency against David Palmer, and assigns Jack to find the conspirators. When an airplane explodes over the Mojave Desert, Jack has one additional issue to worry about.<br /><br />The first episode of \"24\" is a promising beginning of a successful series, introducing Jack Bauer. This is the first time that I have watched this show and I confess that I liked what I have seen: a complex and dramatic story, with multiple and realistic characters. Kiefer Sutherland is perfect in the role of a family man and a reliable agent in charge of three difficult missions at the same time: find a killer to protect an important politician; find a traitor in his agency; and find his teenage daughter, who is getting in trouble, while trying to save his marriage. My vote is eight.<br /><br />Title (Brazil): \"12:00\"'\n",
      " b\"The Lady in Cement is a veritable course on social anthropology of the late 60's. The writing, not the acting, is at center stage. Did I say - pure camp! Prepare to be offended if you are female or gay. Broad and dame are standard terms and gay baiting and bashing are represented for what they were in the day (camp- wise). Most of the lines are tossed off although there are wonderful performances by a very few outstanding character actors. The action scenes are mundane but it is fun to see Dan Blocker play a tough guy who likes bashing toughs. And Lanie Kazan and Racquel Welsh are at the voluptuous peak of their careers. Amazing to note they were both 28 years old and Mr. Sinatra was 53. The musical score, wait . . . was there a score? Well, you get the point. Watch it with friends who want a good laugh. it's full of them.\"\n",
      " b\"My husband and I went to see this movie, being the horror movie buffs that we are. Two hours later I found myself wanting both my money and time back. I was so disappointed. The teasers for this film basically contained the best points of the film. There was nothing very scary about the film other than good timing on surprise entrances, etc. I found most of the 'scary' parts to be more comical than anything. After viewing other movies based on the works of Japanese writers, I have to conclude that what is deemed frightening in Japan is not what is frightening here in the US. My advice: If you are a fan of true horror movies, save yourself the pain of sitting through this one. I can't really say that I would recommend renting it either, unless you have a free rental coming to you.\"]\n",
      "\n",
      "labels:  [1 0 0]\n"
     ]
    }
   ],
   "source": [
    "for example, label in train_dataset.take(1):\n",
    "    print('texts: ', example.numpy()[:3])\n",
    "    print()\n",
    "    print('labels: ', label.numpy()[:3])"
   ]
  },
  {
   "cell_type": "code",
   "execution_count": 12,
   "id": "44caef63",
   "metadata": {
    "executionInfo": {
     "elapsed": 3149,
     "status": "ok",
     "timestamp": 1683801152402,
     "user": {
      "displayName": "Saqib Usman M Usman Ghani",
      "userId": "14161091020965602543"
     },
     "user_tz": -300
    },
    "id": "44caef63"
   },
   "outputs": [],
   "source": [
    "VOCAB_SIZE = 1000\n",
    "encoder = tf.keras.layers.TextVectorization(\n",
    "    max_tokens=VOCAB_SIZE)\n",
    "encoder.adapt(train_dataset.map(lambda text, label: text))"
   ]
  },
  {
   "cell_type": "code",
   "execution_count": 13,
   "id": "cc571eb2",
   "metadata": {
    "colab": {
     "base_uri": "https://localhost:8080/"
    },
    "executionInfo": {
     "elapsed": 7,
     "status": "ok",
     "timestamp": 1683801152403,
     "user": {
      "displayName": "Saqib Usman M Usman Ghani",
      "userId": "14161091020965602543"
     },
     "user_tz": -300
    },
    "id": "cc571eb2",
    "outputId": "ee34b419-b71a-4928-c6d3-6e25c6c5eae5"
   },
   "outputs": [
    {
     "data": {
      "text/plain": [
       "array(['', '[UNK]', 'the', 'and', 'a', 'of', 'to', 'is', 'in', 'it', 'i',\n",
       "       'this', 'that', 'br', 'was', 'as', 'for', 'with', 'movie', 'but'],\n",
       "      dtype='<U14')"
      ]
     },
     "execution_count": 13,
     "metadata": {},
     "output_type": "execute_result"
    }
   ],
   "source": [
    "vocab = np.array(encoder.get_vocabulary())\n",
    "vocab[:20]"
   ]
  },
  {
   "cell_type": "code",
   "execution_count": 14,
   "id": "c6f01ab9",
   "metadata": {
    "colab": {
     "base_uri": "https://localhost:8080/"
    },
    "executionInfo": {
     "elapsed": 1136,
     "status": "ok",
     "timestamp": 1683801153535,
     "user": {
      "displayName": "Saqib Usman M Usman Ghani",
      "userId": "14161091020965602543"
     },
     "user_tz": -300
    },
    "id": "c6f01ab9",
    "outputId": "4b124db5-c35e-4440-af17-36547428f66c"
   },
   "outputs": [
    {
     "data": {
      "text/plain": [
       "array([[ 21,   2, 262, ...,   0,   0,   0],\n",
       "       [  2, 742,   8, ...,   0,   0,   0],\n",
       "       [ 56, 677,   3, ...,   0,   0,   0]])"
      ]
     },
     "execution_count": 14,
     "metadata": {},
     "output_type": "execute_result"
    }
   ],
   "source": [
    "encoded_example = encoder(example)[:3].numpy()\n",
    "encoded_example"
   ]
  },
  {
   "cell_type": "code",
   "execution_count": 15,
   "id": "92990f0b",
   "metadata": {
    "colab": {
     "base_uri": "https://localhost:8080/"
    },
    "executionInfo": {
     "elapsed": 12,
     "status": "ok",
     "timestamp": 1683801153536,
     "user": {
      "displayName": "Saqib Usman M Usman Ghani",
      "userId": "14161091020965602543"
     },
     "user_tz": -300
    },
    "id": "92990f0b",
    "outputId": "9a3e8cba-22fc-4364-9a8e-aec5613e59e0"
   },
   "outputs": [
    {
     "name": "stdout",
     "output_type": "stream",
     "text": [
      "Original:  b'On the day of the California Presidential Primary, between midnight and 1:00 AM, the spy Victor Rovner sends a message from Kuala Lumpur to USA. Meanwhile, in Los Angeles, the Federal Agent Jack Bauer has returned to his family and is having trouble at home with his teenage daughter Kimberly, who blames her mother Teri for putting Jack out of the house. Teri and Jack decide to have a serious conversation with Kim, and they discover that the girl has run away home. While trying to solve his domestic problem, Jack is called to his Counter Terrorist Unit by his colleague Nina Myers for a meeting with their chief Richard Walsh, who discloses a menace against the life of Senator David Palmer, who is running for president, and they need to find the shooter. Later, Walsh has a private conversation with Jack and tells that there is a conspiracy in the agency against David Palmer, and assigns Jack to find the conspirators. When an airplane explodes over the Mojave Desert, Jack has one additional issue to worry about.<br /><br />The first episode of \"24\" is a promising beginning of a successful series, introducing Jack Bauer. This is the first time that I have watched this show and I confess that I liked what I have seen: a complex and dramatic story, with multiple and realistic characters. Kiefer Sutherland is perfect in the role of a family man and a reliable agent in charge of three difficult missions at the same time: find a killer to protect an important politician; find a traitor in his agency; and find his teenage daughter, who is getting in trouble, while trying to save his marriage. My vote is eight.<br /><br />Title (Brazil): \"12:00\"'\n",
      "Round-trip:  on the day of the [UNK] [UNK] [UNK] between [UNK] and [UNK] am the [UNK] [UNK] [UNK] [UNK] a message from [UNK] [UNK] to [UNK] [UNK] in [UNK] [UNK] the [UNK] [UNK] jack [UNK] has [UNK] to his family and is having [UNK] at home with his [UNK] daughter [UNK] who [UNK] her mother [UNK] for [UNK] jack out of the house [UNK] and jack [UNK] to have a serious [UNK] with [UNK] and they [UNK] that the girl has run away home while trying to [UNK] his [UNK] problem jack is called to his [UNK] [UNK] [UNK] by his [UNK] [UNK] [UNK] for a [UNK] with their [UNK] richard [UNK] who [UNK] a [UNK] against the life of [UNK] david [UNK] who is running for [UNK] and they need to find the [UNK] later [UNK] has a [UNK] [UNK] with jack and tells that there is a [UNK] in the [UNK] against david [UNK] and [UNK] jack to find the [UNK] when an [UNK] [UNK] over the [UNK] [UNK] jack has one [UNK] [UNK] to [UNK] [UNK] br the first episode of [UNK] is a [UNK] beginning of a [UNK] series [UNK] jack [UNK] this is the first time that i have watched this show and i [UNK] that i liked what i have seen a [UNK] and dramatic story with [UNK] and realistic characters [UNK] [UNK] is perfect in the role of a family man and a [UNK] [UNK] in [UNK] of three difficult [UNK] at the same time find a killer to [UNK] an important [UNK] find a [UNK] in his [UNK] and find his [UNK] daughter who is getting in [UNK] while trying to save his [UNK] my [UNK] is [UNK] br title [UNK] [UNK]                                                                                                                                                                                                                                                                                                                                                                                                                                                                                                                                                                                                                                                                                                                                      \n",
      "\n",
      "Original:  b\"The Lady in Cement is a veritable course on social anthropology of the late 60's. The writing, not the acting, is at center stage. Did I say - pure camp! Prepare to be offended if you are female or gay. Broad and dame are standard terms and gay baiting and bashing are represented for what they were in the day (camp- wise). Most of the lines are tossed off although there are wonderful performances by a very few outstanding character actors. The action scenes are mundane but it is fun to see Dan Blocker play a tough guy who likes bashing toughs. And Lanie Kazan and Racquel Welsh are at the voluptuous peak of their careers. Amazing to note they were both 28 years old and Mr. Sinatra was 53. The musical score, wait . . . was there a score? Well, you get the point. Watch it with friends who want a good laugh. it's full of them.\"\n",
      "Round-trip:  the lady in [UNK] is a [UNK] course on [UNK] [UNK] of the late [UNK] the writing not the acting is at [UNK] stage did i say [UNK] [UNK] [UNK] to be [UNK] if you are female or [UNK] [UNK] and [UNK] are [UNK] [UNK] and [UNK] [UNK] and [UNK] are [UNK] for what they were in the day [UNK] [UNK] most of the lines are [UNK] off although there are wonderful performances by a very few [UNK] character actors the action scenes are [UNK] but it is fun to see [UNK] [UNK] play a [UNK] guy who [UNK] [UNK] [UNK] and [UNK] [UNK] and [UNK] [UNK] are at the [UNK] [UNK] of their [UNK] amazing to note they were both [UNK] years old and mr [UNK] was [UNK] the musical score wait was there a score well you get the point watch it with friends who want a good laugh its full of them                                                                                                                                                                                                                                                                                                                                                                                                                                                                                                                                                                                                                                                                                                                                                                                                                                                                            \n",
      "\n",
      "Original:  b\"My husband and I went to see this movie, being the horror movie buffs that we are. Two hours later I found myself wanting both my money and time back. I was so disappointed. The teasers for this film basically contained the best points of the film. There was nothing very scary about the film other than good timing on surprise entrances, etc. I found most of the 'scary' parts to be more comical than anything. After viewing other movies based on the works of Japanese writers, I have to conclude that what is deemed frightening in Japan is not what is frightening here in the US. My advice: If you are a fan of true horror movies, save yourself the pain of sitting through this one. I can't really say that I would recommend renting it either, unless you have a free rental coming to you.\"\n",
      "Round-trip:  my husband and i went to see this movie being the horror movie [UNK] that we are two hours later i found myself [UNK] both my money and time back i was so disappointed the [UNK] for this film basically [UNK] the best points of the film there was nothing very scary about the film other than good [UNK] on surprise [UNK] etc i found most of the scary parts to be more [UNK] than anything after viewing other movies based on the works of japanese writers i have to [UNK] that what is [UNK] [UNK] in [UNK] is not what is [UNK] here in the us my [UNK] if you are a fan of true horror movies save yourself the [UNK] of [UNK] through this one i cant really say that i would recommend [UNK] it either unless you have a free [UNK] coming to you                                                                                                                                                                                                                                                                                                                                                                                                                                                                                                                                                                                                                                                                                                                                                                                                                                                                                    \n",
      "\n"
     ]
    }
   ],
   "source": [
    "for n in range(3):\n",
    "    print(\"Original: \", example[n].numpy())\n",
    "    print(\"Round-trip: \", \" \".join(vocab[encoded_example[n]]))\n",
    "    print()"
   ]
  },
  {
   "cell_type": "code",
   "execution_count": 16,
   "id": "8fe9c22e",
   "metadata": {
    "executionInfo": {
     "elapsed": 3164,
     "status": "ok",
     "timestamp": 1683801156693,
     "user": {
      "displayName": "Saqib Usman M Usman Ghani",
      "userId": "14161091020965602543"
     },
     "user_tz": -300
    },
    "id": "8fe9c22e"
   },
   "outputs": [],
   "source": [
    "model = tf.keras.Sequential([\n",
    "    encoder,\n",
    "    tf.keras.layers.Embedding(len(encoder.get_vocabulary()), 64, mask_zero=True),\n",
    "    tf.keras.layers.Bidirectional(tf.keras.layers.LSTM(64,  return_sequences=True)),\n",
    "    tf.keras.layers.Bidirectional(tf.keras.layers.LSTM(32)),\n",
    "    tf.keras.layers.Dense(64, activation='relu'),\n",
    "    tf.keras.layers.Dropout(0.5),\n",
    "    tf.keras.layers.Dense(1)\n",
    "])"
   ]
  },
  {
   "cell_type": "code",
   "execution_count": 17,
   "id": "45de145b",
   "metadata": {
    "colab": {
     "base_uri": "https://localhost:8080/"
    },
    "executionInfo": {
     "elapsed": 18,
     "status": "ok",
     "timestamp": 1683801156694,
     "user": {
      "displayName": "Saqib Usman M Usman Ghani",
      "userId": "14161091020965602543"
     },
     "user_tz": -300
    },
    "id": "45de145b",
    "outputId": "82203b8f-1e6b-4955-c564-22b8da1b0736"
   },
   "outputs": [
    {
     "name": "stdout",
     "output_type": "stream",
     "text": [
      "[False, True, True, True, True, True, True]\n"
     ]
    }
   ],
   "source": [
    "print([layer.supports_masking for layer in model.layers])"
   ]
  },
  {
   "cell_type": "code",
   "execution_count": 18,
   "id": "fde69ccf",
   "metadata": {
    "colab": {
     "base_uri": "https://localhost:8080/"
    },
    "executionInfo": {
     "elapsed": 10815,
     "status": "ok",
     "timestamp": 1683801167493,
     "user": {
      "displayName": "Saqib Usman M Usman Ghani",
      "userId": "14161091020965602543"
     },
     "user_tz": -300
    },
    "id": "fde69ccf",
    "outputId": "74f48a89-e97d-4bb5-85c3-134f1e76e59e"
   },
   "outputs": [
    {
     "name": "stdout",
     "output_type": "stream",
     "text": [
      "1/1 [==============================] - 10s 10s/step\n",
      "[-0.00442302]\n"
     ]
    }
   ],
   "source": [
    "# predict on a sample text without padding.\n",
    "\n",
    "sample_text = ('The movie was cool. The animation and the graphics '\n",
    "               'were out of this world. I would recommend this movie.')\n",
    "predictions = model.predict(np.array([sample_text]))\n",
    "print(predictions[0])"
   ]
  },
  {
   "cell_type": "code",
   "execution_count": 19,
   "id": "f6ee773d",
   "metadata": {
    "colab": {
     "base_uri": "https://localhost:8080/"
    },
    "executionInfo": {
     "elapsed": 853,
     "status": "ok",
     "timestamp": 1683801168332,
     "user": {
      "displayName": "Saqib Usman M Usman Ghani",
      "userId": "14161091020965602543"
     },
     "user_tz": -300
    },
    "id": "f6ee773d",
    "outputId": "48049176-bd28-4ffe-cf22-90f250f2090b"
   },
   "outputs": [
    {
     "name": "stdout",
     "output_type": "stream",
     "text": [
      "1/1 [==============================] - 0s 122ms/step\n",
      "[-0.00442302]\n"
     ]
    }
   ],
   "source": [
    "# predict on a sample text with padding\n",
    "\n",
    "padding = \"the \" * 2000\n",
    "predictions = model.predict(np.array([sample_text, padding]))\n",
    "print(predictions[0])"
   ]
  },
  {
   "cell_type": "code",
   "execution_count": 20,
   "id": "8ed61176",
   "metadata": {
    "executionInfo": {
     "elapsed": 14,
     "status": "ok",
     "timestamp": 1683801168332,
     "user": {
      "displayName": "Saqib Usman M Usman Ghani",
      "userId": "14161091020965602543"
     },
     "user_tz": -300
    },
    "id": "8ed61176"
   },
   "outputs": [],
   "source": [
    "model.compile(loss=tf.keras.losses.BinaryCrossentropy(from_logits=True),\n",
    "              optimizer=tf.keras.optimizers.Adam(1e-4),\n",
    "              metrics=['accuracy'])"
   ]
  },
  {
   "cell_type": "code",
   "execution_count": 21,
   "id": "f97cbaf1",
   "metadata": {
    "colab": {
     "base_uri": "https://localhost:8080/"
    },
    "executionInfo": {
     "elapsed": 780075,
     "status": "ok",
     "timestamp": 1683801948394,
     "user": {
      "displayName": "Saqib Usman M Usman Ghani",
      "userId": "14161091020965602543"
     },
     "user_tz": -300
    },
    "id": "f97cbaf1",
    "outputId": "0fb7ad72-a2d5-41ae-fb58-48de601d69b5"
   },
   "outputs": [
    {
     "name": "stdout",
     "output_type": "stream",
     "text": [
      "Epoch 1/10\n",
      "391/391 [==============================] - 94s 187ms/step - loss: 0.6129 - accuracy: 0.6045 - val_loss: 0.4197 - val_accuracy: 0.8177\n",
      "Epoch 2/10\n",
      "391/391 [==============================] - 54s 138ms/step - loss: 0.3826 - accuracy: 0.8326 - val_loss: 0.3884 - val_accuracy: 0.8552\n",
      "Epoch 3/10\n",
      "391/391 [==============================] - 54s 137ms/step - loss: 0.3393 - accuracy: 0.8575 - val_loss: 0.3398 - val_accuracy: 0.8385\n",
      "Epoch 4/10\n",
      "391/391 [==============================] - 53s 136ms/step - loss: 0.3251 - accuracy: 0.8611 - val_loss: 0.3399 - val_accuracy: 0.8552\n",
      "Epoch 5/10\n",
      "391/391 [==============================] - 55s 139ms/step - loss: 0.3148 - accuracy: 0.8653 - val_loss: 0.3247 - val_accuracy: 0.8536\n",
      "Epoch 6/10\n",
      "391/391 [==============================] - 55s 139ms/step - loss: 0.3096 - accuracy: 0.8684 - val_loss: 0.3214 - val_accuracy: 0.8526\n",
      "Epoch 7/10\n",
      "391/391 [==============================] - 53s 135ms/step - loss: 0.3056 - accuracy: 0.8694 - val_loss: 0.3253 - val_accuracy: 0.8422\n",
      "Epoch 8/10\n",
      "391/391 [==============================] - 53s 135ms/step - loss: 0.3032 - accuracy: 0.8718 - val_loss: 0.3153 - val_accuracy: 0.8594\n",
      "Epoch 9/10\n",
      "391/391 [==============================] - 53s 135ms/step - loss: 0.3005 - accuracy: 0.8712 - val_loss: 0.3225 - val_accuracy: 0.8526\n",
      "Epoch 10/10\n",
      "391/391 [==============================] - 53s 134ms/step - loss: 0.2983 - accuracy: 0.8731 - val_loss: 0.3223 - val_accuracy: 0.8599\n"
     ]
    }
   ],
   "source": [
    "history = model.fit(train_dataset, epochs=10,\n",
    "                    validation_data=test_dataset,\n",
    "                    validation_steps=30)\n"
   ]
  },
  {
   "cell_type": "code",
   "execution_count": 22,
   "id": "2vRxVf9hIWLu",
   "metadata": {
    "colab": {
     "base_uri": "https://localhost:8080/"
    },
    "executionInfo": {
     "elapsed": 33904,
     "status": "ok",
     "timestamp": 1683801982272,
     "user": {
      "displayName": "Saqib Usman M Usman Ghani",
      "userId": "14161091020965602543"
     },
     "user_tz": -300
    },
    "id": "2vRxVf9hIWLu",
    "outputId": "b51dbee4-78b3-4200-f7a6-d588b81a6b31"
   },
   "outputs": [
    {
     "name": "stdout",
     "output_type": "stream",
     "text": [
      "Mounted at /content/drive\n"
     ]
    }
   ],
   "source": [
    "from google.colab import drive\n",
    "drive.mount('/content/drive')"
   ]
  },
  {
   "cell_type": "code",
   "execution_count": 26,
   "id": "b32d2f8f",
   "metadata": {
    "colab": {
     "base_uri": "https://localhost:8080/"
    },
    "executionInfo": {
     "elapsed": 55484,
     "status": "ok",
     "timestamp": 1683803049209,
     "user": {
      "displayName": "Saqib Usman M Usman Ghani",
      "userId": "14161091020965602543"
     },
     "user_tz": -300
    },
    "id": "b32d2f8f",
    "outputId": "1bc309b5-489a-4f22-a70d-6b2354119fd8"
   },
   "outputs": [
    {
     "name": "stderr",
     "output_type": "stream",
     "text": [
      "WARNING:absl:Found untraced functions such as lstm_cell_1_layer_call_fn, lstm_cell_1_layer_call_and_return_conditional_losses, lstm_cell_2_layer_call_fn, lstm_cell_2_layer_call_and_return_conditional_losses, lstm_cell_4_layer_call_fn while saving (showing 5 of 8). These functions will not be directly callable after loading.\n"
     ]
    }
   ],
   "source": [
    "model.save('/content/drive/My Drive/Feedback_Modal/feedback_model') "
   ]
  },
  {
   "cell_type": "code",
   "execution_count": 34,
   "id": "D12ZMlr3OK4B",
   "metadata": {
    "executionInfo": {
     "elapsed": 24107,
     "status": "ok",
     "timestamp": 1683804288345,
     "user": {
      "displayName": "Saqib Usman M Usman Ghani",
      "userId": "14161091020965602543"
     },
     "user_tz": -300
    },
    "id": "D12ZMlr3OK4B"
   },
   "outputs": [],
   "source": [
    "new_model = tf.keras.models.load_model('/content/drive/My Drive/Feedback_Modal/feedback_model')\n",
    "\n"
   ]
  },
  {
   "cell_type": "code",
   "execution_count": 35,
   "id": "tjxBqtbjqy1V",
   "metadata": {
    "colab": {
     "base_uri": "https://localhost:8080/"
    },
    "executionInfo": {
     "elapsed": 68825,
     "status": "ok",
     "timestamp": 1683804390981,
     "user": {
      "displayName": "Saqib Usman M Usman Ghani",
      "userId": "14161091020965602543"
     },
     "user_tz": -300
    },
    "id": "tjxBqtbjqy1V",
    "outputId": "5c5804c2-bdf0-46f8-d0a5-388ff8d1fde6"
   },
   "outputs": [
    {
     "name": "stdout",
     "output_type": "stream",
     "text": [
      "391/391 [==============================] - 29s 60ms/step - loss: 0.3196 - accuracy: 0.8637\n",
      "Test Loss: 0.3196459412574768\n",
      "Test Accuracy: 0.8637199997901917\n",
      "Model: \"sequential\"\n",
      "_________________________________________________________________\n",
      " Layer (type)                Output Shape              Param #   \n",
      "=================================================================\n",
      " text_vectorization (TextVec  (None, None)             0         \n",
      " torization)                                                     \n",
      "                                                                 \n",
      " embedding (Embedding)       (None, None, 64)          64000     \n",
      "                                                                 \n",
      " bidirectional (Bidirectiona  (None, None, 128)        66048     \n",
      " l)                                                              \n",
      "                                                                 \n",
      " bidirectional_1 (Bidirectio  (None, 64)               41216     \n",
      " nal)                                                            \n",
      "                                                                 \n",
      " dense (Dense)               (None, 64)                4160      \n",
      "                                                                 \n",
      " dropout (Dropout)           (None, 64)                0         \n",
      "                                                                 \n",
      " dense_1 (Dense)             (None, 1)                 65        \n",
      "                                                                 \n",
      "=================================================================\n",
      "Total params: 175,489\n",
      "Trainable params: 175,489\n",
      "Non-trainable params: 0\n",
      "_________________________________________________________________\n"
     ]
    }
   ],
   "source": [
    "new_model = tf.keras.models.load_model('/content/drive/My Drive/Feedback_Modal/feedback_model')\n",
    "test_loss, test_acc = new_model.evaluate(test_dataset)\n",
    "\n",
    "print('Test Loss:', test_loss)\n",
    "print('Test Accuracy:', test_acc)\n",
    "# Check its architecture\n",
    "new_model.summary()"
   ]
  },
  {
   "cell_type": "code",
   "execution_count": 36,
   "id": "tMyk5OvHKRb4",
   "metadata": {
    "colab": {
     "base_uri": "https://localhost:8080/"
    },
    "executionInfo": {
     "elapsed": 4793,
     "status": "ok",
     "timestamp": 1683804426699,
     "user": {
      "displayName": "Saqib Usman M Usman Ghani",
      "userId": "14161091020965602543"
     },
     "user_tz": -300
    },
    "id": "tMyk5OvHKRb4",
    "outputId": "ea5e0271-8419-4a45-f713-d1ced7d12d92"
   },
   "outputs": [
    {
     "name": "stdout",
     "output_type": "stream",
     "text": [
      "1/1 [==============================] - 5s 5s/step\n",
      "[[-1.1046731]]\n",
      "1/1 [==============================] - 0s 26ms/step\n",
      "[[0.22910622]]\n",
      "Good Review\n"
     ]
    }
   ],
   "source": [
    "# predict on a sample text without padding.\n",
    "\n",
    "sample_text = ('The wedding hall was very bad and the organizers were not professional.')\n",
    "predictions = model.predict(np.array([sample_text]))\n",
    "print(predictions)\n",
    "\n",
    "sample_text = ('The wedding hall was good but the overall event was exciting.')\n",
    "predictions = model.predict(np.array([sample_text]))\n",
    "print(predictions)\n",
    "\n",
    "if(predictions>(-0.4)):\n",
    "  print(\"Good Review\")\n",
    "\n",
    "if(predictions<(-0.4)):\n",
    "  print(\"Bad Review\")\n"
   ]
  },
  {
   "cell_type": "code",
   "execution_count": 37,
   "id": "bzpeOA3fKeXa",
   "metadata": {
    "colab": {
     "base_uri": "https://localhost:8080/",
     "height": 512
    },
    "executionInfo": {
     "elapsed": 769,
     "status": "ok",
     "timestamp": 1683804439265,
     "user": {
      "displayName": "Saqib Usman M Usman Ghani",
      "userId": "14161091020965602543"
     },
     "user_tz": -300
    },
    "id": "bzpeOA3fKeXa",
    "outputId": "3cd9e7c3-bc9d-4dd2-a43f-ac00f456de8c"
   },
   "outputs": [
    {
     "data": {
      "image/png": "[encoded data removed]",
      "text/plain": [
       "<Figure size 1600x600 with 2 Axes>"
      ]
     },
     "metadata": {},
     "output_type": "display_data"
    }
   ],
   "source": [
    "import matplotlib.pyplot as plt\n",
    "def plot_graphs(history, metric):\n",
    "  plt.plot(history.history[metric])\n",
    "  plt.plot(history.history['val_'+metric], '')\n",
    "  plt.xlabel(\"Epochs\")\n",
    "  plt.ylabel(metric)\n",
    "  plt.legend([metric, 'val_'+metric])\n",
    "  \n",
    "plt.figure(figsize=(16, 6))\n",
    "plt.subplot(1, 2, 1)\n",
    "plot_graphs(history, 'accuracy')\n",
    "plt.subplot(1, 2, 2)\n",
    "plot_graphs(history, 'loss')"
   ]
  },
  {
   "cell_type": "code",
   "execution_count": null,
   "id": "7kdDo34i_Daa",
   "metadata": {
    "executionInfo": {
     "elapsed": 17,
     "status": "aborted",
     "timestamp": 1683802032502,
     "user": {
      "displayName": "Saqib Usman M Usman Ghani",
      "userId": "14161091020965602543"
     },
     "user_tz": -300
    },
    "id": "7kdDo34i_Daa"
   },
   "outputs": [],
   "source": []
  }
 ],
 "metadata": {
  "accelerator": "GPU",
  "colab": {
   "provenance": []
  },
  "gpuClass": "standard",
  "kernelspec": {
   "display_name": "Python 3",
   "language": "python",
   "name": "python3"
  },
  "language_info": {
   "codemirror_mode": {
    "name": "ipython",
    "version": 3
   },
   "file_extension": ".py",
   "mimetype": "text/x-python",
   "name": "python",
   "nbconvert_exporter": "python",
   "pygments_lexer": "ipython3",
   "version": "3.8.8"
  }
 },
 "nbformat": 4,
 "nbformat_minor": 5
}
