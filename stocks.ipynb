{
 "cells": [
  {
   "cell_type": "code",
   "execution_count": 1,
   "id": "3b90dad1",
   "metadata": {},
   "outputs": [],
   "source": [
    "import os\n",
    "import gc\n",
    "import warnings\n",
    "\n",
    "import pandas as pd \n",
    "import numpy as np \n",
    "import matplotlib.pyplot as plt \n",
    "import seaborn as sns\n",
    "\n"
   ]
  },
  {
   "cell_type": "code",
   "execution_count": 2,
   "id": "6b56f9d6",
   "metadata": {},
   "outputs": [
    {
     "name": "stderr",
     "output_type": "stream",
     "text": [
      "C:\\Users\\User\\anaconda3\\lib\\site-packages\\IPython\\core\\interactiveshell.py:3165: DtypeWarning: Columns (14,15,16,17,18,19,42,44) have mixed types.Specify dtype option on import or set low_memory=False.\n",
      "  has_raised = await self.run_ast_nodes(code_ast.body, cell_name,\n",
      "C:\\Users\\User\\anaconda3\\lib\\site-packages\\IPython\\core\\interactiveshell.py:3165: DtypeWarning: Columns (7,8,9,10) have mixed types.Specify dtype option on import or set low_memory=False.\n",
      "  has_raised = await self.run_ast_nodes(code_ast.body, cell_name,\n"
     ]
    }
   ],
   "source": [
    "fin=pd.read_csv('financials.csv')\n",
    "opt=pd.read_csv('options.csv')\n",
    "sec=pd.read_csv('secondary_stock_prices.csv')\n",
    "stock=pd.read_csv('stock_prices.csv')\n",
    "trades=pd.read_csv('trades.csv')"
   ]
  },
  {
   "cell_type": "code",
   "execution_count": 3,
   "id": "0a4fadfe",
   "metadata": {},
   "outputs": [
    {
     "data": {
      "text/html": [
       "<div>\n",
       "<style scoped>\n",
       "    .dataframe tbody tr th:only-of-type {\n",
       "        vertical-align: middle;\n",
       "    }\n",
       "\n",
       "    .dataframe tbody tr th {\n",
       "        vertical-align: top;\n",
       "    }\n",
       "\n",
       "    .dataframe thead th {\n",
       "        text-align: right;\n",
       "    }\n",
       "</style>\n",
       "<table border=\"1\" class=\"dataframe\">\n",
       "  <thead>\n",
       "    <tr style=\"text-align: right;\">\n",
       "      <th></th>\n",
       "      <th>DisclosureNumber</th>\n",
       "      <th>DateCode</th>\n",
       "      <th>Date</th>\n",
       "      <th>SecuritiesCode</th>\n",
       "      <th>DisclosedDate</th>\n",
       "      <th>DisclosedTime</th>\n",
       "      <th>DisclosedUnixTime</th>\n",
       "      <th>TypeOfDocument</th>\n",
       "      <th>CurrentPeriodEndDate</th>\n",
       "      <th>TypeOfCurrentPeriod</th>\n",
       "      <th>...</th>\n",
       "      <th>ForecastEarningsPerShare</th>\n",
       "      <th>ApplyingOfSpecificAccountingOfTheQuarterlyFinancialStatements</th>\n",
       "      <th>MaterialChangesInSubsidiaries</th>\n",
       "      <th>ChangesBasedOnRevisionsOfAccountingStandard</th>\n",
       "      <th>ChangesOtherThanOnesBasedOnRevisionsOfAccountingStandard</th>\n",
       "      <th>ChangesInAccountingEstimates</th>\n",
       "      <th>RetrospectiveRestatement</th>\n",
       "      <th>NumberOfIssuedAndOutstandingSharesAtTheEndOfFiscalYearIncludingTreasuryStock</th>\n",
       "      <th>NumberOfTreasuryStockAtTheEndOfFiscalYear</th>\n",
       "      <th>AverageNumberOfShares</th>\n",
       "    </tr>\n",
       "  </thead>\n",
       "  <tbody>\n",
       "    <tr>\n",
       "      <th>0</th>\n",
       "      <td>2.016121e+13</td>\n",
       "      <td>20170104_2753</td>\n",
       "      <td>2017-01-04</td>\n",
       "      <td>2753.0</td>\n",
       "      <td>2017-01-04</td>\n",
       "      <td>07:30:00</td>\n",
       "      <td>1.483483e+09</td>\n",
       "      <td>3QFinancialStatements_Consolidated_JP</td>\n",
       "      <td>2016-12-31</td>\n",
       "      <td>3Q</td>\n",
       "      <td>...</td>\n",
       "      <td>319.76</td>\n",
       "      <td>NaN</td>\n",
       "      <td>False</td>\n",
       "      <td>True</td>\n",
       "      <td>False</td>\n",
       "      <td>False</td>\n",
       "      <td>False</td>\n",
       "      <td>6848800.0</td>\n",
       "      <td>－</td>\n",
       "      <td>6848800.0</td>\n",
       "    </tr>\n",
       "    <tr>\n",
       "      <th>1</th>\n",
       "      <td>2.017010e+13</td>\n",
       "      <td>20170104_3353</td>\n",
       "      <td>2017-01-04</td>\n",
       "      <td>3353.0</td>\n",
       "      <td>2017-01-04</td>\n",
       "      <td>15:00:00</td>\n",
       "      <td>1.483510e+09</td>\n",
       "      <td>3QFinancialStatements_Consolidated_JP</td>\n",
       "      <td>2016-11-30</td>\n",
       "      <td>3Q</td>\n",
       "      <td>...</td>\n",
       "      <td>485.36</td>\n",
       "      <td>NaN</td>\n",
       "      <td>False</td>\n",
       "      <td>True</td>\n",
       "      <td>False</td>\n",
       "      <td>False</td>\n",
       "      <td>False</td>\n",
       "      <td>2035000.0</td>\n",
       "      <td>118917</td>\n",
       "      <td>1916083.0</td>\n",
       "    </tr>\n",
       "    <tr>\n",
       "      <th>2</th>\n",
       "      <td>2.016123e+13</td>\n",
       "      <td>20170104_4575</td>\n",
       "      <td>2017-01-04</td>\n",
       "      <td>4575.0</td>\n",
       "      <td>2017-01-04</td>\n",
       "      <td>12:00:00</td>\n",
       "      <td>1.483499e+09</td>\n",
       "      <td>ForecastRevision</td>\n",
       "      <td>2016-12-31</td>\n",
       "      <td>2Q</td>\n",
       "      <td>...</td>\n",
       "      <td>-93.11</td>\n",
       "      <td>NaN</td>\n",
       "      <td>NaN</td>\n",
       "      <td>NaN</td>\n",
       "      <td>NaN</td>\n",
       "      <td>NaN</td>\n",
       "      <td>NaN</td>\n",
       "      <td>NaN</td>\n",
       "      <td>NaN</td>\n",
       "      <td>NaN</td>\n",
       "    </tr>\n",
       "    <tr>\n",
       "      <th>3</th>\n",
       "      <td>2.017010e+13</td>\n",
       "      <td>20170105_2659</td>\n",
       "      <td>2017-01-05</td>\n",
       "      <td>2659.0</td>\n",
       "      <td>2017-01-05</td>\n",
       "      <td>15:00:00</td>\n",
       "      <td>1.483596e+09</td>\n",
       "      <td>3QFinancialStatements_Consolidated_JP</td>\n",
       "      <td>2016-11-30</td>\n",
       "      <td>3Q</td>\n",
       "      <td>...</td>\n",
       "      <td>285.05</td>\n",
       "      <td>NaN</td>\n",
       "      <td>False</td>\n",
       "      <td>True</td>\n",
       "      <td>False</td>\n",
       "      <td>False</td>\n",
       "      <td>False</td>\n",
       "      <td>31981654.0</td>\n",
       "      <td>18257</td>\n",
       "      <td>31963405.0</td>\n",
       "    </tr>\n",
       "    <tr>\n",
       "      <th>4</th>\n",
       "      <td>2.017011e+13</td>\n",
       "      <td>20170105_3050</td>\n",
       "      <td>2017-01-05</td>\n",
       "      <td>3050.0</td>\n",
       "      <td>2017-01-05</td>\n",
       "      <td>15:30:00</td>\n",
       "      <td>1.483598e+09</td>\n",
       "      <td>ForecastRevision</td>\n",
       "      <td>2017-02-28</td>\n",
       "      <td>FY</td>\n",
       "      <td>...</td>\n",
       "      <td>NaN</td>\n",
       "      <td>NaN</td>\n",
       "      <td>NaN</td>\n",
       "      <td>NaN</td>\n",
       "      <td>NaN</td>\n",
       "      <td>NaN</td>\n",
       "      <td>NaN</td>\n",
       "      <td>NaN</td>\n",
       "      <td>NaN</td>\n",
       "      <td>NaN</td>\n",
       "    </tr>\n",
       "  </tbody>\n",
       "</table>\n",
       "<p>5 rows × 45 columns</p>\n",
       "</div>"
      ],
      "text/plain": [
       "   DisclosureNumber       DateCode        Date  SecuritiesCode DisclosedDate  \\\n",
       "0      2.016121e+13  20170104_2753  2017-01-04          2753.0    2017-01-04   \n",
       "1      2.017010e+13  20170104_3353  2017-01-04          3353.0    2017-01-04   \n",
       "2      2.016123e+13  20170104_4575  2017-01-04          4575.0    2017-01-04   \n",
       "3      2.017010e+13  20170105_2659  2017-01-05          2659.0    2017-01-05   \n",
       "4      2.017011e+13  20170105_3050  2017-01-05          3050.0    2017-01-05   \n",
       "\n",
       "  DisclosedTime  DisclosedUnixTime                         TypeOfDocument  \\\n",
       "0      07:30:00       1.483483e+09  3QFinancialStatements_Consolidated_JP   \n",
       "1      15:00:00       1.483510e+09  3QFinancialStatements_Consolidated_JP   \n",
       "2      12:00:00       1.483499e+09                       ForecastRevision   \n",
       "3      15:00:00       1.483596e+09  3QFinancialStatements_Consolidated_JP   \n",
       "4      15:30:00       1.483598e+09                       ForecastRevision   \n",
       "\n",
       "  CurrentPeriodEndDate TypeOfCurrentPeriod  ... ForecastEarningsPerShare  \\\n",
       "0           2016-12-31                  3Q  ...                   319.76   \n",
       "1           2016-11-30                  3Q  ...                   485.36   \n",
       "2           2016-12-31                  2Q  ...                   -93.11   \n",
       "3           2016-11-30                  3Q  ...                   285.05   \n",
       "4           2017-02-28                  FY  ...                      NaN   \n",
       "\n",
       "  ApplyingOfSpecificAccountingOfTheQuarterlyFinancialStatements  \\\n",
       "0                                                NaN              \n",
       "1                                                NaN              \n",
       "2                                                NaN              \n",
       "3                                                NaN              \n",
       "4                                                NaN              \n",
       "\n",
       "  MaterialChangesInSubsidiaries ChangesBasedOnRevisionsOfAccountingStandard  \\\n",
       "0                         False                                        True   \n",
       "1                         False                                        True   \n",
       "2                           NaN                                         NaN   \n",
       "3                         False                                        True   \n",
       "4                           NaN                                         NaN   \n",
       "\n",
       "  ChangesOtherThanOnesBasedOnRevisionsOfAccountingStandard  \\\n",
       "0                                              False         \n",
       "1                                              False         \n",
       "2                                                NaN         \n",
       "3                                              False         \n",
       "4                                                NaN         \n",
       "\n",
       "  ChangesInAccountingEstimates RetrospectiveRestatement  \\\n",
       "0                        False                    False   \n",
       "1                        False                    False   \n",
       "2                          NaN                      NaN   \n",
       "3                        False                    False   \n",
       "4                          NaN                      NaN   \n",
       "\n",
       "  NumberOfIssuedAndOutstandingSharesAtTheEndOfFiscalYearIncludingTreasuryStock  \\\n",
       "0                                          6848800.0                             \n",
       "1                                          2035000.0                             \n",
       "2                                                NaN                             \n",
       "3                                         31981654.0                             \n",
       "4                                                NaN                             \n",
       "\n",
       "  NumberOfTreasuryStockAtTheEndOfFiscalYear AverageNumberOfShares  \n",
       "0                                         －             6848800.0  \n",
       "1                                    118917             1916083.0  \n",
       "2                                       NaN                   NaN  \n",
       "3                                     18257            31963405.0  \n",
       "4                                       NaN                   NaN  \n",
       "\n",
       "[5 rows x 45 columns]"
      ]
     },
     "execution_count": 3,
     "metadata": {},
     "output_type": "execute_result"
    }
   ],
   "source": [
    "fin.head()"
   ]
  },
  {
   "cell_type": "code",
   "execution_count": 4,
   "id": "07a215d3",
   "metadata": {},
   "outputs": [
    {
     "data": {
      "text/html": [
       "<div>\n",
       "<style scoped>\n",
       "    .dataframe tbody tr th:only-of-type {\n",
       "        vertical-align: middle;\n",
       "    }\n",
       "\n",
       "    .dataframe tbody tr th {\n",
       "        vertical-align: top;\n",
       "    }\n",
       "\n",
       "    .dataframe thead th {\n",
       "        text-align: right;\n",
       "    }\n",
       "</style>\n",
       "<table border=\"1\" class=\"dataframe\">\n",
       "  <thead>\n",
       "    <tr style=\"text-align: right;\">\n",
       "      <th></th>\n",
       "      <th>DateCode</th>\n",
       "      <th>Date</th>\n",
       "      <th>OptionsCode</th>\n",
       "      <th>WholeDayOpen</th>\n",
       "      <th>WholeDayHigh</th>\n",
       "      <th>WholeDayLow</th>\n",
       "      <th>WholeDayClose</th>\n",
       "      <th>NightSessionOpen</th>\n",
       "      <th>NightSessionHigh</th>\n",
       "      <th>NightSessionLow</th>\n",
       "      <th>...</th>\n",
       "      <th>Putcall</th>\n",
       "      <th>LastTradingDay</th>\n",
       "      <th>SpecialQuotationDay</th>\n",
       "      <th>SettlementPrice</th>\n",
       "      <th>TheoreticalPrice</th>\n",
       "      <th>BaseVolatility</th>\n",
       "      <th>ImpliedVolatility</th>\n",
       "      <th>InterestRate</th>\n",
       "      <th>DividendRate</th>\n",
       "      <th>Dividend</th>\n",
       "    </tr>\n",
       "  </thead>\n",
       "  <tbody>\n",
       "    <tr>\n",
       "      <th>0</th>\n",
       "      <td>20170104_132010018</td>\n",
       "      <td>2017-01-04</td>\n",
       "      <td>132010018</td>\n",
       "      <td>650.0</td>\n",
       "      <td>650.0</td>\n",
       "      <td>480.0</td>\n",
       "      <td>480.0</td>\n",
       "      <td>0.0000</td>\n",
       "      <td>0.0000</td>\n",
       "      <td>0.0000</td>\n",
       "      <td>...</td>\n",
       "      <td>1</td>\n",
       "      <td>20170112</td>\n",
       "      <td>20170113</td>\n",
       "      <td>480.0</td>\n",
       "      <td>478.4587</td>\n",
       "      <td>17.4736</td>\n",
       "      <td>17.5865</td>\n",
       "      <td>0.0091</td>\n",
       "      <td>0.0</td>\n",
       "      <td>0.0</td>\n",
       "    </tr>\n",
       "    <tr>\n",
       "      <th>1</th>\n",
       "      <td>20170104_132010118</td>\n",
       "      <td>2017-01-04</td>\n",
       "      <td>132010118</td>\n",
       "      <td>0.0</td>\n",
       "      <td>0.0</td>\n",
       "      <td>0.0</td>\n",
       "      <td>0.0</td>\n",
       "      <td>0.0000</td>\n",
       "      <td>0.0000</td>\n",
       "      <td>0.0000</td>\n",
       "      <td>...</td>\n",
       "      <td>1</td>\n",
       "      <td>20170112</td>\n",
       "      <td>20170113</td>\n",
       "      <td>575.0</td>\n",
       "      <td>571.1385</td>\n",
       "      <td>17.4736</td>\n",
       "      <td>16.5000</td>\n",
       "      <td>0.0091</td>\n",
       "      <td>0.0</td>\n",
       "      <td>0.0</td>\n",
       "    </tr>\n",
       "    <tr>\n",
       "      <th>2</th>\n",
       "      <td>20170104_132010218</td>\n",
       "      <td>2017-01-04</td>\n",
       "      <td>132010218</td>\n",
       "      <td>0.0</td>\n",
       "      <td>0.0</td>\n",
       "      <td>0.0</td>\n",
       "      <td>0.0</td>\n",
       "      <td>0.0000</td>\n",
       "      <td>0.0000</td>\n",
       "      <td>0.0000</td>\n",
       "      <td>...</td>\n",
       "      <td>1</td>\n",
       "      <td>20170112</td>\n",
       "      <td>20170113</td>\n",
       "      <td>680.0</td>\n",
       "      <td>677.3710</td>\n",
       "      <td>17.4736</td>\n",
       "      <td>15.8644</td>\n",
       "      <td>0.0091</td>\n",
       "      <td>0.0</td>\n",
       "      <td>0.0</td>\n",
       "    </tr>\n",
       "    <tr>\n",
       "      <th>3</th>\n",
       "      <td>20170104_132010318</td>\n",
       "      <td>2017-01-04</td>\n",
       "      <td>132010318</td>\n",
       "      <td>0.0</td>\n",
       "      <td>0.0</td>\n",
       "      <td>0.0</td>\n",
       "      <td>0.0</td>\n",
       "      <td>0.0000</td>\n",
       "      <td>0.0000</td>\n",
       "      <td>0.0000</td>\n",
       "      <td>...</td>\n",
       "      <td>1</td>\n",
       "      <td>20170112</td>\n",
       "      <td>20170113</td>\n",
       "      <td>795.0</td>\n",
       "      <td>791.0383</td>\n",
       "      <td>17.4736</td>\n",
       "      <td>15.2288</td>\n",
       "      <td>0.0091</td>\n",
       "      <td>0.0</td>\n",
       "      <td>0.0</td>\n",
       "    </tr>\n",
       "    <tr>\n",
       "      <th>4</th>\n",
       "      <td>20170104_132010518</td>\n",
       "      <td>2017-01-04</td>\n",
       "      <td>132010518</td>\n",
       "      <td>0.0</td>\n",
       "      <td>0.0</td>\n",
       "      <td>0.0</td>\n",
       "      <td>0.0</td>\n",
       "      <td>0.0000</td>\n",
       "      <td>0.0000</td>\n",
       "      <td>0.0000</td>\n",
       "      <td>...</td>\n",
       "      <td>1</td>\n",
       "      <td>20170112</td>\n",
       "      <td>20170113</td>\n",
       "      <td>910.0</td>\n",
       "      <td>909.9947</td>\n",
       "      <td>17.4736</td>\n",
       "      <td>14.5932</td>\n",
       "      <td>0.0091</td>\n",
       "      <td>0.0</td>\n",
       "      <td>0.0</td>\n",
       "    </tr>\n",
       "  </tbody>\n",
       "</table>\n",
       "<p>5 rows × 31 columns</p>\n",
       "</div>"
      ],
      "text/plain": [
       "             DateCode        Date  OptionsCode  WholeDayOpen  WholeDayHigh  \\\n",
       "0  20170104_132010018  2017-01-04    132010018         650.0         650.0   \n",
       "1  20170104_132010118  2017-01-04    132010118           0.0           0.0   \n",
       "2  20170104_132010218  2017-01-04    132010218           0.0           0.0   \n",
       "3  20170104_132010318  2017-01-04    132010318           0.0           0.0   \n",
       "4  20170104_132010518  2017-01-04    132010518           0.0           0.0   \n",
       "\n",
       "   WholeDayLow  WholeDayClose NightSessionOpen NightSessionHigh  \\\n",
       "0        480.0          480.0           0.0000           0.0000   \n",
       "1          0.0            0.0           0.0000           0.0000   \n",
       "2          0.0            0.0           0.0000           0.0000   \n",
       "3          0.0            0.0           0.0000           0.0000   \n",
       "4          0.0            0.0           0.0000           0.0000   \n",
       "\n",
       "  NightSessionLow  ... Putcall  LastTradingDay  SpecialQuotationDay  \\\n",
       "0          0.0000  ...       1        20170112             20170113   \n",
       "1          0.0000  ...       1        20170112             20170113   \n",
       "2          0.0000  ...       1        20170112             20170113   \n",
       "3          0.0000  ...       1        20170112             20170113   \n",
       "4          0.0000  ...       1        20170112             20170113   \n",
       "\n",
       "   SettlementPrice  TheoreticalPrice  BaseVolatility  ImpliedVolatility  \\\n",
       "0            480.0          478.4587         17.4736            17.5865   \n",
       "1            575.0          571.1385         17.4736            16.5000   \n",
       "2            680.0          677.3710         17.4736            15.8644   \n",
       "3            795.0          791.0383         17.4736            15.2288   \n",
       "4            910.0          909.9947         17.4736            14.5932   \n",
       "\n",
       "   InterestRate  DividendRate  Dividend  \n",
       "0        0.0091           0.0       0.0  \n",
       "1        0.0091           0.0       0.0  \n",
       "2        0.0091           0.0       0.0  \n",
       "3        0.0091           0.0       0.0  \n",
       "4        0.0091           0.0       0.0  \n",
       "\n",
       "[5 rows x 31 columns]"
      ]
     },
     "execution_count": 4,
     "metadata": {},
     "output_type": "execute_result"
    }
   ],
   "source": [
    "opt.head()"
   ]
  },
  {
   "cell_type": "code",
   "execution_count": 5,
   "id": "daa959fa",
   "metadata": {},
   "outputs": [
    {
     "data": {
      "text/html": [
       "<div>\n",
       "<style scoped>\n",
       "    .dataframe tbody tr th:only-of-type {\n",
       "        vertical-align: middle;\n",
       "    }\n",
       "\n",
       "    .dataframe tbody tr th {\n",
       "        vertical-align: top;\n",
       "    }\n",
       "\n",
       "    .dataframe thead th {\n",
       "        text-align: right;\n",
       "    }\n",
       "</style>\n",
       "<table border=\"1\" class=\"dataframe\">\n",
       "  <thead>\n",
       "    <tr style=\"text-align: right;\">\n",
       "      <th></th>\n",
       "      <th>RowId</th>\n",
       "      <th>Date</th>\n",
       "      <th>SecuritiesCode</th>\n",
       "      <th>Open</th>\n",
       "      <th>High</th>\n",
       "      <th>Low</th>\n",
       "      <th>Close</th>\n",
       "      <th>Volume</th>\n",
       "      <th>AdjustmentFactor</th>\n",
       "      <th>ExpectedDividend</th>\n",
       "      <th>SupervisionFlag</th>\n",
       "      <th>Target</th>\n",
       "    </tr>\n",
       "  </thead>\n",
       "  <tbody>\n",
       "    <tr>\n",
       "      <th>0</th>\n",
       "      <td>20170104_1305</td>\n",
       "      <td>2017-01-04</td>\n",
       "      <td>1305</td>\n",
       "      <td>1594.0</td>\n",
       "      <td>1618.0</td>\n",
       "      <td>1594.0</td>\n",
       "      <td>1615.0</td>\n",
       "      <td>538190</td>\n",
       "      <td>1.0</td>\n",
       "      <td>NaN</td>\n",
       "      <td>False</td>\n",
       "      <td>-0.001855</td>\n",
       "    </tr>\n",
       "    <tr>\n",
       "      <th>1</th>\n",
       "      <td>20170104_1306</td>\n",
       "      <td>2017-01-04</td>\n",
       "      <td>1306</td>\n",
       "      <td>1575.0</td>\n",
       "      <td>1595.0</td>\n",
       "      <td>1573.0</td>\n",
       "      <td>1593.0</td>\n",
       "      <td>2494980</td>\n",
       "      <td>1.0</td>\n",
       "      <td>NaN</td>\n",
       "      <td>False</td>\n",
       "      <td>-0.000627</td>\n",
       "    </tr>\n",
       "    <tr>\n",
       "      <th>2</th>\n",
       "      <td>20170104_1308</td>\n",
       "      <td>2017-01-04</td>\n",
       "      <td>1308</td>\n",
       "      <td>1557.0</td>\n",
       "      <td>1580.0</td>\n",
       "      <td>1557.0</td>\n",
       "      <td>1578.0</td>\n",
       "      <td>526100</td>\n",
       "      <td>1.0</td>\n",
       "      <td>NaN</td>\n",
       "      <td>False</td>\n",
       "      <td>-0.001900</td>\n",
       "    </tr>\n",
       "    <tr>\n",
       "      <th>3</th>\n",
       "      <td>20170104_1309</td>\n",
       "      <td>2017-01-04</td>\n",
       "      <td>1309</td>\n",
       "      <td>28810.0</td>\n",
       "      <td>29000.0</td>\n",
       "      <td>28520.0</td>\n",
       "      <td>28780.0</td>\n",
       "      <td>403</td>\n",
       "      <td>1.0</td>\n",
       "      <td>NaN</td>\n",
       "      <td>False</td>\n",
       "      <td>0.005237</td>\n",
       "    </tr>\n",
       "    <tr>\n",
       "      <th>4</th>\n",
       "      <td>20170104_1311</td>\n",
       "      <td>2017-01-04</td>\n",
       "      <td>1311</td>\n",
       "      <td>717.0</td>\n",
       "      <td>735.0</td>\n",
       "      <td>717.0</td>\n",
       "      <td>734.0</td>\n",
       "      <td>5470</td>\n",
       "      <td>1.0</td>\n",
       "      <td>NaN</td>\n",
       "      <td>False</td>\n",
       "      <td>0.001359</td>\n",
       "    </tr>\n",
       "  </tbody>\n",
       "</table>\n",
       "</div>"
      ],
      "text/plain": [
       "           RowId        Date  SecuritiesCode     Open     High      Low  \\\n",
       "0  20170104_1305  2017-01-04            1305   1594.0   1618.0   1594.0   \n",
       "1  20170104_1306  2017-01-04            1306   1575.0   1595.0   1573.0   \n",
       "2  20170104_1308  2017-01-04            1308   1557.0   1580.0   1557.0   \n",
       "3  20170104_1309  2017-01-04            1309  28810.0  29000.0  28520.0   \n",
       "4  20170104_1311  2017-01-04            1311    717.0    735.0    717.0   \n",
       "\n",
       "     Close   Volume  AdjustmentFactor  ExpectedDividend  SupervisionFlag  \\\n",
       "0   1615.0   538190               1.0               NaN            False   \n",
       "1   1593.0  2494980               1.0               NaN            False   \n",
       "2   1578.0   526100               1.0               NaN            False   \n",
       "3  28780.0      403               1.0               NaN            False   \n",
       "4    734.0     5470               1.0               NaN            False   \n",
       "\n",
       "     Target  \n",
       "0 -0.001855  \n",
       "1 -0.000627  \n",
       "2 -0.001900  \n",
       "3  0.005237  \n",
       "4  0.001359  "
      ]
     },
     "execution_count": 5,
     "metadata": {},
     "output_type": "execute_result"
    }
   ],
   "source": [
    "sec.head()"
   ]
  },
  {
   "cell_type": "code",
   "execution_count": 6,
   "id": "fd931a7c",
   "metadata": {},
   "outputs": [
    {
     "data": {
      "text/html": [
       "<div>\n",
       "<style scoped>\n",
       "    .dataframe tbody tr th:only-of-type {\n",
       "        vertical-align: middle;\n",
       "    }\n",
       "\n",
       "    .dataframe tbody tr th {\n",
       "        vertical-align: top;\n",
       "    }\n",
       "\n",
       "    .dataframe thead th {\n",
       "        text-align: right;\n",
       "    }\n",
       "</style>\n",
       "<table border=\"1\" class=\"dataframe\">\n",
       "  <thead>\n",
       "    <tr style=\"text-align: right;\">\n",
       "      <th></th>\n",
       "      <th>RowId</th>\n",
       "      <th>Date</th>\n",
       "      <th>SecuritiesCode</th>\n",
       "      <th>Open</th>\n",
       "      <th>High</th>\n",
       "      <th>Low</th>\n",
       "      <th>Close</th>\n",
       "      <th>Volume</th>\n",
       "      <th>AdjustmentFactor</th>\n",
       "      <th>ExpectedDividend</th>\n",
       "      <th>SupervisionFlag</th>\n",
       "      <th>Target</th>\n",
       "    </tr>\n",
       "  </thead>\n",
       "  <tbody>\n",
       "    <tr>\n",
       "      <th>0</th>\n",
       "      <td>20170104_1301</td>\n",
       "      <td>2017-01-04</td>\n",
       "      <td>1301</td>\n",
       "      <td>2734.0</td>\n",
       "      <td>2755.0</td>\n",
       "      <td>2730.0</td>\n",
       "      <td>2742.0</td>\n",
       "      <td>31400</td>\n",
       "      <td>1.0</td>\n",
       "      <td>NaN</td>\n",
       "      <td>False</td>\n",
       "      <td>0.000730</td>\n",
       "    </tr>\n",
       "    <tr>\n",
       "      <th>1</th>\n",
       "      <td>20170104_1332</td>\n",
       "      <td>2017-01-04</td>\n",
       "      <td>1332</td>\n",
       "      <td>568.0</td>\n",
       "      <td>576.0</td>\n",
       "      <td>563.0</td>\n",
       "      <td>571.0</td>\n",
       "      <td>2798500</td>\n",
       "      <td>1.0</td>\n",
       "      <td>NaN</td>\n",
       "      <td>False</td>\n",
       "      <td>0.012324</td>\n",
       "    </tr>\n",
       "    <tr>\n",
       "      <th>2</th>\n",
       "      <td>20170104_1333</td>\n",
       "      <td>2017-01-04</td>\n",
       "      <td>1333</td>\n",
       "      <td>3150.0</td>\n",
       "      <td>3210.0</td>\n",
       "      <td>3140.0</td>\n",
       "      <td>3210.0</td>\n",
       "      <td>270800</td>\n",
       "      <td>1.0</td>\n",
       "      <td>NaN</td>\n",
       "      <td>False</td>\n",
       "      <td>0.006154</td>\n",
       "    </tr>\n",
       "    <tr>\n",
       "      <th>3</th>\n",
       "      <td>20170104_1376</td>\n",
       "      <td>2017-01-04</td>\n",
       "      <td>1376</td>\n",
       "      <td>1510.0</td>\n",
       "      <td>1550.0</td>\n",
       "      <td>1510.0</td>\n",
       "      <td>1550.0</td>\n",
       "      <td>11300</td>\n",
       "      <td>1.0</td>\n",
       "      <td>NaN</td>\n",
       "      <td>False</td>\n",
       "      <td>0.011053</td>\n",
       "    </tr>\n",
       "    <tr>\n",
       "      <th>4</th>\n",
       "      <td>20170104_1377</td>\n",
       "      <td>2017-01-04</td>\n",
       "      <td>1377</td>\n",
       "      <td>3270.0</td>\n",
       "      <td>3350.0</td>\n",
       "      <td>3270.0</td>\n",
       "      <td>3330.0</td>\n",
       "      <td>150800</td>\n",
       "      <td>1.0</td>\n",
       "      <td>NaN</td>\n",
       "      <td>False</td>\n",
       "      <td>0.003026</td>\n",
       "    </tr>\n",
       "  </tbody>\n",
       "</table>\n",
       "</div>"
      ],
      "text/plain": [
       "           RowId        Date  SecuritiesCode    Open    High     Low   Close  \\\n",
       "0  20170104_1301  2017-01-04            1301  2734.0  2755.0  2730.0  2742.0   \n",
       "1  20170104_1332  2017-01-04            1332   568.0   576.0   563.0   571.0   \n",
       "2  20170104_1333  2017-01-04            1333  3150.0  3210.0  3140.0  3210.0   \n",
       "3  20170104_1376  2017-01-04            1376  1510.0  1550.0  1510.0  1550.0   \n",
       "4  20170104_1377  2017-01-04            1377  3270.0  3350.0  3270.0  3330.0   \n",
       "\n",
       "    Volume  AdjustmentFactor  ExpectedDividend  SupervisionFlag    Target  \n",
       "0    31400               1.0               NaN            False  0.000730  \n",
       "1  2798500               1.0               NaN            False  0.012324  \n",
       "2   270800               1.0               NaN            False  0.006154  \n",
       "3    11300               1.0               NaN            False  0.011053  \n",
       "4   150800               1.0               NaN            False  0.003026  "
      ]
     },
     "execution_count": 6,
     "metadata": {},
     "output_type": "execute_result"
    }
   ],
   "source": [
    "stock.head()"
   ]
  },
  {
   "cell_type": "code",
   "execution_count": 8,
   "id": "c262cf32",
   "metadata": {},
   "outputs": [
    {
     "data": {
      "text/html": [
       "<div>\n",
       "<style scoped>\n",
       "    .dataframe tbody tr th:only-of-type {\n",
       "        vertical-align: middle;\n",
       "    }\n",
       "\n",
       "    .dataframe tbody tr th {\n",
       "        vertical-align: top;\n",
       "    }\n",
       "\n",
       "    .dataframe thead th {\n",
       "        text-align: right;\n",
       "    }\n",
       "</style>\n",
       "<table border=\"1\" class=\"dataframe\">\n",
       "  <thead>\n",
       "    <tr style=\"text-align: right;\">\n",
       "      <th></th>\n",
       "      <th>Date</th>\n",
       "      <th>StartDate</th>\n",
       "      <th>EndDate</th>\n",
       "      <th>Section</th>\n",
       "      <th>TotalSales</th>\n",
       "      <th>TotalPurchases</th>\n",
       "      <th>TotalTotal</th>\n",
       "      <th>TotalBalance</th>\n",
       "      <th>ProprietarySales</th>\n",
       "      <th>ProprietaryPurchases</th>\n",
       "      <th>...</th>\n",
       "      <th>CityBKsRegionalBKsEtcTotal</th>\n",
       "      <th>CityBKsRegionalBKsEtcBalance</th>\n",
       "      <th>TrustBanksSales</th>\n",
       "      <th>TrustBanksPurchases</th>\n",
       "      <th>TrustBanksTotal</th>\n",
       "      <th>TrustBanksBalance</th>\n",
       "      <th>OtherFinancialInstitutionsSales</th>\n",
       "      <th>OtherFinancialInstitutionsPurchases</th>\n",
       "      <th>OtherFinancialInstitutionsTotal</th>\n",
       "      <th>OtherFinancialInstitutionsBalance</th>\n",
       "    </tr>\n",
       "  </thead>\n",
       "  <tbody>\n",
       "    <tr>\n",
       "      <th>0</th>\n",
       "      <td>2017-01-04</td>\n",
       "      <td>NaN</td>\n",
       "      <td>NaN</td>\n",
       "      <td>NaN</td>\n",
       "      <td>NaN</td>\n",
       "      <td>NaN</td>\n",
       "      <td>NaN</td>\n",
       "      <td>NaN</td>\n",
       "      <td>NaN</td>\n",
       "      <td>NaN</td>\n",
       "      <td>...</td>\n",
       "      <td>NaN</td>\n",
       "      <td>NaN</td>\n",
       "      <td>NaN</td>\n",
       "      <td>NaN</td>\n",
       "      <td>NaN</td>\n",
       "      <td>NaN</td>\n",
       "      <td>NaN</td>\n",
       "      <td>NaN</td>\n",
       "      <td>NaN</td>\n",
       "      <td>NaN</td>\n",
       "    </tr>\n",
       "    <tr>\n",
       "      <th>1</th>\n",
       "      <td>2017-01-05</td>\n",
       "      <td>NaN</td>\n",
       "      <td>NaN</td>\n",
       "      <td>NaN</td>\n",
       "      <td>NaN</td>\n",
       "      <td>NaN</td>\n",
       "      <td>NaN</td>\n",
       "      <td>NaN</td>\n",
       "      <td>NaN</td>\n",
       "      <td>NaN</td>\n",
       "      <td>...</td>\n",
       "      <td>NaN</td>\n",
       "      <td>NaN</td>\n",
       "      <td>NaN</td>\n",
       "      <td>NaN</td>\n",
       "      <td>NaN</td>\n",
       "      <td>NaN</td>\n",
       "      <td>NaN</td>\n",
       "      <td>NaN</td>\n",
       "      <td>NaN</td>\n",
       "      <td>NaN</td>\n",
       "    </tr>\n",
       "    <tr>\n",
       "      <th>2</th>\n",
       "      <td>2017-01-06</td>\n",
       "      <td>NaN</td>\n",
       "      <td>NaN</td>\n",
       "      <td>NaN</td>\n",
       "      <td>NaN</td>\n",
       "      <td>NaN</td>\n",
       "      <td>NaN</td>\n",
       "      <td>NaN</td>\n",
       "      <td>NaN</td>\n",
       "      <td>NaN</td>\n",
       "      <td>...</td>\n",
       "      <td>NaN</td>\n",
       "      <td>NaN</td>\n",
       "      <td>NaN</td>\n",
       "      <td>NaN</td>\n",
       "      <td>NaN</td>\n",
       "      <td>NaN</td>\n",
       "      <td>NaN</td>\n",
       "      <td>NaN</td>\n",
       "      <td>NaN</td>\n",
       "      <td>NaN</td>\n",
       "    </tr>\n",
       "    <tr>\n",
       "      <th>3</th>\n",
       "      <td>2017-01-10</td>\n",
       "      <td>NaN</td>\n",
       "      <td>NaN</td>\n",
       "      <td>NaN</td>\n",
       "      <td>NaN</td>\n",
       "      <td>NaN</td>\n",
       "      <td>NaN</td>\n",
       "      <td>NaN</td>\n",
       "      <td>NaN</td>\n",
       "      <td>NaN</td>\n",
       "      <td>...</td>\n",
       "      <td>NaN</td>\n",
       "      <td>NaN</td>\n",
       "      <td>NaN</td>\n",
       "      <td>NaN</td>\n",
       "      <td>NaN</td>\n",
       "      <td>NaN</td>\n",
       "      <td>NaN</td>\n",
       "      <td>NaN</td>\n",
       "      <td>NaN</td>\n",
       "      <td>NaN</td>\n",
       "    </tr>\n",
       "    <tr>\n",
       "      <th>4</th>\n",
       "      <td>2017-01-11</td>\n",
       "      <td>NaN</td>\n",
       "      <td>NaN</td>\n",
       "      <td>NaN</td>\n",
       "      <td>NaN</td>\n",
       "      <td>NaN</td>\n",
       "      <td>NaN</td>\n",
       "      <td>NaN</td>\n",
       "      <td>NaN</td>\n",
       "      <td>NaN</td>\n",
       "      <td>...</td>\n",
       "      <td>NaN</td>\n",
       "      <td>NaN</td>\n",
       "      <td>NaN</td>\n",
       "      <td>NaN</td>\n",
       "      <td>NaN</td>\n",
       "      <td>NaN</td>\n",
       "      <td>NaN</td>\n",
       "      <td>NaN</td>\n",
       "      <td>NaN</td>\n",
       "      <td>NaN</td>\n",
       "    </tr>\n",
       "  </tbody>\n",
       "</table>\n",
       "<p>5 rows × 56 columns</p>\n",
       "</div>"
      ],
      "text/plain": [
       "         Date StartDate EndDate Section  TotalSales  TotalPurchases  \\\n",
       "0  2017-01-04       NaN     NaN     NaN         NaN             NaN   \n",
       "1  2017-01-05       NaN     NaN     NaN         NaN             NaN   \n",
       "2  2017-01-06       NaN     NaN     NaN         NaN             NaN   \n",
       "3  2017-01-10       NaN     NaN     NaN         NaN             NaN   \n",
       "4  2017-01-11       NaN     NaN     NaN         NaN             NaN   \n",
       "\n",
       "   TotalTotal  TotalBalance  ProprietarySales  ProprietaryPurchases  ...  \\\n",
       "0         NaN           NaN               NaN                   NaN  ...   \n",
       "1         NaN           NaN               NaN                   NaN  ...   \n",
       "2         NaN           NaN               NaN                   NaN  ...   \n",
       "3         NaN           NaN               NaN                   NaN  ...   \n",
       "4         NaN           NaN               NaN                   NaN  ...   \n",
       "\n",
       "   CityBKsRegionalBKsEtcTotal  CityBKsRegionalBKsEtcBalance  TrustBanksSales  \\\n",
       "0                         NaN                           NaN              NaN   \n",
       "1                         NaN                           NaN              NaN   \n",
       "2                         NaN                           NaN              NaN   \n",
       "3                         NaN                           NaN              NaN   \n",
       "4                         NaN                           NaN              NaN   \n",
       "\n",
       "   TrustBanksPurchases  TrustBanksTotal  TrustBanksBalance  \\\n",
       "0                  NaN              NaN                NaN   \n",
       "1                  NaN              NaN                NaN   \n",
       "2                  NaN              NaN                NaN   \n",
       "3                  NaN              NaN                NaN   \n",
       "4                  NaN              NaN                NaN   \n",
       "\n",
       "   OtherFinancialInstitutionsSales  OtherFinancialInstitutionsPurchases  \\\n",
       "0                              NaN                                  NaN   \n",
       "1                              NaN                                  NaN   \n",
       "2                              NaN                                  NaN   \n",
       "3                              NaN                                  NaN   \n",
       "4                              NaN                                  NaN   \n",
       "\n",
       "   OtherFinancialInstitutionsTotal  OtherFinancialInstitutionsBalance  \n",
       "0                              NaN                                NaN  \n",
       "1                              NaN                                NaN  \n",
       "2                              NaN                                NaN  \n",
       "3                              NaN                                NaN  \n",
       "4                              NaN                                NaN  \n",
       "\n",
       "[5 rows x 56 columns]"
      ]
     },
     "execution_count": 8,
     "metadata": {},
     "output_type": "execute_result"
    }
   ],
   "source": [
    "trades.head()"
   ]
  },
  {
   "cell_type": "code",
   "execution_count": 10,
   "id": "b66fdf10",
   "metadata": {},
   "outputs": [
    {
     "data": {
      "text/plain": [
       "RowId                     0\n",
       "Date                      0\n",
       "SecuritiesCode            0\n",
       "Open                   7608\n",
       "High                   7608\n",
       "Low                    7608\n",
       "Close                  7608\n",
       "Volume                    0\n",
       "AdjustmentFactor          0\n",
       "ExpectedDividend    2313666\n",
       "SupervisionFlag           0\n",
       "Target                  238\n",
       "dtype: int64"
      ]
     },
     "execution_count": 10,
     "metadata": {},
     "output_type": "execute_result"
    }
   ],
   "source": [
    "stock.isnull().sum()"
   ]
  },
  {
   "cell_type": "code",
   "execution_count": 12,
   "id": "34695bbc",
   "metadata": {},
   "outputs": [
    {
     "name": "stdout",
     "output_type": "stream",
     "text": [
      "<class 'pandas.core.frame.DataFrame'>\n",
      "RangeIndex: 2332531 entries, 0 to 2332530\n",
      "Data columns (total 12 columns):\n",
      " #   Column            Dtype  \n",
      "---  ------            -----  \n",
      " 0   RowId             object \n",
      " 1   Date              object \n",
      " 2   SecuritiesCode    int64  \n",
      " 3   Open              float64\n",
      " 4   High              float64\n",
      " 5   Low               float64\n",
      " 6   Close             float64\n",
      " 7   Volume            int64  \n",
      " 8   AdjustmentFactor  float64\n",
      " 9   ExpectedDividend  float64\n",
      " 10  SupervisionFlag   bool   \n",
      " 11  Target            float64\n",
      "dtypes: bool(1), float64(7), int64(2), object(2)\n",
      "memory usage: 198.0+ MB\n"
     ]
    }
   ],
   "source": [
    "stock.info()"
   ]
  },
  {
   "cell_type": "code",
   "execution_count": 19,
   "id": "d87a2289",
   "metadata": {},
   "outputs": [],
   "source": [
    "def per(df):\n",
    "    per=pd.isna(df).sum()/ len(df) * 100\n",
    "    per.sort_values(ascending=False,inplace=True)\n",
    "    per=per.to_frame(name=\"Percentage missing\").T\n",
    "    print(\"Percentage missing\")\n",
    "    display(per)"
   ]
  },
  {
   "cell_type": "code",
   "execution_count": 20,
   "id": "111dc446",
   "metadata": {},
   "outputs": [
    {
     "name": "stdout",
     "output_type": "stream",
     "text": [
      "Percentage missing\n"
     ]
    },
    {
     "data": {
      "text/html": [
       "<div>\n",
       "<style scoped>\n",
       "    .dataframe tbody tr th:only-of-type {\n",
       "        vertical-align: middle;\n",
       "    }\n",
       "\n",
       "    .dataframe tbody tr th {\n",
       "        vertical-align: top;\n",
       "    }\n",
       "\n",
       "    .dataframe thead th {\n",
       "        text-align: right;\n",
       "    }\n",
       "</style>\n",
       "<table border=\"1\" class=\"dataframe\">\n",
       "  <thead>\n",
       "    <tr style=\"text-align: right;\">\n",
       "      <th></th>\n",
       "      <th>ExpectedDividend</th>\n",
       "      <th>Open</th>\n",
       "      <th>High</th>\n",
       "      <th>Low</th>\n",
       "      <th>Close</th>\n",
       "      <th>Target</th>\n",
       "      <th>RowId</th>\n",
       "      <th>Date</th>\n",
       "      <th>SecuritiesCode</th>\n",
       "      <th>Volume</th>\n",
       "      <th>AdjustmentFactor</th>\n",
       "      <th>SupervisionFlag</th>\n",
       "    </tr>\n",
       "  </thead>\n",
       "  <tbody>\n",
       "    <tr>\n",
       "      <th>Percentage missing</th>\n",
       "      <td>99.191222</td>\n",
       "      <td>0.326169</td>\n",
       "      <td>0.326169</td>\n",
       "      <td>0.326169</td>\n",
       "      <td>0.326169</td>\n",
       "      <td>0.010204</td>\n",
       "      <td>0.0</td>\n",
       "      <td>0.0</td>\n",
       "      <td>0.0</td>\n",
       "      <td>0.0</td>\n",
       "      <td>0.0</td>\n",
       "      <td>0.0</td>\n",
       "    </tr>\n",
       "  </tbody>\n",
       "</table>\n",
       "</div>"
      ],
      "text/plain": [
       "                    ExpectedDividend      Open      High       Low     Close  \\\n",
       "Percentage missing         99.191222  0.326169  0.326169  0.326169  0.326169   \n",
       "\n",
       "                      Target  RowId  Date  SecuritiesCode  Volume  \\\n",
       "Percentage missing  0.010204    0.0   0.0             0.0     0.0   \n",
       "\n",
       "                    AdjustmentFactor  SupervisionFlag  \n",
       "Percentage missing               0.0              0.0  "
      ]
     },
     "metadata": {},
     "output_type": "display_data"
    }
   ],
   "source": [
    "per(stock)"
   ]
  },
  {
   "cell_type": "code",
   "execution_count": 21,
   "id": "98af0946",
   "metadata": {},
   "outputs": [
    {
     "name": "stdout",
     "output_type": "stream",
     "text": [
      "Percentage missing\n"
     ]
    },
    {
     "data": {
      "text/html": [
       "<div>\n",
       "<style scoped>\n",
       "    .dataframe tbody tr th:only-of-type {\n",
       "        vertical-align: middle;\n",
       "    }\n",
       "\n",
       "    .dataframe tbody tr th {\n",
       "        vertical-align: top;\n",
       "    }\n",
       "\n",
       "    .dataframe thead th {\n",
       "        text-align: right;\n",
       "    }\n",
       "</style>\n",
       "<table border=\"1\" class=\"dataframe\">\n",
       "  <thead>\n",
       "    <tr style=\"text-align: right;\">\n",
       "      <th></th>\n",
       "      <th>ApplyingOfSpecificAccountingOfTheQuarterlyFinancialStatements</th>\n",
       "      <th>ForecastDividendPerShare1stQuarter</th>\n",
       "      <th>ResultDividendPerShareAnnual</th>\n",
       "      <th>ResultDividendPerShareFiscalYearEnd</th>\n",
       "      <th>BookValuePerShare</th>\n",
       "      <th>ResultDividendPerShare3rdQuarter</th>\n",
       "      <th>ForecastDividendPerShare2ndQuarter</th>\n",
       "      <th>ResultDividendPerShare2ndQuarter</th>\n",
       "      <th>ForecastDividendPerShare3rdQuarter</th>\n",
       "      <th>MaterialChangesInSubsidiaries</th>\n",
       "      <th>...</th>\n",
       "      <th>DateCode</th>\n",
       "      <th>CurrentFiscalYearEndDate</th>\n",
       "      <th>SecuritiesCode</th>\n",
       "      <th>DisclosedTime</th>\n",
       "      <th>TypeOfCurrentPeriod</th>\n",
       "      <th>DisclosedDate</th>\n",
       "      <th>DisclosedUnixTime</th>\n",
       "      <th>CurrentPeriodEndDate</th>\n",
       "      <th>DisclosureNumber</th>\n",
       "      <th>Date</th>\n",
       "    </tr>\n",
       "  </thead>\n",
       "  <tbody>\n",
       "    <tr>\n",
       "      <th>Percentage missing</th>\n",
       "      <td>92.201687</td>\n",
       "      <td>79.30096</td>\n",
       "      <td>79.113774</td>\n",
       "      <td>79.112698</td>\n",
       "      <td>61.516201</td>\n",
       "      <td>59.46792</td>\n",
       "      <td>54.151426</td>\n",
       "      <td>39.820991</td>\n",
       "      <td>34.58518</td>\n",
       "      <td>30.60803</td>\n",
       "      <td>...</td>\n",
       "      <td>0.002152</td>\n",
       "      <td>0.002152</td>\n",
       "      <td>0.002152</td>\n",
       "      <td>0.002152</td>\n",
       "      <td>0.002152</td>\n",
       "      <td>0.002152</td>\n",
       "      <td>0.002152</td>\n",
       "      <td>0.002152</td>\n",
       "      <td>0.002152</td>\n",
       "      <td>0.0</td>\n",
       "    </tr>\n",
       "  </tbody>\n",
       "</table>\n",
       "<p>1 rows × 45 columns</p>\n",
       "</div>"
      ],
      "text/plain": [
       "                    ApplyingOfSpecificAccountingOfTheQuarterlyFinancialStatements  \\\n",
       "Percentage missing                                          92.201687               \n",
       "\n",
       "                    ForecastDividendPerShare1stQuarter  \\\n",
       "Percentage missing                            79.30096   \n",
       "\n",
       "                    ResultDividendPerShareAnnual  \\\n",
       "Percentage missing                     79.113774   \n",
       "\n",
       "                    ResultDividendPerShareFiscalYearEnd  BookValuePerShare  \\\n",
       "Percentage missing                            79.112698          61.516201   \n",
       "\n",
       "                    ResultDividendPerShare3rdQuarter  \\\n",
       "Percentage missing                          59.46792   \n",
       "\n",
       "                    ForecastDividendPerShare2ndQuarter  \\\n",
       "Percentage missing                           54.151426   \n",
       "\n",
       "                    ResultDividendPerShare2ndQuarter  \\\n",
       "Percentage missing                         39.820991   \n",
       "\n",
       "                    ForecastDividendPerShare3rdQuarter  \\\n",
       "Percentage missing                            34.58518   \n",
       "\n",
       "                    MaterialChangesInSubsidiaries  ...  DateCode  \\\n",
       "Percentage missing                       30.60803  ...  0.002152   \n",
       "\n",
       "                    CurrentFiscalYearEndDate  SecuritiesCode  DisclosedTime  \\\n",
       "Percentage missing                  0.002152        0.002152       0.002152   \n",
       "\n",
       "                    TypeOfCurrentPeriod  DisclosedDate  DisclosedUnixTime  \\\n",
       "Percentage missing             0.002152       0.002152           0.002152   \n",
       "\n",
       "                    CurrentPeriodEndDate  DisclosureNumber  Date  \n",
       "Percentage missing              0.002152          0.002152   0.0  \n",
       "\n",
       "[1 rows x 45 columns]"
      ]
     },
     "metadata": {},
     "output_type": "display_data"
    }
   ],
   "source": [
    "per(fin)"
   ]
  },
  {
   "cell_type": "code",
   "execution_count": 22,
   "id": "9c401cc0",
   "metadata": {},
   "outputs": [
    {
     "name": "stdout",
     "output_type": "stream",
     "text": [
      "Percentage missing\n"
     ]
    },
    {
     "data": {
      "text/html": [
       "<div>\n",
       "<style scoped>\n",
       "    .dataframe tbody tr th:only-of-type {\n",
       "        vertical-align: middle;\n",
       "    }\n",
       "\n",
       "    .dataframe tbody tr th {\n",
       "        vertical-align: top;\n",
       "    }\n",
       "\n",
       "    .dataframe thead th {\n",
       "        text-align: right;\n",
       "    }\n",
       "</style>\n",
       "<table border=\"1\" class=\"dataframe\">\n",
       "  <thead>\n",
       "    <tr style=\"text-align: right;\">\n",
       "      <th></th>\n",
       "      <th>InvestmentTrustsSales</th>\n",
       "      <th>StartDate</th>\n",
       "      <th>InvestmentTrustsTotal</th>\n",
       "      <th>InvestmentTrustsBalance</th>\n",
       "      <th>BusinessCosSales</th>\n",
       "      <th>BusinessCosPurchases</th>\n",
       "      <th>BusinessCosTotal</th>\n",
       "      <th>BusinessCosBalance</th>\n",
       "      <th>OtherInstitutionsSales</th>\n",
       "      <th>OtherInstitutionsPurchases</th>\n",
       "      <th>...</th>\n",
       "      <th>IndividualsPurchases</th>\n",
       "      <th>IndividualsTotal</th>\n",
       "      <th>IndividualsBalance</th>\n",
       "      <th>ForeignersSales</th>\n",
       "      <th>ForeignersPurchases</th>\n",
       "      <th>ForeignersTotal</th>\n",
       "      <th>ForeignersBalance</th>\n",
       "      <th>SecuritiesCosSales</th>\n",
       "      <th>SecuritiesCosPurchases</th>\n",
       "      <th>Date</th>\n",
       "    </tr>\n",
       "  </thead>\n",
       "  <tbody>\n",
       "    <tr>\n",
       "      <th>Percentage missing</th>\n",
       "      <td>55.315421</td>\n",
       "      <td>55.315421</td>\n",
       "      <td>55.315421</td>\n",
       "      <td>55.315421</td>\n",
       "      <td>55.315421</td>\n",
       "      <td>55.315421</td>\n",
       "      <td>55.315421</td>\n",
       "      <td>55.315421</td>\n",
       "      <td>55.315421</td>\n",
       "      <td>55.315421</td>\n",
       "      <td>...</td>\n",
       "      <td>55.315421</td>\n",
       "      <td>55.315421</td>\n",
       "      <td>55.315421</td>\n",
       "      <td>55.315421</td>\n",
       "      <td>55.315421</td>\n",
       "      <td>55.315421</td>\n",
       "      <td>55.315421</td>\n",
       "      <td>55.315421</td>\n",
       "      <td>55.315421</td>\n",
       "      <td>0.0</td>\n",
       "    </tr>\n",
       "  </tbody>\n",
       "</table>\n",
       "<p>1 rows × 56 columns</p>\n",
       "</div>"
      ],
      "text/plain": [
       "                    InvestmentTrustsSales  StartDate  InvestmentTrustsTotal  \\\n",
       "Percentage missing              55.315421  55.315421              55.315421   \n",
       "\n",
       "                    InvestmentTrustsBalance  BusinessCosSales  \\\n",
       "Percentage missing                55.315421         55.315421   \n",
       "\n",
       "                    BusinessCosPurchases  BusinessCosTotal  \\\n",
       "Percentage missing             55.315421         55.315421   \n",
       "\n",
       "                    BusinessCosBalance  OtherInstitutionsSales  \\\n",
       "Percentage missing           55.315421               55.315421   \n",
       "\n",
       "                    OtherInstitutionsPurchases  ...  IndividualsPurchases  \\\n",
       "Percentage missing                   55.315421  ...             55.315421   \n",
       "\n",
       "                    IndividualsTotal  IndividualsBalance  ForeignersSales  \\\n",
       "Percentage missing         55.315421           55.315421        55.315421   \n",
       "\n",
       "                    ForeignersPurchases  ForeignersTotal  ForeignersBalance  \\\n",
       "Percentage missing            55.315421        55.315421          55.315421   \n",
       "\n",
       "                    SecuritiesCosSales  SecuritiesCosPurchases  Date  \n",
       "Percentage missing           55.315421               55.315421   0.0  \n",
       "\n",
       "[1 rows x 56 columns]"
      ]
     },
     "metadata": {},
     "output_type": "display_data"
    }
   ],
   "source": [
    "per(trades)"
   ]
  },
  {
   "cell_type": "code",
   "execution_count": 23,
   "id": "e963caf1",
   "metadata": {},
   "outputs": [
    {
     "name": "stdout",
     "output_type": "stream",
     "text": [
      "Percentage missing\n"
     ]
    },
    {
     "data": {
      "text/html": [
       "<div>\n",
       "<style scoped>\n",
       "    .dataframe tbody tr th:only-of-type {\n",
       "        vertical-align: middle;\n",
       "    }\n",
       "\n",
       "    .dataframe tbody tr th {\n",
       "        vertical-align: top;\n",
       "    }\n",
       "\n",
       "    .dataframe thead th {\n",
       "        text-align: right;\n",
       "    }\n",
       "</style>\n",
       "<table border=\"1\" class=\"dataframe\">\n",
       "  <thead>\n",
       "    <tr style=\"text-align: right;\">\n",
       "      <th></th>\n",
       "      <th>ExpectedDividend</th>\n",
       "      <th>Open</th>\n",
       "      <th>High</th>\n",
       "      <th>Low</th>\n",
       "      <th>Close</th>\n",
       "      <th>Target</th>\n",
       "      <th>RowId</th>\n",
       "      <th>Date</th>\n",
       "      <th>SecuritiesCode</th>\n",
       "      <th>Volume</th>\n",
       "      <th>AdjustmentFactor</th>\n",
       "      <th>SupervisionFlag</th>\n",
       "    </tr>\n",
       "  </thead>\n",
       "  <tbody>\n",
       "    <tr>\n",
       "      <th>Percentage missing</th>\n",
       "      <td>99.225942</td>\n",
       "      <td>3.847688</td>\n",
       "      <td>3.847688</td>\n",
       "      <td>3.847688</td>\n",
       "      <td>3.847688</td>\n",
       "      <td>0.03011</td>\n",
       "      <td>0.0</td>\n",
       "      <td>0.0</td>\n",
       "      <td>0.0</td>\n",
       "      <td>0.0</td>\n",
       "      <td>0.0</td>\n",
       "      <td>0.0</td>\n",
       "    </tr>\n",
       "  </tbody>\n",
       "</table>\n",
       "</div>"
      ],
      "text/plain": [
       "                    ExpectedDividend      Open      High       Low     Close  \\\n",
       "Percentage missing         99.225942  3.847688  3.847688  3.847688  3.847688   \n",
       "\n",
       "                     Target  RowId  Date  SecuritiesCode  Volume  \\\n",
       "Percentage missing  0.03011    0.0   0.0             0.0     0.0   \n",
       "\n",
       "                    AdjustmentFactor  SupervisionFlag  \n",
       "Percentage missing               0.0              0.0  "
      ]
     },
     "metadata": {},
     "output_type": "display_data"
    }
   ],
   "source": [
    "per(sec)"
   ]
  },
  {
   "cell_type": "code",
   "execution_count": 25,
   "id": "07507e9f",
   "metadata": {},
   "outputs": [
    {
     "name": "stdout",
     "output_type": "stream",
     "text": [
      "Percentage missing\n"
     ]
    },
    {
     "data": {
      "text/html": [
       "<div>\n",
       "<style scoped>\n",
       "    .dataframe tbody tr th:only-of-type {\n",
       "        vertical-align: middle;\n",
       "    }\n",
       "\n",
       "    .dataframe tbody tr th {\n",
       "        vertical-align: top;\n",
       "    }\n",
       "\n",
       "    .dataframe thead th {\n",
       "        text-align: right;\n",
       "    }\n",
       "</style>\n",
       "<table border=\"1\" class=\"dataframe\">\n",
       "  <thead>\n",
       "    <tr style=\"text-align: right;\">\n",
       "      <th></th>\n",
       "      <th>DateCode</th>\n",
       "      <th>OpenInterest</th>\n",
       "      <th>DividendRate</th>\n",
       "      <th>InterestRate</th>\n",
       "      <th>ImpliedVolatility</th>\n",
       "      <th>BaseVolatility</th>\n",
       "      <th>TheoreticalPrice</th>\n",
       "      <th>SettlementPrice</th>\n",
       "      <th>SpecialQuotationDay</th>\n",
       "      <th>LastTradingDay</th>\n",
       "      <th>...</th>\n",
       "      <th>NightSessionClose</th>\n",
       "      <th>NightSessionLow</th>\n",
       "      <th>NightSessionHigh</th>\n",
       "      <th>NightSessionOpen</th>\n",
       "      <th>WholeDayClose</th>\n",
       "      <th>WholeDayLow</th>\n",
       "      <th>WholeDayHigh</th>\n",
       "      <th>WholeDayOpen</th>\n",
       "      <th>OptionsCode</th>\n",
       "      <th>Dividend</th>\n",
       "    </tr>\n",
       "  </thead>\n",
       "  <tbody>\n",
       "    <tr>\n",
       "      <th>Percentage missing</th>\n",
       "      <td>0.0</td>\n",
       "      <td>0.0</td>\n",
       "      <td>0.0</td>\n",
       "      <td>0.0</td>\n",
       "      <td>0.0</td>\n",
       "      <td>0.0</td>\n",
       "      <td>0.0</td>\n",
       "      <td>0.0</td>\n",
       "      <td>0.0</td>\n",
       "      <td>0.0</td>\n",
       "      <td>...</td>\n",
       "      <td>0.0</td>\n",
       "      <td>0.0</td>\n",
       "      <td>0.0</td>\n",
       "      <td>0.0</td>\n",
       "      <td>0.0</td>\n",
       "      <td>0.0</td>\n",
       "      <td>0.0</td>\n",
       "      <td>0.0</td>\n",
       "      <td>0.0</td>\n",
       "      <td>0.0</td>\n",
       "    </tr>\n",
       "  </tbody>\n",
       "</table>\n",
       "<p>1 rows × 31 columns</p>\n",
       "</div>"
      ],
      "text/plain": [
       "                    DateCode  OpenInterest  DividendRate  InterestRate  \\\n",
       "Percentage missing       0.0           0.0           0.0           0.0   \n",
       "\n",
       "                    ImpliedVolatility  BaseVolatility  TheoreticalPrice  \\\n",
       "Percentage missing                0.0             0.0               0.0   \n",
       "\n",
       "                    SettlementPrice  SpecialQuotationDay  LastTradingDay  ...  \\\n",
       "Percentage missing              0.0                  0.0             0.0  ...   \n",
       "\n",
       "                    NightSessionClose  NightSessionLow  NightSessionHigh  \\\n",
       "Percentage missing                0.0              0.0               0.0   \n",
       "\n",
       "                    NightSessionOpen  WholeDayClose  WholeDayLow  \\\n",
       "Percentage missing               0.0            0.0          0.0   \n",
       "\n",
       "                    WholeDayHigh  WholeDayOpen  OptionsCode  Dividend  \n",
       "Percentage missing           0.0           0.0          0.0       0.0  \n",
       "\n",
       "[1 rows x 31 columns]"
      ]
     },
     "metadata": {},
     "output_type": "display_data"
    }
   ],
   "source": [
    "per(opt)"
   ]
  },
  {
   "cell_type": "code",
   "execution_count": 30,
   "id": "f40cb2b9",
   "metadata": {},
   "outputs": [
    {
     "data": {
      "text/plain": [
       "1202"
      ]
     },
     "execution_count": 30,
     "metadata": {},
     "output_type": "execute_result"
    }
   ],
   "source": [
    "stock['Date'].nunique()"
   ]
  },
  {
   "cell_type": "code",
   "execution_count": 32,
   "id": "50f6b5df",
   "metadata": {},
   "outputs": [
    {
     "data": {
      "text/plain": [
       "('2017-01-04', '2021-12-03')"
      ]
     },
     "execution_count": 32,
     "metadata": {},
     "output_type": "execute_result"
    }
   ],
   "source": [
    "stock['Date'].min(),stock['Date'].max()"
   ]
  },
  {
   "cell_type": "code",
   "execution_count": 38,
   "id": "1fdecaa9",
   "metadata": {},
   "outputs": [
    {
     "data": {
      "text/plain": [
       "2021-02-24    2000\n",
       "2021-12-03    2000\n",
       "2021-06-15    2000\n",
       "2021-11-15    2000\n",
       "2021-09-27    2000\n",
       "              ... \n",
       "2017-02-22    1865\n",
       "2017-02-06    1865\n",
       "2017-02-16    1865\n",
       "2017-01-20    1865\n",
       "2017-01-10    1865\n",
       "Name: Date, Length: 1202, dtype: int64"
      ]
     },
     "execution_count": 38,
     "metadata": {},
     "output_type": "execute_result"
    }
   ],
   "source": [
    "stock['Date'].value_counts()"
   ]
  },
  {
   "cell_type": "code",
   "execution_count": 44,
   "id": "31731147",
   "metadata": {},
   "outputs": [
    {
     "data": {
      "text/plain": [
       "2000"
      ]
     },
     "execution_count": 44,
     "metadata": {},
     "output_type": "execute_result"
    }
   ],
   "source": [
    "stock['SecuritiesCode'].nunique()"
   ]
  },
  {
   "cell_type": "code",
   "execution_count": 46,
   "id": "3677b7df",
   "metadata": {},
   "outputs": [
    {
     "data": {
      "text/plain": [
       "1202"
      ]
     },
     "execution_count": 46,
     "metadata": {},
     "output_type": "execute_result"
    }
   ],
   "source": [
    "stock['Date'].nunique()"
   ]
  },
  {
   "cell_type": "code",
   "execution_count": 47,
   "id": "57547acb",
   "metadata": {},
   "outputs": [
    {
     "name": "stdout",
     "output_type": "stream",
     "text": [
      "Percentage missing\n"
     ]
    },
    {
     "data": {
      "text/html": [
       "<div>\n",
       "<style scoped>\n",
       "    .dataframe tbody tr th:only-of-type {\n",
       "        vertical-align: middle;\n",
       "    }\n",
       "\n",
       "    .dataframe tbody tr th {\n",
       "        vertical-align: top;\n",
       "    }\n",
       "\n",
       "    .dataframe thead th {\n",
       "        text-align: right;\n",
       "    }\n",
       "</style>\n",
       "<table border=\"1\" class=\"dataframe\">\n",
       "  <thead>\n",
       "    <tr style=\"text-align: right;\">\n",
       "      <th></th>\n",
       "      <th>ExpectedDividend</th>\n",
       "      <th>Open</th>\n",
       "      <th>High</th>\n",
       "      <th>Low</th>\n",
       "      <th>Close</th>\n",
       "      <th>Target</th>\n",
       "      <th>RowId</th>\n",
       "      <th>Date</th>\n",
       "      <th>SecuritiesCode</th>\n",
       "      <th>Volume</th>\n",
       "      <th>AdjustmentFactor</th>\n",
       "      <th>SupervisionFlag</th>\n",
       "    </tr>\n",
       "  </thead>\n",
       "  <tbody>\n",
       "    <tr>\n",
       "      <th>Percentage missing</th>\n",
       "      <td>99.191222</td>\n",
       "      <td>0.326169</td>\n",
       "      <td>0.326169</td>\n",
       "      <td>0.326169</td>\n",
       "      <td>0.326169</td>\n",
       "      <td>0.010204</td>\n",
       "      <td>0.0</td>\n",
       "      <td>0.0</td>\n",
       "      <td>0.0</td>\n",
       "      <td>0.0</td>\n",
       "      <td>0.0</td>\n",
       "      <td>0.0</td>\n",
       "    </tr>\n",
       "  </tbody>\n",
       "</table>\n",
       "</div>"
      ],
      "text/plain": [
       "                    ExpectedDividend      Open      High       Low     Close  \\\n",
       "Percentage missing         99.191222  0.326169  0.326169  0.326169  0.326169   \n",
       "\n",
       "                      Target  RowId  Date  SecuritiesCode  Volume  \\\n",
       "Percentage missing  0.010204    0.0   0.0             0.0     0.0   \n",
       "\n",
       "                    AdjustmentFactor  SupervisionFlag  \n",
       "Percentage missing               0.0              0.0  "
      ]
     },
     "metadata": {},
     "output_type": "display_data"
    }
   ],
   "source": [
    "per(stock)"
   ]
  },
  {
   "cell_type": "code",
   "execution_count": 59,
   "id": "2fe4a109",
   "metadata": {},
   "outputs": [],
   "source": [
    "datesperid=stock.groupby(['SecuritiesCode'])[\"Date\"].count()"
   ]
  },
  {
   "cell_type": "code",
   "execution_count": 67,
   "id": "2ebcb566",
   "metadata": {},
   "outputs": [],
   "source": [
    "sumof=(datesperid==datesperid.max()).sum()"
   ]
  },
  {
   "cell_type": "code",
   "execution_count": 68,
   "id": "41a6cf88",
   "metadata": {},
   "outputs": [],
   "source": [
    "ratio=sumof / len(datesperid) * 100"
   ]
  },
  {
   "cell_type": "code",
   "execution_count": 69,
   "id": "75201250",
   "metadata": {},
   "outputs": [
    {
     "name": "stdout",
     "output_type": "stream",
     "text": [
      "93.25\n"
     ]
    }
   ],
   "source": [
    "print(ratio)"
   ]
  },
  {
   "cell_type": "code",
   "execution_count": 165,
   "id": "fc9523fd",
   "metadata": {},
   "outputs": [
    {
     "data": {
      "text/plain": [
       "<AxesSubplot:ylabel='Count'>"
      ]
     },
     "execution_count": 165,
     "metadata": {},
     "output_type": "execute_result"
    },
    {
     "data": {
      "image/png": "[encoded data removed]",
      "text/plain": [
       "<Figure size 432x288 with 1 Axes>"
      ]
     },
     "metadata": {
      "needs_background": "light"
     },
     "output_type": "display_data"
    }
   ],
   "source": [
    "sns.histplot(datesperid.values,label={ratio},kde=True)"
   ]
  },
  {
   "cell_type": "code",
   "execution_count": 77,
   "id": "1c2dbfb6",
   "metadata": {},
   "outputs": [],
   "source": [
    "bydates=stock.groupby(['Date'])['SecuritiesCode'].count()"
   ]
  },
  {
   "cell_type": "code",
   "execution_count": 78,
   "id": "9d978287",
   "metadata": {},
   "outputs": [],
   "source": [
    "sumofdates=(bydates==bydates.max()).sum()"
   ]
  },
  {
   "cell_type": "code",
   "execution_count": 80,
   "id": "1b84c3cd",
   "metadata": {},
   "outputs": [],
   "source": [
    "ratiodate=round(sumofdates/len(bydates)*100,2)"
   ]
  },
  {
   "cell_type": "code",
   "execution_count": 81,
   "id": "5c42b0aa",
   "metadata": {},
   "outputs": [
    {
     "name": "stdout",
     "output_type": "stream",
     "text": [
      "19.3\n"
     ]
    }
   ],
   "source": [
    "print(ratiodate)"
   ]
  },
  {
   "cell_type": "code",
   "execution_count": 97,
   "id": "56ab9864",
   "metadata": {},
   "outputs": [
    {
     "data": {
      "text/plain": [
       "<matplotlib.legend.Legend at 0x1f74b1ed760>"
      ]
     },
     "execution_count": 97,
     "metadata": {},
     "output_type": "execute_result"
    },
    {
     "data": {
      "image/png": "[encoded data removed]",
      "text/plain": [
       "<Figure size 720x360 with 1 Axes>"
      ]
     },
     "metadata": {
      "needs_background": "light"
     },
     "output_type": "display_data"
    }
   ],
   "source": [
    "fig,ax=plt.subplots(figsize=(10,5))\n",
    "ax.axvline(bydates.mean(),color='orange',label='mean')\n",
    "ax.axvline(bydates.median(),color='blue',label='median')\n",
    "sns.histplot(bydates.values,label=ratiodate)\n",
    "plt.legend()"
   ]
  },
  {
   "cell_type": "code",
   "execution_count": 83,
   "id": "eb1c4710",
   "metadata": {},
   "outputs": [
    {
     "data": {
      "text/plain": [
       "Date\n",
       "2017-01-04    1865\n",
       "2017-01-05    1865\n",
       "2017-01-06    1865\n",
       "2017-01-10    1865\n",
       "2017-01-11    1865\n",
       "              ... \n",
       "2021-11-29    2000\n",
       "2021-11-30    2000\n",
       "2021-12-01    2000\n",
       "2021-12-02    2000\n",
       "2021-12-03    2000\n",
       "Name: SecuritiesCode, Length: 1202, dtype: int64"
      ]
     },
     "execution_count": 83,
     "metadata": {},
     "output_type": "execute_result"
    }
   ],
   "source": [
    "stock.groupby(['Date'])['SecuritiesCode'].count()"
   ]
  },
  {
   "cell_type": "code",
   "execution_count": 137,
   "id": "d1afa88f",
   "metadata": {},
   "outputs": [
    {
     "data": {
      "text/plain": [
       "7608"
      ]
     },
     "execution_count": 137,
     "metadata": {},
     "output_type": "execute_result"
    }
   ],
   "source": [
    "stock['Close'].isnull().sum()"
   ]
  },
  {
   "cell_type": "code",
   "execution_count": 127,
   "id": "e23605ee",
   "metadata": {},
   "outputs": [],
   "source": [
    "datesas=stock.loc[stock[\"Close\"].isnull()]['Date'].value_counts()"
   ]
  },
  {
   "cell_type": "code",
   "execution_count": 128,
   "id": "c156313e",
   "metadata": {},
   "outputs": [
    {
     "data": {
      "text/plain": [
       "<AxesSubplot:ylabel='Count'>"
      ]
     },
     "execution_count": 128,
     "metadata": {},
     "output_type": "execute_result"
    },
    {
     "data": {
      "image/png": "[encoded data removed]",
      "text/plain": [
       "<Figure size 432x288 with 1 Axes>"
      ]
     },
     "metadata": {
      "needs_background": "light"
     },
     "output_type": "display_data"
    }
   ],
   "source": [
    "sns.histplot(datesas.values)"
   ]
  },
  {
   "cell_type": "code",
   "execution_count": 138,
   "id": "6f10a471",
   "metadata": {},
   "outputs": [
    {
     "data": {
      "text/plain": [
       "2020-10-01    1988\n",
       "2017-03-16      15\n",
       "2019-04-04      14\n",
       "2019-10-09      14\n",
       "2021-10-29      13\n",
       "              ... \n",
       "2017-11-15       1\n",
       "2019-05-14       1\n",
       "2018-01-17       1\n",
       "2021-03-19       1\n",
       "2018-09-25       1\n",
       "Name: Date, Length: 1175, dtype: int64"
      ]
     },
     "execution_count": 138,
     "metadata": {},
     "output_type": "execute_result"
    }
   ],
   "source": [
    "stock.loc[stock[\"Close\"].isnull()]['Date'].value_counts()\n"
   ]
  },
  {
   "cell_type": "code",
   "execution_count": 140,
   "id": "43c850a3",
   "metadata": {},
   "outputs": [
    {
     "data": {
      "text/html": [
       "<div>\n",
       "<style scoped>\n",
       "    .dataframe tbody tr th:only-of-type {\n",
       "        vertical-align: middle;\n",
       "    }\n",
       "\n",
       "    .dataframe tbody tr th {\n",
       "        vertical-align: top;\n",
       "    }\n",
       "\n",
       "    .dataframe thead th {\n",
       "        text-align: right;\n",
       "    }\n",
       "</style>\n",
       "<table border=\"1\" class=\"dataframe\">\n",
       "  <thead>\n",
       "    <tr style=\"text-align: right;\">\n",
       "      <th></th>\n",
       "      <th>RowId</th>\n",
       "      <th>Date</th>\n",
       "      <th>SecuritiesCode</th>\n",
       "      <th>Open</th>\n",
       "      <th>High</th>\n",
       "      <th>Low</th>\n",
       "      <th>Close</th>\n",
       "      <th>Volume</th>\n",
       "      <th>AdjustmentFactor</th>\n",
       "      <th>ExpectedDividend</th>\n",
       "      <th>SupervisionFlag</th>\n",
       "      <th>Target</th>\n",
       "    </tr>\n",
       "  </thead>\n",
       "  <tbody>\n",
       "    <tr>\n",
       "      <th>0</th>\n",
       "      <td>20170104_1301</td>\n",
       "      <td>2017-01-04</td>\n",
       "      <td>1301</td>\n",
       "      <td>2734.0</td>\n",
       "      <td>2755.0</td>\n",
       "      <td>2730.0</td>\n",
       "      <td>2742.0</td>\n",
       "      <td>31400</td>\n",
       "      <td>1.0</td>\n",
       "      <td>NaN</td>\n",
       "      <td>False</td>\n",
       "      <td>0.000730</td>\n",
       "    </tr>\n",
       "    <tr>\n",
       "      <th>1</th>\n",
       "      <td>20170104_1332</td>\n",
       "      <td>2017-01-04</td>\n",
       "      <td>1332</td>\n",
       "      <td>568.0</td>\n",
       "      <td>576.0</td>\n",
       "      <td>563.0</td>\n",
       "      <td>571.0</td>\n",
       "      <td>2798500</td>\n",
       "      <td>1.0</td>\n",
       "      <td>NaN</td>\n",
       "      <td>False</td>\n",
       "      <td>0.012324</td>\n",
       "    </tr>\n",
       "    <tr>\n",
       "      <th>2</th>\n",
       "      <td>20170104_1333</td>\n",
       "      <td>2017-01-04</td>\n",
       "      <td>1333</td>\n",
       "      <td>3150.0</td>\n",
       "      <td>3210.0</td>\n",
       "      <td>3140.0</td>\n",
       "      <td>3210.0</td>\n",
       "      <td>270800</td>\n",
       "      <td>1.0</td>\n",
       "      <td>NaN</td>\n",
       "      <td>False</td>\n",
       "      <td>0.006154</td>\n",
       "    </tr>\n",
       "    <tr>\n",
       "      <th>3</th>\n",
       "      <td>20170104_1376</td>\n",
       "      <td>2017-01-04</td>\n",
       "      <td>1376</td>\n",
       "      <td>1510.0</td>\n",
       "      <td>1550.0</td>\n",
       "      <td>1510.0</td>\n",
       "      <td>1550.0</td>\n",
       "      <td>11300</td>\n",
       "      <td>1.0</td>\n",
       "      <td>NaN</td>\n",
       "      <td>False</td>\n",
       "      <td>0.011053</td>\n",
       "    </tr>\n",
       "    <tr>\n",
       "      <th>4</th>\n",
       "      <td>20170104_1377</td>\n",
       "      <td>2017-01-04</td>\n",
       "      <td>1377</td>\n",
       "      <td>3270.0</td>\n",
       "      <td>3350.0</td>\n",
       "      <td>3270.0</td>\n",
       "      <td>3330.0</td>\n",
       "      <td>150800</td>\n",
       "      <td>1.0</td>\n",
       "      <td>NaN</td>\n",
       "      <td>False</td>\n",
       "      <td>0.003026</td>\n",
       "    </tr>\n",
       "  </tbody>\n",
       "</table>\n",
       "</div>"
      ],
      "text/plain": [
       "           RowId        Date  SecuritiesCode    Open    High     Low   Close  \\\n",
       "0  20170104_1301  2017-01-04            1301  2734.0  2755.0  2730.0  2742.0   \n",
       "1  20170104_1332  2017-01-04            1332   568.0   576.0   563.0   571.0   \n",
       "2  20170104_1333  2017-01-04            1333  3150.0  3210.0  3140.0  3210.0   \n",
       "3  20170104_1376  2017-01-04            1376  1510.0  1550.0  1510.0  1550.0   \n",
       "4  20170104_1377  2017-01-04            1377  3270.0  3350.0  3270.0  3330.0   \n",
       "\n",
       "    Volume  AdjustmentFactor  ExpectedDividend  SupervisionFlag    Target  \n",
       "0    31400               1.0               NaN            False  0.000730  \n",
       "1  2798500               1.0               NaN            False  0.012324  \n",
       "2   270800               1.0               NaN            False  0.006154  \n",
       "3    11300               1.0               NaN            False  0.011053  \n",
       "4   150800               1.0               NaN            False  0.003026  "
      ]
     },
     "execution_count": 140,
     "metadata": {},
     "output_type": "execute_result"
    }
   ],
   "source": [
    "stock.head()"
   ]
  },
  {
   "cell_type": "code",
   "execution_count": 168,
   "id": "17b25570",
   "metadata": {},
   "outputs": [],
   "source": [
    "targetmean=stock.groupby(['SecuritiesCode'])['Target'].mean()"
   ]
  },
  {
   "cell_type": "code",
   "execution_count": 169,
   "id": "855aed1a",
   "metadata": {},
   "outputs": [
    {
     "data": {
      "text/plain": [
       "<AxesSubplot:ylabel='Count'>"
      ]
     },
     "execution_count": 169,
     "metadata": {},
     "output_type": "execute_result"
    },
    {
     "data": {
      "image/png": "[encoded data removed]",
      "text/plain": [
       "<Figure size 432x288 with 1 Axes>"
      ]
     },
     "metadata": {
      "needs_background": "light"
     },
     "output_type": "display_data"
    }
   ],
   "source": [
    "sns.histplot(target.values,kde=True)"
   ]
  },
  {
   "cell_type": "code",
   "execution_count": 152,
   "id": "2e9b1874",
   "metadata": {},
   "outputs": [
    {
     "data": {
      "text/plain": [
       "2000"
      ]
     },
     "execution_count": 152,
     "metadata": {},
     "output_type": "execute_result"
    }
   ],
   "source": [
    "stock['SecuritiesCode'].nunique()"
   ]
  },
  {
   "cell_type": "code",
   "execution_count": 153,
   "id": "2faecbcb",
   "metadata": {},
   "outputs": [
    {
     "data": {
      "text/plain": [
       "SecuritiesCode\n",
       "1301    0.000176\n",
       "1332    0.000157\n",
       "1333   -0.000114\n",
       "1375   -0.001486\n",
       "1376    0.000068\n",
       "          ...   \n",
       "9990   -0.000530\n",
       "9991   -0.000132\n",
       "9993   -0.000016\n",
       "9994    0.000429\n",
       "9997    0.000204\n",
       "Name: Target, Length: 2000, dtype: float64"
      ]
     },
     "execution_count": 153,
     "metadata": {},
     "output_type": "execute_result"
    }
   ],
   "source": [
    "stock.groupby(['SecuritiesCode'])['Target'].mean()"
   ]
  },
  {
   "cell_type": "code",
   "execution_count": 180,
   "id": "7eae9f12",
   "metadata": {},
   "outputs": [
    {
     "data": {
      "text/plain": [
       "<AxesSubplot:ylabel='Count'>"
      ]
     },
     "execution_count": 180,
     "metadata": {},
     "output_type": "execute_result"
    },
    {
     "data": {
      "image/png": "[encoded data removed]",
      "text/plain": [
       "<Figure size 1440x720 with 1 Axes>"
      ]
     },
     "metadata": {
      "needs_background": "light"
     },
     "output_type": "display_data"
    }
   ],
   "source": [
    "fig,ax=plt.subplots(figsize=(20,10))\n",
    "\n",
    "targetstd=stock.groupby(['SecuritiesCode'])['Target'].std()\n",
    "ax.axvline(targetstd.mean(),color='red')\n",
    "\n",
    "sns.histplot(target.values,kde=True)"
   ]
  },
  {
   "cell_type": "code",
   "execution_count": 171,
   "id": "89ab5bdc",
   "metadata": {},
   "outputs": [
    {
     "data": {
      "text/plain": [
       "SecuritiesCode\n",
       "1301    0.012862\n",
       "1332    0.018726\n",
       "1333    0.016438\n",
       "1375    0.015739\n",
       "1376    0.017435\n",
       "          ...   \n",
       "9990    0.019395\n",
       "9991    0.017219\n",
       "9993    0.011822\n",
       "9994    0.018109\n",
       "9997    0.024332\n",
       "Name: Target, Length: 2000, dtype: float64"
      ]
     },
     "execution_count": 171,
     "metadata": {},
     "output_type": "execute_result"
    }
   ],
   "source": [
    "stock.groupby(['SecuritiesCode'])['Target'].std()"
   ]
  },
  {
   "cell_type": "code",
   "execution_count": 167,
   "id": "8930bd5a",
   "metadata": {},
   "outputs": [
    {
     "data": {
      "text/plain": [
       "SecuritiesCode\n",
       "1301    1202\n",
       "1332    1202\n",
       "1333    1202\n",
       "1375     297\n",
       "1376    1202\n",
       "        ... \n",
       "9990    1202\n",
       "9991    1202\n",
       "9993    1202\n",
       "9994    1202\n",
       "9997    1202\n",
       "Name: Date, Length: 2000, dtype: int64"
      ]
     },
     "execution_count": 167,
     "metadata": {},
     "output_type": "execute_result"
    }
   ],
   "source": [
    "stock.groupby(['SecuritiesCode'])[\"Date\"].count()"
   ]
  },
  {
   "cell_type": "code",
   "execution_count": 174,
   "id": "cfbc468b",
   "metadata": {},
   "outputs": [
    {
     "data": {
      "image/png": "[encoded data removed]",
      "text/plain": [
       "<Figure size 432x432 with 3 Axes>"
      ]
     },
     "metadata": {
      "needs_background": "light"
     },
     "output_type": "display_data"
    }
   ],
   "source": [
    "ax=sns.jointplot(x=datesperid,y=targetmean,kind=\"reg\")\n",
    "plt.show()"
   ]
  },
  {
   "cell_type": "code",
   "execution_count": 177,
   "id": "ea346e80",
   "metadata": {},
   "outputs": [
    {
     "data": {
      "image/png": "[encoded data removed]",
      "text/plain": [
       "<Figure size 432x432 with 3 Axes>"
      ]
     },
     "metadata": {
      "needs_background": "light"
     },
     "output_type": "display_data"
    }
   ],
   "source": [
    "ax=sns.jointplot(x=datesperid,y=targetstd,kind='reg')\n",
    "plt.show()"
   ]
  },
  {
   "cell_type": "code",
   "execution_count": 181,
   "id": "556d7a46",
   "metadata": {},
   "outputs": [
    {
     "data": {
      "image/png": "[encoded data removed]",
      "text/plain": [
       "<Figure size 432x432 with 3 Axes>"
      ]
     },
     "metadata": {
      "needs_background": "light"
     },
     "output_type": "display_data"
    }
   ],
   "source": [
    "datesperid=datesperid[datesperid!=1202]\n",
    "targetmean=targetmean[targetmean.index.isin(datesperid.index)]\n",
    "ax=sns.jointplot(x=datesperid,y=targetmean,kind='reg')"
   ]
  },
  {
   "cell_type": "code",
   "execution_count": 184,
   "id": "ef94dfc8",
   "metadata": {},
   "outputs": [
    {
     "data": {
      "image/png": "[encoded data removed]",
      "text/plain": [
       "<Figure size 432x432 with 3 Axes>"
      ]
     },
     "metadata": {
      "needs_background": "light"
     },
     "output_type": "display_data"
    }
   ],
   "source": [
    "targetstd=targetstd[targetstd.index.isin(datesperid.index)]\n",
    "ax=sns.jointplot(x=datesperid,y=targetstd,kind='reg')\n",
    "plt.show()"
   ]
  },
  {
   "cell_type": "code",
   "execution_count": 201,
   "id": "83f29d2e",
   "metadata": {},
   "outputs": [],
   "source": [
    "tm=targetmean.max()"
   ]
  },
  {
   "cell_type": "code",
   "execution_count": 202,
   "id": "2bda3acc",
   "metadata": {},
   "outputs": [
    {
     "name": "stdout",
     "output_type": "stream",
     "text": [
      "4169\n"
     ]
    }
   ],
   "source": [
    "maxstock=targetmean[targetmean==tm].index.values[0]\n",
    "print(maxstock)"
   ]
  },
  {
   "cell_type": "code",
   "execution_count": 210,
   "id": "dbc3601b",
   "metadata": {},
   "outputs": [
    {
     "data": {
      "text/plain": [
       "<AxesSubplot:ylabel='Count'>"
      ]
     },
     "execution_count": 210,
     "metadata": {},
     "output_type": "execute_result"
    },
    {
     "data": {
      "image/png": "[encoded data removed]",
      "text/plain": [
       "<Figure size 720x720 with 1 Axes>"
      ]
     },
     "metadata": {
      "needs_background": "light"
     },
     "output_type": "display_data"
    }
   ],
   "source": [
    "fig,ax=plt.subplots(figsize=(10,10))\n",
    "datetarget=stock.groupby(['Date'])['Target'].mean()\n",
    "datetargetmean=datetarget.mean()\n",
    "ax.axvline(datetargetmean,linestyle='--', color='blue')\n",
    "sns.histplot(datetarget.values,kde=True)"
   ]
  },
  {
   "cell_type": "code",
   "execution_count": 213,
   "id": "0dc58614",
   "metadata": {},
   "outputs": [
    {
     "data": {
      "text/plain": [
       "(-0.47, 5.13)"
      ]
     },
     "execution_count": 213,
     "metadata": {},
     "output_type": "execute_result"
    }
   ],
   "source": [
    "round(datetarget.skew(),2),round(datetarget.kurtosis(),2)"
   ]
  },
  {
   "cell_type": "code",
   "execution_count": 219,
   "id": "bde89cb2",
   "metadata": {},
   "outputs": [
    {
     "data": {
      "text/plain": [
       "<AxesSubplot:ylabel='Count'>"
      ]
     },
     "execution_count": 219,
     "metadata": {},
     "output_type": "execute_result"
    },
    {
     "data": {
      "image/png": "[encoded data removed]",
      "text/plain": [
       "<Figure size 720x720 with 1 Axes>"
      ]
     },
     "metadata": {
      "needs_background": "light"
     },
     "output_type": "display_data"
    }
   ],
   "source": [
    "fig,ax=plt.subplots(figsize=(10,10))\n",
    "datetargetstd=stock.groupby(['Date'])['Target'].std()\n",
    "datetargetstdmean=datetargetstd.mean()\n",
    "ax.axvline(datetargetstdmean,linestyle='--', color='blue')\n",
    "sns.histplot(datetargetstd.values,kde=True)"
   ]
  },
  {
   "cell_type": "code",
   "execution_count": 215,
   "id": "a45d9344",
   "metadata": {},
   "outputs": [
    {
     "data": {
      "text/plain": [
       "(2.24, 11.53)"
      ]
     },
     "execution_count": 215,
     "metadata": {},
     "output_type": "execute_result"
    }
   ],
   "source": [
    "round(datetarget.skew(),2),round(datetarget.kurtosis(),2)\n"
   ]
  },
  {
   "cell_type": "code",
   "execution_count": 218,
   "id": "f01d3fc9",
   "metadata": {},
   "outputs": [
    {
     "name": "stdout",
     "output_type": "stream",
     "text": [
      "['2020-09-29']\n"
     ]
    }
   ],
   "source": [
    "datetargetstd=datetargetstd[datetargetstd==0].index.values\n",
    "print(datetargetstd)"
   ]
  },
  {
   "cell_type": "code",
   "execution_count": 223,
   "id": "f867536a",
   "metadata": {},
   "outputs": [
    {
     "ename": "TypeError",
     "evalue": "'float' object is not subscriptable",
     "output_type": "error",
     "traceback": [
      "\u001b[1;31m---------------------------------------------------------------------------\u001b[0m",
      "\u001b[1;31mTypeError\u001b[0m                                 Traceback (most recent call last)",
      "\u001b[1;32m<ipython-input-223-0455e66a8cfb>\u001b[0m in \u001b[0;36m<module>\u001b[1;34m\u001b[0m\n\u001b[0;32m      1\u001b[0m \u001b[0mtm\u001b[0m\u001b[1;33m=\u001b[0m\u001b[0mdatetarget\u001b[0m\u001b[1;33m.\u001b[0m\u001b[0mmax\u001b[0m\u001b[1;33m(\u001b[0m\u001b[1;33m)\u001b[0m\u001b[1;33m\u001b[0m\u001b[1;33m\u001b[0m\u001b[0m\n\u001b[1;32m----> 2\u001b[1;33m \u001b[0mdatetargetmean\u001b[0m\u001b[1;33m=\u001b[0m\u001b[0mdatetargetmean\u001b[0m\u001b[1;33m[\u001b[0m\u001b[0mdatetargetmean\u001b[0m\u001b[1;33m==\u001b[0m\u001b[0mtm\u001b[0m\u001b[1;33m]\u001b[0m\u001b[1;33m.\u001b[0m\u001b[0mindex\u001b[0m\u001b[1;33m.\u001b[0m\u001b[0mvalues\u001b[0m\u001b[1;33m[\u001b[0m\u001b[1;36m0\u001b[0m\u001b[1;33m]\u001b[0m\u001b[1;33m\u001b[0m\u001b[1;33m\u001b[0m\u001b[0m\n\u001b[0m",
      "\u001b[1;31mTypeError\u001b[0m: 'float' object is not subscriptable"
     ]
    }
   ],
   "source": [
    "tm=datetarget.max()\n",
    "datetargetmean=datetargetmean[datetargetmean==tm].index.values[0]"
   ]
  },
  {
   "cell_type": "code",
   "execution_count": 225,
   "id": "9039d77b",
   "metadata": {},
   "outputs": [
    {
     "data": {
      "text/plain": [
       "Date\n",
       "2017-01-04    0.016376\n",
       "2017-01-05    0.018110\n",
       "2017-01-06    0.017747\n",
       "2017-01-10    0.016673\n",
       "2017-01-11    0.014910\n",
       "                ...   \n",
       "2021-11-29    0.019466\n",
       "2021-11-30    0.022477\n",
       "2021-12-01    0.021727\n",
       "2021-12-02    0.019898\n",
       "2021-12-03    0.019700\n",
       "Name: Target, Length: 1202, dtype: float64"
      ]
     },
     "execution_count": 225,
     "metadata": {},
     "output_type": "execute_result"
    }
   ],
   "source": [
    "datetarget\n"
   ]
  },
  {
   "cell_type": "code",
   "execution_count": null,
   "id": "28e9dbc3",
   "metadata": {},
   "outputs": [],
   "source": []
  }
 ],
 "metadata": {
  "kernelspec": {
   "display_name": "Python 3",
   "language": "python",
   "name": "python3"
  },
  "language_info": {
   "codemirror_mode": {
    "name": "ipython",
    "version": 3
   },
   "file_extension": ".py",
   "mimetype": "text/x-python",
   "name": "python",
   "nbconvert_exporter": "python",
   "pygments_lexer": "ipython3",
   "version": "3.8.8"
  }
 },
 "nbformat": 4,
 "nbformat_minor": 5
}
