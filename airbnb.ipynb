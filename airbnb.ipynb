{
 "cells": [
  {
   "cell_type": "code",
   "execution_count": 1,
   "id": "bf5c80f8",
   "metadata": {},
   "outputs": [
    {
     "name": "stderr",
     "output_type": "stream",
     "text": [
      "<ipython-input-1-e8b5528e1f8e>:4: DtypeWarning: Columns (25) have mixed types. Specify dtype option on import or set low_memory=False.\n",
      "  df=pd.read_csv(\"Airbnb_Open_Data.csv\")\n"
     ]
    },
    {
     "data": {
      "text/html": [
       "<div>\n",
       "<style scoped>\n",
       "    .dataframe tbody tr th:only-of-type {\n",
       "        vertical-align: middle;\n",
       "    }\n",
       "\n",
       "    .dataframe tbody tr th {\n",
       "        vertical-align: top;\n",
       "    }\n",
       "\n",
       "    .dataframe thead th {\n",
       "        text-align: right;\n",
       "    }\n",
       "</style>\n",
       "<table border=\"1\" class=\"dataframe\">\n",
       "  <thead>\n",
       "    <tr style=\"text-align: right;\">\n",
       "      <th></th>\n",
       "      <th>id</th>\n",
       "      <th>NAME</th>\n",
       "      <th>host id</th>\n",
       "      <th>host_identity_verified</th>\n",
       "      <th>host name</th>\n",
       "      <th>neighbourhood group</th>\n",
       "      <th>neighbourhood</th>\n",
       "      <th>lat</th>\n",
       "      <th>long</th>\n",
       "      <th>country</th>\n",
       "      <th>...</th>\n",
       "      <th>service fee</th>\n",
       "      <th>minimum nights</th>\n",
       "      <th>number of reviews</th>\n",
       "      <th>last review</th>\n",
       "      <th>reviews per month</th>\n",
       "      <th>review rate number</th>\n",
       "      <th>calculated host listings count</th>\n",
       "      <th>availability 365</th>\n",
       "      <th>house_rules</th>\n",
       "      <th>license</th>\n",
       "    </tr>\n",
       "  </thead>\n",
       "  <tbody>\n",
       "    <tr>\n",
       "      <th>0</th>\n",
       "      <td>1001254</td>\n",
       "      <td>Clean &amp; quiet apt home by the park</td>\n",
       "      <td>80014485718</td>\n",
       "      <td>unconfirmed</td>\n",
       "      <td>Madaline</td>\n",
       "      <td>Brooklyn</td>\n",
       "      <td>Kensington</td>\n",
       "      <td>40.64749</td>\n",
       "      <td>-73.97237</td>\n",
       "      <td>United States</td>\n",
       "      <td>...</td>\n",
       "      <td>$193</td>\n",
       "      <td>10.0</td>\n",
       "      <td>9.0</td>\n",
       "      <td>10/19/2021</td>\n",
       "      <td>0.21</td>\n",
       "      <td>4.0</td>\n",
       "      <td>6.0</td>\n",
       "      <td>286.0</td>\n",
       "      <td>Clean up and treat the home the way you'd like...</td>\n",
       "      <td>NaN</td>\n",
       "    </tr>\n",
       "    <tr>\n",
       "      <th>1</th>\n",
       "      <td>1002102</td>\n",
       "      <td>Skylit Midtown Castle</td>\n",
       "      <td>52335172823</td>\n",
       "      <td>verified</td>\n",
       "      <td>Jenna</td>\n",
       "      <td>Manhattan</td>\n",
       "      <td>Midtown</td>\n",
       "      <td>40.75362</td>\n",
       "      <td>-73.98377</td>\n",
       "      <td>United States</td>\n",
       "      <td>...</td>\n",
       "      <td>$28</td>\n",
       "      <td>30.0</td>\n",
       "      <td>45.0</td>\n",
       "      <td>5/21/2022</td>\n",
       "      <td>0.38</td>\n",
       "      <td>4.0</td>\n",
       "      <td>2.0</td>\n",
       "      <td>228.0</td>\n",
       "      <td>Pet friendly but please confirm with me if the...</td>\n",
       "      <td>NaN</td>\n",
       "    </tr>\n",
       "    <tr>\n",
       "      <th>2</th>\n",
       "      <td>1002403</td>\n",
       "      <td>THE VILLAGE OF HARLEM....NEW YORK !</td>\n",
       "      <td>78829239556</td>\n",
       "      <td>NaN</td>\n",
       "      <td>Elise</td>\n",
       "      <td>Manhattan</td>\n",
       "      <td>Harlem</td>\n",
       "      <td>40.80902</td>\n",
       "      <td>-73.94190</td>\n",
       "      <td>United States</td>\n",
       "      <td>...</td>\n",
       "      <td>$124</td>\n",
       "      <td>3.0</td>\n",
       "      <td>0.0</td>\n",
       "      <td>NaN</td>\n",
       "      <td>NaN</td>\n",
       "      <td>5.0</td>\n",
       "      <td>1.0</td>\n",
       "      <td>352.0</td>\n",
       "      <td>I encourage you to use my kitchen, cooking and...</td>\n",
       "      <td>NaN</td>\n",
       "    </tr>\n",
       "    <tr>\n",
       "      <th>3</th>\n",
       "      <td>1002755</td>\n",
       "      <td>NaN</td>\n",
       "      <td>85098326012</td>\n",
       "      <td>unconfirmed</td>\n",
       "      <td>Garry</td>\n",
       "      <td>Brooklyn</td>\n",
       "      <td>Clinton Hill</td>\n",
       "      <td>40.68514</td>\n",
       "      <td>-73.95976</td>\n",
       "      <td>United States</td>\n",
       "      <td>...</td>\n",
       "      <td>$74</td>\n",
       "      <td>30.0</td>\n",
       "      <td>270.0</td>\n",
       "      <td>7/5/2019</td>\n",
       "      <td>4.64</td>\n",
       "      <td>4.0</td>\n",
       "      <td>1.0</td>\n",
       "      <td>322.0</td>\n",
       "      <td>NaN</td>\n",
       "      <td>NaN</td>\n",
       "    </tr>\n",
       "    <tr>\n",
       "      <th>4</th>\n",
       "      <td>1003689</td>\n",
       "      <td>Entire Apt: Spacious Studio/Loft by central park</td>\n",
       "      <td>92037596077</td>\n",
       "      <td>verified</td>\n",
       "      <td>Lyndon</td>\n",
       "      <td>Manhattan</td>\n",
       "      <td>East Harlem</td>\n",
       "      <td>40.79851</td>\n",
       "      <td>-73.94399</td>\n",
       "      <td>United States</td>\n",
       "      <td>...</td>\n",
       "      <td>$41</td>\n",
       "      <td>10.0</td>\n",
       "      <td>9.0</td>\n",
       "      <td>11/19/2018</td>\n",
       "      <td>0.10</td>\n",
       "      <td>3.0</td>\n",
       "      <td>1.0</td>\n",
       "      <td>289.0</td>\n",
       "      <td>Please no smoking in the house, porch or on th...</td>\n",
       "      <td>NaN</td>\n",
       "    </tr>\n",
       "  </tbody>\n",
       "</table>\n",
       "<p>5 rows × 26 columns</p>\n",
       "</div>"
      ],
      "text/plain": [
       "        id                                              NAME      host id  \\\n",
       "0  1001254                Clean & quiet apt home by the park  80014485718   \n",
       "1  1002102                             Skylit Midtown Castle  52335172823   \n",
       "2  1002403               THE VILLAGE OF HARLEM....NEW YORK !  78829239556   \n",
       "3  1002755                                               NaN  85098326012   \n",
       "4  1003689  Entire Apt: Spacious Studio/Loft by central park  92037596077   \n",
       "\n",
       "  host_identity_verified host name neighbourhood group neighbourhood  \\\n",
       "0            unconfirmed  Madaline            Brooklyn    Kensington   \n",
       "1               verified     Jenna           Manhattan       Midtown   \n",
       "2                    NaN     Elise           Manhattan        Harlem   \n",
       "3            unconfirmed     Garry            Brooklyn  Clinton Hill   \n",
       "4               verified    Lyndon           Manhattan   East Harlem   \n",
       "\n",
       "        lat      long        country  ... service fee minimum nights  \\\n",
       "0  40.64749 -73.97237  United States  ...       $193            10.0   \n",
       "1  40.75362 -73.98377  United States  ...        $28            30.0   \n",
       "2  40.80902 -73.94190  United States  ...       $124             3.0   \n",
       "3  40.68514 -73.95976  United States  ...        $74            30.0   \n",
       "4  40.79851 -73.94399  United States  ...        $41            10.0   \n",
       "\n",
       "  number of reviews last review  reviews per month review rate number  \\\n",
       "0               9.0  10/19/2021               0.21                4.0   \n",
       "1              45.0   5/21/2022               0.38                4.0   \n",
       "2               0.0         NaN                NaN                5.0   \n",
       "3             270.0    7/5/2019               4.64                4.0   \n",
       "4               9.0  11/19/2018               0.10                3.0   \n",
       "\n",
       "  calculated host listings count  availability 365  \\\n",
       "0                            6.0             286.0   \n",
       "1                            2.0             228.0   \n",
       "2                            1.0             352.0   \n",
       "3                            1.0             322.0   \n",
       "4                            1.0             289.0   \n",
       "\n",
       "                                         house_rules license  \n",
       "0  Clean up and treat the home the way you'd like...     NaN  \n",
       "1  Pet friendly but please confirm with me if the...     NaN  \n",
       "2  I encourage you to use my kitchen, cooking and...     NaN  \n",
       "3                                                NaN     NaN  \n",
       "4  Please no smoking in the house, porch or on th...     NaN  \n",
       "\n",
       "[5 rows x 26 columns]"
      ]
     },
     "execution_count": 1,
     "metadata": {},
     "output_type": "execute_result"
    }
   ],
   "source": [
    "import pandas as pd\n",
    "import numpy as np\n",
    "import matplotlib.pyplot as plt\n",
    "df=pd.read_csv(\"Airbnb_Open_Data.csv\")\n",
    "df.head()"
   ]
  },
  {
   "cell_type": "code",
   "execution_count": 2,
   "id": "8c23c4a0",
   "metadata": {},
   "outputs": [
    {
     "data": {
      "text/html": [
       "<div>\n",
       "<style scoped>\n",
       "    .dataframe tbody tr th:only-of-type {\n",
       "        vertical-align: middle;\n",
       "    }\n",
       "\n",
       "    .dataframe tbody tr th {\n",
       "        vertical-align: top;\n",
       "    }\n",
       "\n",
       "    .dataframe thead th {\n",
       "        text-align: right;\n",
       "    }\n",
       "</style>\n",
       "<table border=\"1\" class=\"dataframe\">\n",
       "  <thead>\n",
       "    <tr style=\"text-align: right;\">\n",
       "      <th></th>\n",
       "      <th>id</th>\n",
       "      <th>host id</th>\n",
       "      <th>lat</th>\n",
       "      <th>long</th>\n",
       "      <th>Construction year</th>\n",
       "      <th>minimum nights</th>\n",
       "      <th>number of reviews</th>\n",
       "      <th>reviews per month</th>\n",
       "      <th>review rate number</th>\n",
       "      <th>calculated host listings count</th>\n",
       "      <th>availability 365</th>\n",
       "    </tr>\n",
       "  </thead>\n",
       "  <tbody>\n",
       "    <tr>\n",
       "      <th>count</th>\n",
       "      <td>1.025990e+05</td>\n",
       "      <td>1.025990e+05</td>\n",
       "      <td>102591.000000</td>\n",
       "      <td>102591.000000</td>\n",
       "      <td>102385.000000</td>\n",
       "      <td>102190.000000</td>\n",
       "      <td>102416.000000</td>\n",
       "      <td>86720.000000</td>\n",
       "      <td>102273.000000</td>\n",
       "      <td>102280.000000</td>\n",
       "      <td>102151.000000</td>\n",
       "    </tr>\n",
       "    <tr>\n",
       "      <th>mean</th>\n",
       "      <td>2.914623e+07</td>\n",
       "      <td>4.925411e+10</td>\n",
       "      <td>40.728094</td>\n",
       "      <td>-73.949644</td>\n",
       "      <td>2012.487464</td>\n",
       "      <td>8.135845</td>\n",
       "      <td>27.483743</td>\n",
       "      <td>1.374022</td>\n",
       "      <td>3.279106</td>\n",
       "      <td>7.936605</td>\n",
       "      <td>141.133254</td>\n",
       "    </tr>\n",
       "    <tr>\n",
       "      <th>std</th>\n",
       "      <td>1.625751e+07</td>\n",
       "      <td>2.853900e+10</td>\n",
       "      <td>0.055857</td>\n",
       "      <td>0.049521</td>\n",
       "      <td>5.765556</td>\n",
       "      <td>30.553781</td>\n",
       "      <td>49.508954</td>\n",
       "      <td>1.746621</td>\n",
       "      <td>1.284657</td>\n",
       "      <td>32.218780</td>\n",
       "      <td>135.435024</td>\n",
       "    </tr>\n",
       "    <tr>\n",
       "      <th>min</th>\n",
       "      <td>1.001254e+06</td>\n",
       "      <td>1.236005e+08</td>\n",
       "      <td>40.499790</td>\n",
       "      <td>-74.249840</td>\n",
       "      <td>2003.000000</td>\n",
       "      <td>-1223.000000</td>\n",
       "      <td>0.000000</td>\n",
       "      <td>0.010000</td>\n",
       "      <td>1.000000</td>\n",
       "      <td>1.000000</td>\n",
       "      <td>-10.000000</td>\n",
       "    </tr>\n",
       "    <tr>\n",
       "      <th>25%</th>\n",
       "      <td>1.508581e+07</td>\n",
       "      <td>2.458333e+10</td>\n",
       "      <td>40.688740</td>\n",
       "      <td>-73.982580</td>\n",
       "      <td>2007.000000</td>\n",
       "      <td>2.000000</td>\n",
       "      <td>1.000000</td>\n",
       "      <td>0.220000</td>\n",
       "      <td>2.000000</td>\n",
       "      <td>1.000000</td>\n",
       "      <td>3.000000</td>\n",
       "    </tr>\n",
       "    <tr>\n",
       "      <th>50%</th>\n",
       "      <td>2.913660e+07</td>\n",
       "      <td>4.911774e+10</td>\n",
       "      <td>40.722290</td>\n",
       "      <td>-73.954440</td>\n",
       "      <td>2012.000000</td>\n",
       "      <td>3.000000</td>\n",
       "      <td>7.000000</td>\n",
       "      <td>0.740000</td>\n",
       "      <td>3.000000</td>\n",
       "      <td>1.000000</td>\n",
       "      <td>96.000000</td>\n",
       "    </tr>\n",
       "    <tr>\n",
       "      <th>75%</th>\n",
       "      <td>4.320120e+07</td>\n",
       "      <td>7.399650e+10</td>\n",
       "      <td>40.762760</td>\n",
       "      <td>-73.932350</td>\n",
       "      <td>2017.000000</td>\n",
       "      <td>5.000000</td>\n",
       "      <td>30.000000</td>\n",
       "      <td>2.000000</td>\n",
       "      <td>4.000000</td>\n",
       "      <td>2.000000</td>\n",
       "      <td>269.000000</td>\n",
       "    </tr>\n",
       "    <tr>\n",
       "      <th>max</th>\n",
       "      <td>5.736742e+07</td>\n",
       "      <td>9.876313e+10</td>\n",
       "      <td>40.916970</td>\n",
       "      <td>-73.705220</td>\n",
       "      <td>2022.000000</td>\n",
       "      <td>5645.000000</td>\n",
       "      <td>1024.000000</td>\n",
       "      <td>90.000000</td>\n",
       "      <td>5.000000</td>\n",
       "      <td>332.000000</td>\n",
       "      <td>3677.000000</td>\n",
       "    </tr>\n",
       "  </tbody>\n",
       "</table>\n",
       "</div>"
      ],
      "text/plain": [
       "                 id       host id            lat           long  \\\n",
       "count  1.025990e+05  1.025990e+05  102591.000000  102591.000000   \n",
       "mean   2.914623e+07  4.925411e+10      40.728094     -73.949644   \n",
       "std    1.625751e+07  2.853900e+10       0.055857       0.049521   \n",
       "min    1.001254e+06  1.236005e+08      40.499790     -74.249840   \n",
       "25%    1.508581e+07  2.458333e+10      40.688740     -73.982580   \n",
       "50%    2.913660e+07  4.911774e+10      40.722290     -73.954440   \n",
       "75%    4.320120e+07  7.399650e+10      40.762760     -73.932350   \n",
       "max    5.736742e+07  9.876313e+10      40.916970     -73.705220   \n",
       "\n",
       "       Construction year  minimum nights  number of reviews  \\\n",
       "count      102385.000000   102190.000000      102416.000000   \n",
       "mean         2012.487464        8.135845          27.483743   \n",
       "std             5.765556       30.553781          49.508954   \n",
       "min          2003.000000    -1223.000000           0.000000   \n",
       "25%          2007.000000        2.000000           1.000000   \n",
       "50%          2012.000000        3.000000           7.000000   \n",
       "75%          2017.000000        5.000000          30.000000   \n",
       "max          2022.000000     5645.000000        1024.000000   \n",
       "\n",
       "       reviews per month  review rate number  calculated host listings count  \\\n",
       "count       86720.000000       102273.000000                   102280.000000   \n",
       "mean            1.374022            3.279106                        7.936605   \n",
       "std             1.746621            1.284657                       32.218780   \n",
       "min             0.010000            1.000000                        1.000000   \n",
       "25%             0.220000            2.000000                        1.000000   \n",
       "50%             0.740000            3.000000                        1.000000   \n",
       "75%             2.000000            4.000000                        2.000000   \n",
       "max            90.000000            5.000000                      332.000000   \n",
       "\n",
       "       availability 365  \n",
       "count     102151.000000  \n",
       "mean         141.133254  \n",
       "std          135.435024  \n",
       "min          -10.000000  \n",
       "25%            3.000000  \n",
       "50%           96.000000  \n",
       "75%          269.000000  \n",
       "max         3677.000000  "
      ]
     },
     "execution_count": 2,
     "metadata": {},
     "output_type": "execute_result"
    }
   ],
   "source": [
    "df.describe()\n"
   ]
  },
  {
   "cell_type": "code",
   "execution_count": 3,
   "id": "42841d34",
   "metadata": {},
   "outputs": [
    {
     "name": "stdout",
     "output_type": "stream",
     "text": [
      "<class 'pandas.core.frame.DataFrame'>\n",
      "RangeIndex: 102599 entries, 0 to 102598\n",
      "Data columns (total 26 columns):\n",
      " #   Column                          Non-Null Count   Dtype  \n",
      "---  ------                          --------------   -----  \n",
      " 0   id                              102599 non-null  int64  \n",
      " 1   NAME                            102349 non-null  object \n",
      " 2   host id                         102599 non-null  int64  \n",
      " 3   host_identity_verified          102310 non-null  object \n",
      " 4   host name                       102193 non-null  object \n",
      " 5   neighbourhood group             102570 non-null  object \n",
      " 6   neighbourhood                   102583 non-null  object \n",
      " 7   lat                             102591 non-null  float64\n",
      " 8   long                            102591 non-null  float64\n",
      " 9   country                         102067 non-null  object \n",
      " 10  country code                    102468 non-null  object \n",
      " 11  instant_bookable                102494 non-null  object \n",
      " 12  cancellation_policy             102523 non-null  object \n",
      " 13  room type                       102599 non-null  object \n",
      " 14  Construction year               102385 non-null  float64\n",
      " 15  price                           102352 non-null  object \n",
      " 16  service fee                     102326 non-null  object \n",
      " 17  minimum nights                  102190 non-null  float64\n",
      " 18  number of reviews               102416 non-null  float64\n",
      " 19  last review                     86706 non-null   object \n",
      " 20  reviews per month               86720 non-null   float64\n",
      " 21  review rate number              102273 non-null  float64\n",
      " 22  calculated host listings count  102280 non-null  float64\n",
      " 23  availability 365                102151 non-null  float64\n",
      " 24  house_rules                     50468 non-null   object \n",
      " 25  license                         2 non-null       object \n",
      "dtypes: float64(9), int64(2), object(15)\n",
      "memory usage: 20.4+ MB\n"
     ]
    }
   ],
   "source": [
    "df.info()"
   ]
  },
  {
   "cell_type": "code",
   "execution_count": 4,
   "id": "5b1d5426",
   "metadata": {},
   "outputs": [
    {
     "data": {
      "text/html": [
       "<div>\n",
       "<style scoped>\n",
       "    .dataframe tbody tr th:only-of-type {\n",
       "        vertical-align: middle;\n",
       "    }\n",
       "\n",
       "    .dataframe tbody tr th {\n",
       "        vertical-align: top;\n",
       "    }\n",
       "\n",
       "    .dataframe thead th {\n",
       "        text-align: right;\n",
       "    }\n",
       "</style>\n",
       "<table border=\"1\" class=\"dataframe\">\n",
       "  <thead>\n",
       "    <tr style=\"text-align: right;\">\n",
       "      <th></th>\n",
       "      <th>id</th>\n",
       "      <th>NAME</th>\n",
       "      <th>host id</th>\n",
       "      <th>host_identity_verified</th>\n",
       "      <th>host name</th>\n",
       "      <th>neighbourhood group</th>\n",
       "      <th>neighbourhood</th>\n",
       "      <th>lat</th>\n",
       "      <th>long</th>\n",
       "      <th>country</th>\n",
       "      <th>...</th>\n",
       "      <th>service fee</th>\n",
       "      <th>minimum nights</th>\n",
       "      <th>number of reviews</th>\n",
       "      <th>last review</th>\n",
       "      <th>reviews per month</th>\n",
       "      <th>review rate number</th>\n",
       "      <th>calculated host listings count</th>\n",
       "      <th>availability 365</th>\n",
       "      <th>house_rules</th>\n",
       "      <th>license</th>\n",
       "    </tr>\n",
       "  </thead>\n",
       "  <tbody>\n",
       "    <tr>\n",
       "      <th>11114</th>\n",
       "      <td>7139598</td>\n",
       "      <td>Cozy 1 BR on Bedford Avenue, Wburg</td>\n",
       "      <td>73023181304</td>\n",
       "      <td>verified</td>\n",
       "      <td>Christina</td>\n",
       "      <td>Brooklyn</td>\n",
       "      <td>Williamsburg</td>\n",
       "      <td>40.71764</td>\n",
       "      <td>-73.95689</td>\n",
       "      <td>United States</td>\n",
       "      <td>...</td>\n",
       "      <td>$140</td>\n",
       "      <td>1.0</td>\n",
       "      <td>1.0</td>\n",
       "      <td>1/3/2016</td>\n",
       "      <td>0.02</td>\n",
       "      <td>1.0</td>\n",
       "      <td>1.0</td>\n",
       "      <td>191.0</td>\n",
       "      <td>Dear Guest, Thank you for appreciating that I ...</td>\n",
       "      <td>41662/AL</td>\n",
       "    </tr>\n",
       "    <tr>\n",
       "      <th>72947</th>\n",
       "      <td>41289964</td>\n",
       "      <td>Cozy 1 BR on Bedford Avenue, Wburg</td>\n",
       "      <td>25804773951</td>\n",
       "      <td>unconfirmed</td>\n",
       "      <td>Christina</td>\n",
       "      <td>Brooklyn</td>\n",
       "      <td>Williamsburg</td>\n",
       "      <td>40.71764</td>\n",
       "      <td>-73.95689</td>\n",
       "      <td>United States</td>\n",
       "      <td>...</td>\n",
       "      <td>$140</td>\n",
       "      <td>1.0</td>\n",
       "      <td>1.0</td>\n",
       "      <td>1/3/2016</td>\n",
       "      <td>0.02</td>\n",
       "      <td>1.0</td>\n",
       "      <td>1.0</td>\n",
       "      <td>0.0</td>\n",
       "      <td>NaN</td>\n",
       "      <td>41662/AL</td>\n",
       "    </tr>\n",
       "  </tbody>\n",
       "</table>\n",
       "<p>2 rows × 26 columns</p>\n",
       "</div>"
      ],
      "text/plain": [
       "             id                                NAME      host id  \\\n",
       "11114   7139598  Cozy 1 BR on Bedford Avenue, Wburg  73023181304   \n",
       "72947  41289964  Cozy 1 BR on Bedford Avenue, Wburg  25804773951   \n",
       "\n",
       "      host_identity_verified  host name neighbourhood group neighbourhood  \\\n",
       "11114               verified  Christina            Brooklyn  Williamsburg   \n",
       "72947            unconfirmed  Christina            Brooklyn  Williamsburg   \n",
       "\n",
       "            lat      long        country  ... service fee minimum nights  \\\n",
       "11114  40.71764 -73.95689  United States  ...       $140             1.0   \n",
       "72947  40.71764 -73.95689  United States  ...       $140             1.0   \n",
       "\n",
       "      number of reviews last review  reviews per month review rate number  \\\n",
       "11114               1.0    1/3/2016               0.02                1.0   \n",
       "72947               1.0    1/3/2016               0.02                1.0   \n",
       "\n",
       "      calculated host listings count  availability 365  \\\n",
       "11114                            1.0             191.0   \n",
       "72947                            1.0               0.0   \n",
       "\n",
       "                                             house_rules   license  \n",
       "11114  Dear Guest, Thank you for appreciating that I ...  41662/AL  \n",
       "72947                                                NaN  41662/AL  \n",
       "\n",
       "[2 rows x 26 columns]"
      ]
     },
     "execution_count": 4,
     "metadata": {},
     "output_type": "execute_result"
    }
   ],
   "source": [
    "df.loc[df[\"license\"].notnull()]"
   ]
  },
  {
   "cell_type": "code",
   "execution_count": 5,
   "id": "bd5d3a61",
   "metadata": {},
   "outputs": [
    {
     "data": {
      "text/plain": [
       "id                                     0\n",
       "NAME                                 250\n",
       "host id                                0\n",
       "host_identity_verified               289\n",
       "host name                            406\n",
       "neighbourhood group                   29\n",
       "neighbourhood                         16\n",
       "lat                                    8\n",
       "long                                   8\n",
       "country                              532\n",
       "country code                         131\n",
       "instant_bookable                     105\n",
       "cancellation_policy                   76\n",
       "room type                              0\n",
       "Construction year                    214\n",
       "price                                247\n",
       "service fee                          273\n",
       "minimum nights                       409\n",
       "number of reviews                    183\n",
       "last review                        15893\n",
       "reviews per month                  15879\n",
       "review rate number                   326\n",
       "calculated host listings count       319\n",
       "availability 365                     448\n",
       "house_rules                        52131\n",
       "license                           102597\n",
       "dtype: int64"
      ]
     },
     "execution_count": 5,
     "metadata": {},
     "output_type": "execute_result"
    }
   ],
   "source": [
    "df.isnull().sum()"
   ]
  },
  {
   "cell_type": "code",
   "execution_count": 6,
   "id": "bf968449",
   "metadata": {},
   "outputs": [],
   "source": [
    "df=df.drop('license',axis=1)"
   ]
  },
  {
   "cell_type": "code",
   "execution_count": 7,
   "id": "e252b95c",
   "metadata": {},
   "outputs": [
    {
     "data": {
      "text/plain": [
       "id                                    0\n",
       "NAME                                250\n",
       "host id                               0\n",
       "host_identity_verified              289\n",
       "host name                           406\n",
       "neighbourhood group                  29\n",
       "neighbourhood                        16\n",
       "lat                                   8\n",
       "long                                  8\n",
       "country                             532\n",
       "country code                        131\n",
       "instant_bookable                    105\n",
       "cancellation_policy                  76\n",
       "room type                             0\n",
       "Construction year                   214\n",
       "price                               247\n",
       "service fee                         273\n",
       "minimum nights                      409\n",
       "number of reviews                   183\n",
       "last review                       15893\n",
       "reviews per month                 15879\n",
       "review rate number                  326\n",
       "calculated host listings count      319\n",
       "availability 365                    448\n",
       "house_rules                       52131\n",
       "dtype: int64"
      ]
     },
     "execution_count": 7,
     "metadata": {},
     "output_type": "execute_result"
    }
   ],
   "source": [
    "df.isnull().sum()"
   ]
  },
  {
   "cell_type": "code",
   "execution_count": 8,
   "id": "d75c4042",
   "metadata": {},
   "outputs": [
    {
     "data": {
      "text/html": [
       "<div>\n",
       "<style scoped>\n",
       "    .dataframe tbody tr th:only-of-type {\n",
       "        vertical-align: middle;\n",
       "    }\n",
       "\n",
       "    .dataframe tbody tr th {\n",
       "        vertical-align: top;\n",
       "    }\n",
       "\n",
       "    .dataframe thead th {\n",
       "        text-align: right;\n",
       "    }\n",
       "</style>\n",
       "<table border=\"1\" class=\"dataframe\">\n",
       "  <thead>\n",
       "    <tr style=\"text-align: right;\">\n",
       "      <th></th>\n",
       "      <th>id</th>\n",
       "      <th>host id</th>\n",
       "      <th>lat</th>\n",
       "      <th>long</th>\n",
       "      <th>Construction year</th>\n",
       "      <th>minimum nights</th>\n",
       "      <th>number of reviews</th>\n",
       "      <th>reviews per month</th>\n",
       "      <th>review rate number</th>\n",
       "      <th>calculated host listings count</th>\n",
       "      <th>availability 365</th>\n",
       "    </tr>\n",
       "  </thead>\n",
       "  <tbody>\n",
       "    <tr>\n",
       "      <th>count</th>\n",
       "      <td>1.025990e+05</td>\n",
       "      <td>1.025990e+05</td>\n",
       "      <td>102591.000000</td>\n",
       "      <td>102591.000000</td>\n",
       "      <td>102385.000000</td>\n",
       "      <td>102190.000000</td>\n",
       "      <td>102416.000000</td>\n",
       "      <td>86720.000000</td>\n",
       "      <td>102273.000000</td>\n",
       "      <td>102280.000000</td>\n",
       "      <td>102151.000000</td>\n",
       "    </tr>\n",
       "    <tr>\n",
       "      <th>mean</th>\n",
       "      <td>2.914623e+07</td>\n",
       "      <td>4.925411e+10</td>\n",
       "      <td>40.728094</td>\n",
       "      <td>-73.949644</td>\n",
       "      <td>2012.487464</td>\n",
       "      <td>8.135845</td>\n",
       "      <td>27.483743</td>\n",
       "      <td>1.374022</td>\n",
       "      <td>3.279106</td>\n",
       "      <td>7.936605</td>\n",
       "      <td>141.133254</td>\n",
       "    </tr>\n",
       "    <tr>\n",
       "      <th>std</th>\n",
       "      <td>1.625751e+07</td>\n",
       "      <td>2.853900e+10</td>\n",
       "      <td>0.055857</td>\n",
       "      <td>0.049521</td>\n",
       "      <td>5.765556</td>\n",
       "      <td>30.553781</td>\n",
       "      <td>49.508954</td>\n",
       "      <td>1.746621</td>\n",
       "      <td>1.284657</td>\n",
       "      <td>32.218780</td>\n",
       "      <td>135.435024</td>\n",
       "    </tr>\n",
       "    <tr>\n",
       "      <th>min</th>\n",
       "      <td>1.001254e+06</td>\n",
       "      <td>1.236005e+08</td>\n",
       "      <td>40.499790</td>\n",
       "      <td>-74.249840</td>\n",
       "      <td>2003.000000</td>\n",
       "      <td>-1223.000000</td>\n",
       "      <td>0.000000</td>\n",
       "      <td>0.010000</td>\n",
       "      <td>1.000000</td>\n",
       "      <td>1.000000</td>\n",
       "      <td>-10.000000</td>\n",
       "    </tr>\n",
       "    <tr>\n",
       "      <th>25%</th>\n",
       "      <td>1.508581e+07</td>\n",
       "      <td>2.458333e+10</td>\n",
       "      <td>40.688740</td>\n",
       "      <td>-73.982580</td>\n",
       "      <td>2007.000000</td>\n",
       "      <td>2.000000</td>\n",
       "      <td>1.000000</td>\n",
       "      <td>0.220000</td>\n",
       "      <td>2.000000</td>\n",
       "      <td>1.000000</td>\n",
       "      <td>3.000000</td>\n",
       "    </tr>\n",
       "    <tr>\n",
       "      <th>50%</th>\n",
       "      <td>2.913660e+07</td>\n",
       "      <td>4.911774e+10</td>\n",
       "      <td>40.722290</td>\n",
       "      <td>-73.954440</td>\n",
       "      <td>2012.000000</td>\n",
       "      <td>3.000000</td>\n",
       "      <td>7.000000</td>\n",
       "      <td>0.740000</td>\n",
       "      <td>3.000000</td>\n",
       "      <td>1.000000</td>\n",
       "      <td>96.000000</td>\n",
       "    </tr>\n",
       "    <tr>\n",
       "      <th>75%</th>\n",
       "      <td>4.320120e+07</td>\n",
       "      <td>7.399650e+10</td>\n",
       "      <td>40.762760</td>\n",
       "      <td>-73.932350</td>\n",
       "      <td>2017.000000</td>\n",
       "      <td>5.000000</td>\n",
       "      <td>30.000000</td>\n",
       "      <td>2.000000</td>\n",
       "      <td>4.000000</td>\n",
       "      <td>2.000000</td>\n",
       "      <td>269.000000</td>\n",
       "    </tr>\n",
       "    <tr>\n",
       "      <th>max</th>\n",
       "      <td>5.736742e+07</td>\n",
       "      <td>9.876313e+10</td>\n",
       "      <td>40.916970</td>\n",
       "      <td>-73.705220</td>\n",
       "      <td>2022.000000</td>\n",
       "      <td>5645.000000</td>\n",
       "      <td>1024.000000</td>\n",
       "      <td>90.000000</td>\n",
       "      <td>5.000000</td>\n",
       "      <td>332.000000</td>\n",
       "      <td>3677.000000</td>\n",
       "    </tr>\n",
       "  </tbody>\n",
       "</table>\n",
       "</div>"
      ],
      "text/plain": [
       "                 id       host id            lat           long  \\\n",
       "count  1.025990e+05  1.025990e+05  102591.000000  102591.000000   \n",
       "mean   2.914623e+07  4.925411e+10      40.728094     -73.949644   \n",
       "std    1.625751e+07  2.853900e+10       0.055857       0.049521   \n",
       "min    1.001254e+06  1.236005e+08      40.499790     -74.249840   \n",
       "25%    1.508581e+07  2.458333e+10      40.688740     -73.982580   \n",
       "50%    2.913660e+07  4.911774e+10      40.722290     -73.954440   \n",
       "75%    4.320120e+07  7.399650e+10      40.762760     -73.932350   \n",
       "max    5.736742e+07  9.876313e+10      40.916970     -73.705220   \n",
       "\n",
       "       Construction year  minimum nights  number of reviews  \\\n",
       "count      102385.000000   102190.000000      102416.000000   \n",
       "mean         2012.487464        8.135845          27.483743   \n",
       "std             5.765556       30.553781          49.508954   \n",
       "min          2003.000000    -1223.000000           0.000000   \n",
       "25%          2007.000000        2.000000           1.000000   \n",
       "50%          2012.000000        3.000000           7.000000   \n",
       "75%          2017.000000        5.000000          30.000000   \n",
       "max          2022.000000     5645.000000        1024.000000   \n",
       "\n",
       "       reviews per month  review rate number  calculated host listings count  \\\n",
       "count       86720.000000       102273.000000                   102280.000000   \n",
       "mean            1.374022            3.279106                        7.936605   \n",
       "std             1.746621            1.284657                       32.218780   \n",
       "min             0.010000            1.000000                        1.000000   \n",
       "25%             0.220000            2.000000                        1.000000   \n",
       "50%             0.740000            3.000000                        1.000000   \n",
       "75%             2.000000            4.000000                        2.000000   \n",
       "max            90.000000            5.000000                      332.000000   \n",
       "\n",
       "       availability 365  \n",
       "count     102151.000000  \n",
       "mean         141.133254  \n",
       "std          135.435024  \n",
       "min          -10.000000  \n",
       "25%            3.000000  \n",
       "50%           96.000000  \n",
       "75%          269.000000  \n",
       "max         3677.000000  "
      ]
     },
     "execution_count": 8,
     "metadata": {},
     "output_type": "execute_result"
    }
   ],
   "source": [
    "df.describe()"
   ]
  },
  {
   "cell_type": "code",
   "execution_count": 9,
   "id": "aa154049",
   "metadata": {},
   "outputs": [
    {
     "data": {
      "text/html": [
       "<div>\n",
       "<style scoped>\n",
       "    .dataframe tbody tr th:only-of-type {\n",
       "        vertical-align: middle;\n",
       "    }\n",
       "\n",
       "    .dataframe tbody tr th {\n",
       "        vertical-align: top;\n",
       "    }\n",
       "\n",
       "    .dataframe thead th {\n",
       "        text-align: right;\n",
       "    }\n",
       "</style>\n",
       "<table border=\"1\" class=\"dataframe\">\n",
       "  <thead>\n",
       "    <tr style=\"text-align: right;\">\n",
       "      <th></th>\n",
       "      <th>id</th>\n",
       "      <th>NAME</th>\n",
       "      <th>host id</th>\n",
       "      <th>host_identity_verified</th>\n",
       "      <th>host name</th>\n",
       "      <th>neighbourhood group</th>\n",
       "      <th>neighbourhood</th>\n",
       "      <th>lat</th>\n",
       "      <th>long</th>\n",
       "      <th>country</th>\n",
       "      <th>...</th>\n",
       "      <th>price</th>\n",
       "      <th>service fee</th>\n",
       "      <th>minimum nights</th>\n",
       "      <th>number of reviews</th>\n",
       "      <th>last review</th>\n",
       "      <th>reviews per month</th>\n",
       "      <th>review rate number</th>\n",
       "      <th>calculated host listings count</th>\n",
       "      <th>availability 365</th>\n",
       "      <th>house_rules</th>\n",
       "    </tr>\n",
       "  </thead>\n",
       "  <tbody>\n",
       "    <tr>\n",
       "      <th>0</th>\n",
       "      <td>1001254</td>\n",
       "      <td>Clean &amp; quiet apt home by the park</td>\n",
       "      <td>80014485718</td>\n",
       "      <td>unconfirmed</td>\n",
       "      <td>Madaline</td>\n",
       "      <td>Brooklyn</td>\n",
       "      <td>Kensington</td>\n",
       "      <td>40.64749</td>\n",
       "      <td>-73.97237</td>\n",
       "      <td>United States</td>\n",
       "      <td>...</td>\n",
       "      <td>$966</td>\n",
       "      <td>$193</td>\n",
       "      <td>10.0</td>\n",
       "      <td>9.0</td>\n",
       "      <td>10/19/2021</td>\n",
       "      <td>0.21</td>\n",
       "      <td>4.0</td>\n",
       "      <td>6.0</td>\n",
       "      <td>286.0</td>\n",
       "      <td>Clean up and treat the home the way you'd like...</td>\n",
       "    </tr>\n",
       "    <tr>\n",
       "      <th>1</th>\n",
       "      <td>1002102</td>\n",
       "      <td>Skylit Midtown Castle</td>\n",
       "      <td>52335172823</td>\n",
       "      <td>verified</td>\n",
       "      <td>Jenna</td>\n",
       "      <td>Manhattan</td>\n",
       "      <td>Midtown</td>\n",
       "      <td>40.75362</td>\n",
       "      <td>-73.98377</td>\n",
       "      <td>United States</td>\n",
       "      <td>...</td>\n",
       "      <td>$142</td>\n",
       "      <td>$28</td>\n",
       "      <td>30.0</td>\n",
       "      <td>45.0</td>\n",
       "      <td>5/21/2022</td>\n",
       "      <td>0.38</td>\n",
       "      <td>4.0</td>\n",
       "      <td>2.0</td>\n",
       "      <td>228.0</td>\n",
       "      <td>Pet friendly but please confirm with me if the...</td>\n",
       "    </tr>\n",
       "    <tr>\n",
       "      <th>2</th>\n",
       "      <td>1002403</td>\n",
       "      <td>THE VILLAGE OF HARLEM....NEW YORK !</td>\n",
       "      <td>78829239556</td>\n",
       "      <td>NaN</td>\n",
       "      <td>Elise</td>\n",
       "      <td>Manhattan</td>\n",
       "      <td>Harlem</td>\n",
       "      <td>40.80902</td>\n",
       "      <td>-73.94190</td>\n",
       "      <td>United States</td>\n",
       "      <td>...</td>\n",
       "      <td>$620</td>\n",
       "      <td>$124</td>\n",
       "      <td>3.0</td>\n",
       "      <td>0.0</td>\n",
       "      <td>NaN</td>\n",
       "      <td>NaN</td>\n",
       "      <td>5.0</td>\n",
       "      <td>1.0</td>\n",
       "      <td>352.0</td>\n",
       "      <td>I encourage you to use my kitchen, cooking and...</td>\n",
       "    </tr>\n",
       "    <tr>\n",
       "      <th>3</th>\n",
       "      <td>1002755</td>\n",
       "      <td>NaN</td>\n",
       "      <td>85098326012</td>\n",
       "      <td>unconfirmed</td>\n",
       "      <td>Garry</td>\n",
       "      <td>Brooklyn</td>\n",
       "      <td>Clinton Hill</td>\n",
       "      <td>40.68514</td>\n",
       "      <td>-73.95976</td>\n",
       "      <td>United States</td>\n",
       "      <td>...</td>\n",
       "      <td>$368</td>\n",
       "      <td>$74</td>\n",
       "      <td>30.0</td>\n",
       "      <td>270.0</td>\n",
       "      <td>7/5/2019</td>\n",
       "      <td>4.64</td>\n",
       "      <td>4.0</td>\n",
       "      <td>1.0</td>\n",
       "      <td>322.0</td>\n",
       "      <td>NaN</td>\n",
       "    </tr>\n",
       "    <tr>\n",
       "      <th>4</th>\n",
       "      <td>1003689</td>\n",
       "      <td>Entire Apt: Spacious Studio/Loft by central park</td>\n",
       "      <td>92037596077</td>\n",
       "      <td>verified</td>\n",
       "      <td>Lyndon</td>\n",
       "      <td>Manhattan</td>\n",
       "      <td>East Harlem</td>\n",
       "      <td>40.79851</td>\n",
       "      <td>-73.94399</td>\n",
       "      <td>United States</td>\n",
       "      <td>...</td>\n",
       "      <td>$204</td>\n",
       "      <td>$41</td>\n",
       "      <td>10.0</td>\n",
       "      <td>9.0</td>\n",
       "      <td>11/19/2018</td>\n",
       "      <td>0.10</td>\n",
       "      <td>3.0</td>\n",
       "      <td>1.0</td>\n",
       "      <td>289.0</td>\n",
       "      <td>Please no smoking in the house, porch or on th...</td>\n",
       "    </tr>\n",
       "  </tbody>\n",
       "</table>\n",
       "<p>5 rows × 25 columns</p>\n",
       "</div>"
      ],
      "text/plain": [
       "        id                                              NAME      host id  \\\n",
       "0  1001254                Clean & quiet apt home by the park  80014485718   \n",
       "1  1002102                             Skylit Midtown Castle  52335172823   \n",
       "2  1002403               THE VILLAGE OF HARLEM....NEW YORK !  78829239556   \n",
       "3  1002755                                               NaN  85098326012   \n",
       "4  1003689  Entire Apt: Spacious Studio/Loft by central park  92037596077   \n",
       "\n",
       "  host_identity_verified host name neighbourhood group neighbourhood  \\\n",
       "0            unconfirmed  Madaline            Brooklyn    Kensington   \n",
       "1               verified     Jenna           Manhattan       Midtown   \n",
       "2                    NaN     Elise           Manhattan        Harlem   \n",
       "3            unconfirmed     Garry            Brooklyn  Clinton Hill   \n",
       "4               verified    Lyndon           Manhattan   East Harlem   \n",
       "\n",
       "        lat      long        country  ...  price service fee minimum nights  \\\n",
       "0  40.64749 -73.97237  United States  ...  $966        $193            10.0   \n",
       "1  40.75362 -73.98377  United States  ...  $142         $28            30.0   \n",
       "2  40.80902 -73.94190  United States  ...  $620        $124             3.0   \n",
       "3  40.68514 -73.95976  United States  ...  $368         $74            30.0   \n",
       "4  40.79851 -73.94399  United States  ...  $204         $41            10.0   \n",
       "\n",
       "  number of reviews  last review reviews per month review rate number  \\\n",
       "0               9.0   10/19/2021              0.21                4.0   \n",
       "1              45.0    5/21/2022              0.38                4.0   \n",
       "2               0.0          NaN               NaN                5.0   \n",
       "3             270.0     7/5/2019              4.64                4.0   \n",
       "4               9.0   11/19/2018              0.10                3.0   \n",
       "\n",
       "   calculated host listings count  availability 365  \\\n",
       "0                             6.0             286.0   \n",
       "1                             2.0             228.0   \n",
       "2                             1.0             352.0   \n",
       "3                             1.0             322.0   \n",
       "4                             1.0             289.0   \n",
       "\n",
       "                                         house_rules  \n",
       "0  Clean up and treat the home the way you'd like...  \n",
       "1  Pet friendly but please confirm with me if the...  \n",
       "2  I encourage you to use my kitchen, cooking and...  \n",
       "3                                                NaN  \n",
       "4  Please no smoking in the house, porch or on th...  \n",
       "\n",
       "[5 rows x 25 columns]"
      ]
     },
     "execution_count": 9,
     "metadata": {},
     "output_type": "execute_result"
    }
   ],
   "source": [
    "df.head()"
   ]
  },
  {
   "cell_type": "code",
   "execution_count": 10,
   "id": "e3c8730f",
   "metadata": {},
   "outputs": [],
   "source": [
    "df.loc[df['house_rules'].isnull(),'house_rules']='No Rules'"
   ]
  },
  {
   "cell_type": "code",
   "execution_count": 11,
   "id": "330686b4",
   "metadata": {},
   "outputs": [
    {
     "data": {
      "text/html": [
       "<div>\n",
       "<style scoped>\n",
       "    .dataframe tbody tr th:only-of-type {\n",
       "        vertical-align: middle;\n",
       "    }\n",
       "\n",
       "    .dataframe tbody tr th {\n",
       "        vertical-align: top;\n",
       "    }\n",
       "\n",
       "    .dataframe thead th {\n",
       "        text-align: right;\n",
       "    }\n",
       "</style>\n",
       "<table border=\"1\" class=\"dataframe\">\n",
       "  <thead>\n",
       "    <tr style=\"text-align: right;\">\n",
       "      <th></th>\n",
       "      <th>id</th>\n",
       "      <th>NAME</th>\n",
       "      <th>host id</th>\n",
       "      <th>host_identity_verified</th>\n",
       "      <th>host name</th>\n",
       "      <th>neighbourhood group</th>\n",
       "      <th>neighbourhood</th>\n",
       "      <th>lat</th>\n",
       "      <th>long</th>\n",
       "      <th>country</th>\n",
       "      <th>...</th>\n",
       "      <th>price</th>\n",
       "      <th>service fee</th>\n",
       "      <th>minimum nights</th>\n",
       "      <th>number of reviews</th>\n",
       "      <th>last review</th>\n",
       "      <th>reviews per month</th>\n",
       "      <th>review rate number</th>\n",
       "      <th>calculated host listings count</th>\n",
       "      <th>availability 365</th>\n",
       "      <th>house_rules</th>\n",
       "    </tr>\n",
       "  </thead>\n",
       "  <tbody>\n",
       "    <tr>\n",
       "      <th>0</th>\n",
       "      <td>1001254</td>\n",
       "      <td>Clean &amp; quiet apt home by the park</td>\n",
       "      <td>80014485718</td>\n",
       "      <td>unconfirmed</td>\n",
       "      <td>Madaline</td>\n",
       "      <td>Brooklyn</td>\n",
       "      <td>Kensington</td>\n",
       "      <td>40.64749</td>\n",
       "      <td>-73.97237</td>\n",
       "      <td>United States</td>\n",
       "      <td>...</td>\n",
       "      <td>$966</td>\n",
       "      <td>$193</td>\n",
       "      <td>10.0</td>\n",
       "      <td>9.0</td>\n",
       "      <td>10/19/2021</td>\n",
       "      <td>0.21</td>\n",
       "      <td>4.0</td>\n",
       "      <td>6.0</td>\n",
       "      <td>286.0</td>\n",
       "      <td>Clean up and treat the home the way you'd like...</td>\n",
       "    </tr>\n",
       "    <tr>\n",
       "      <th>1</th>\n",
       "      <td>1002102</td>\n",
       "      <td>Skylit Midtown Castle</td>\n",
       "      <td>52335172823</td>\n",
       "      <td>verified</td>\n",
       "      <td>Jenna</td>\n",
       "      <td>Manhattan</td>\n",
       "      <td>Midtown</td>\n",
       "      <td>40.75362</td>\n",
       "      <td>-73.98377</td>\n",
       "      <td>United States</td>\n",
       "      <td>...</td>\n",
       "      <td>$142</td>\n",
       "      <td>$28</td>\n",
       "      <td>30.0</td>\n",
       "      <td>45.0</td>\n",
       "      <td>5/21/2022</td>\n",
       "      <td>0.38</td>\n",
       "      <td>4.0</td>\n",
       "      <td>2.0</td>\n",
       "      <td>228.0</td>\n",
       "      <td>Pet friendly but please confirm with me if the...</td>\n",
       "    </tr>\n",
       "    <tr>\n",
       "      <th>2</th>\n",
       "      <td>1002403</td>\n",
       "      <td>THE VILLAGE OF HARLEM....NEW YORK !</td>\n",
       "      <td>78829239556</td>\n",
       "      <td>NaN</td>\n",
       "      <td>Elise</td>\n",
       "      <td>Manhattan</td>\n",
       "      <td>Harlem</td>\n",
       "      <td>40.80902</td>\n",
       "      <td>-73.94190</td>\n",
       "      <td>United States</td>\n",
       "      <td>...</td>\n",
       "      <td>$620</td>\n",
       "      <td>$124</td>\n",
       "      <td>3.0</td>\n",
       "      <td>0.0</td>\n",
       "      <td>NaN</td>\n",
       "      <td>NaN</td>\n",
       "      <td>5.0</td>\n",
       "      <td>1.0</td>\n",
       "      <td>352.0</td>\n",
       "      <td>I encourage you to use my kitchen, cooking and...</td>\n",
       "    </tr>\n",
       "    <tr>\n",
       "      <th>3</th>\n",
       "      <td>1002755</td>\n",
       "      <td>NaN</td>\n",
       "      <td>85098326012</td>\n",
       "      <td>unconfirmed</td>\n",
       "      <td>Garry</td>\n",
       "      <td>Brooklyn</td>\n",
       "      <td>Clinton Hill</td>\n",
       "      <td>40.68514</td>\n",
       "      <td>-73.95976</td>\n",
       "      <td>United States</td>\n",
       "      <td>...</td>\n",
       "      <td>$368</td>\n",
       "      <td>$74</td>\n",
       "      <td>30.0</td>\n",
       "      <td>270.0</td>\n",
       "      <td>7/5/2019</td>\n",
       "      <td>4.64</td>\n",
       "      <td>4.0</td>\n",
       "      <td>1.0</td>\n",
       "      <td>322.0</td>\n",
       "      <td>No Rules</td>\n",
       "    </tr>\n",
       "    <tr>\n",
       "      <th>4</th>\n",
       "      <td>1003689</td>\n",
       "      <td>Entire Apt: Spacious Studio/Loft by central park</td>\n",
       "      <td>92037596077</td>\n",
       "      <td>verified</td>\n",
       "      <td>Lyndon</td>\n",
       "      <td>Manhattan</td>\n",
       "      <td>East Harlem</td>\n",
       "      <td>40.79851</td>\n",
       "      <td>-73.94399</td>\n",
       "      <td>United States</td>\n",
       "      <td>...</td>\n",
       "      <td>$204</td>\n",
       "      <td>$41</td>\n",
       "      <td>10.0</td>\n",
       "      <td>9.0</td>\n",
       "      <td>11/19/2018</td>\n",
       "      <td>0.10</td>\n",
       "      <td>3.0</td>\n",
       "      <td>1.0</td>\n",
       "      <td>289.0</td>\n",
       "      <td>Please no smoking in the house, porch or on th...</td>\n",
       "    </tr>\n",
       "  </tbody>\n",
       "</table>\n",
       "<p>5 rows × 25 columns</p>\n",
       "</div>"
      ],
      "text/plain": [
       "        id                                              NAME      host id  \\\n",
       "0  1001254                Clean & quiet apt home by the park  80014485718   \n",
       "1  1002102                             Skylit Midtown Castle  52335172823   \n",
       "2  1002403               THE VILLAGE OF HARLEM....NEW YORK !  78829239556   \n",
       "3  1002755                                               NaN  85098326012   \n",
       "4  1003689  Entire Apt: Spacious Studio/Loft by central park  92037596077   \n",
       "\n",
       "  host_identity_verified host name neighbourhood group neighbourhood  \\\n",
       "0            unconfirmed  Madaline            Brooklyn    Kensington   \n",
       "1               verified     Jenna           Manhattan       Midtown   \n",
       "2                    NaN     Elise           Manhattan        Harlem   \n",
       "3            unconfirmed     Garry            Brooklyn  Clinton Hill   \n",
       "4               verified    Lyndon           Manhattan   East Harlem   \n",
       "\n",
       "        lat      long        country  ...  price service fee minimum nights  \\\n",
       "0  40.64749 -73.97237  United States  ...  $966        $193            10.0   \n",
       "1  40.75362 -73.98377  United States  ...  $142         $28            30.0   \n",
       "2  40.80902 -73.94190  United States  ...  $620        $124             3.0   \n",
       "3  40.68514 -73.95976  United States  ...  $368         $74            30.0   \n",
       "4  40.79851 -73.94399  United States  ...  $204         $41            10.0   \n",
       "\n",
       "  number of reviews  last review reviews per month review rate number  \\\n",
       "0               9.0   10/19/2021              0.21                4.0   \n",
       "1              45.0    5/21/2022              0.38                4.0   \n",
       "2               0.0          NaN               NaN                5.0   \n",
       "3             270.0     7/5/2019              4.64                4.0   \n",
       "4               9.0   11/19/2018              0.10                3.0   \n",
       "\n",
       "   calculated host listings count  availability 365  \\\n",
       "0                             6.0             286.0   \n",
       "1                             2.0             228.0   \n",
       "2                             1.0             352.0   \n",
       "3                             1.0             322.0   \n",
       "4                             1.0             289.0   \n",
       "\n",
       "                                         house_rules  \n",
       "0  Clean up and treat the home the way you'd like...  \n",
       "1  Pet friendly but please confirm with me if the...  \n",
       "2  I encourage you to use my kitchen, cooking and...  \n",
       "3                                           No Rules  \n",
       "4  Please no smoking in the house, porch or on th...  \n",
       "\n",
       "[5 rows x 25 columns]"
      ]
     },
     "execution_count": 11,
     "metadata": {},
     "output_type": "execute_result"
    }
   ],
   "source": [
    "df.head()"
   ]
  },
  {
   "cell_type": "code",
   "execution_count": 12,
   "id": "7c2aa18a",
   "metadata": {},
   "outputs": [
    {
     "data": {
      "text/plain": [
       "id                                    0\n",
       "NAME                                250\n",
       "host id                               0\n",
       "host_identity_verified              289\n",
       "host name                           406\n",
       "neighbourhood group                  29\n",
       "neighbourhood                        16\n",
       "lat                                   8\n",
       "long                                  8\n",
       "country                             532\n",
       "country code                        131\n",
       "instant_bookable                    105\n",
       "cancellation_policy                  76\n",
       "room type                             0\n",
       "Construction year                   214\n",
       "price                               247\n",
       "service fee                         273\n",
       "minimum nights                      409\n",
       "number of reviews                   183\n",
       "last review                       15893\n",
       "reviews per month                 15879\n",
       "review rate number                  326\n",
       "calculated host listings count      319\n",
       "availability 365                    448\n",
       "house_rules                           0\n",
       "dtype: int64"
      ]
     },
     "execution_count": 12,
     "metadata": {},
     "output_type": "execute_result"
    }
   ],
   "source": [
    "df.isnull().sum()"
   ]
  },
  {
   "cell_type": "code",
   "execution_count": 13,
   "id": "60b5b441",
   "metadata": {},
   "outputs": [
    {
     "data": {
      "text/plain": [
       "0         10/19/2021\n",
       "1          5/21/2022\n",
       "2                NaN\n",
       "3           7/5/2019\n",
       "4         11/19/2018\n",
       "             ...    \n",
       "102594           NaN\n",
       "102595      7/6/2015\n",
       "102596           NaN\n",
       "102597    10/11/2015\n",
       "102598           NaN\n",
       "Name: last review, Length: 102599, dtype: object"
      ]
     },
     "execution_count": 13,
     "metadata": {},
     "output_type": "execute_result"
    }
   ],
   "source": [
    "df['last review']"
   ]
  },
  {
   "cell_type": "code",
   "execution_count": 14,
   "id": "bc226654",
   "metadata": {},
   "outputs": [],
   "source": [
    "df['last review']=pd.to_datetime(df['last review'])"
   ]
  },
  {
   "cell_type": "code",
   "execution_count": 15,
   "id": "67c6b9e9",
   "metadata": {},
   "outputs": [
    {
     "data": {
      "text/plain": [
       "Timestamp('2012-07-11 00:00:00')"
      ]
     },
     "execution_count": 15,
     "metadata": {},
     "output_type": "execute_result"
    }
   ],
   "source": [
    "df['last review'].min()"
   ]
  },
  {
   "cell_type": "code",
   "execution_count": 16,
   "id": "c123ba0e",
   "metadata": {},
   "outputs": [
    {
     "data": {
      "text/plain": [
       "Timestamp('2058-06-16 00:00:00')"
      ]
     },
     "execution_count": 16,
     "metadata": {},
     "output_type": "execute_result"
    }
   ],
   "source": [
    "df['last review'].max()"
   ]
  },
  {
   "cell_type": "code",
   "execution_count": 17,
   "id": "78f1820c",
   "metadata": {},
   "outputs": [],
   "source": [
    "from datetime import datetime"
   ]
  },
  {
   "cell_type": "code",
   "execution_count": 18,
   "id": "ef537d5e",
   "metadata": {},
   "outputs": [],
   "source": [
    "df.loc[df[df['last review'].apply(lambda x: x.year)>2023].index,'last review']=df['last review'].median()"
   ]
  },
  {
   "cell_type": "code",
   "execution_count": 19,
   "id": "f662199f",
   "metadata": {},
   "outputs": [
    {
     "data": {
      "text/plain": [
       "Timestamp('2022-05-21 00:00:00')"
      ]
     },
     "execution_count": 19,
     "metadata": {},
     "output_type": "execute_result"
    }
   ],
   "source": [
    "df['last review'].max()"
   ]
  },
  {
   "cell_type": "code",
   "execution_count": 20,
   "id": "0baee92f",
   "metadata": {},
   "outputs": [
    {
     "data": {
      "text/html": [
       "<div>\n",
       "<style scoped>\n",
       "    .dataframe tbody tr th:only-of-type {\n",
       "        vertical-align: middle;\n",
       "    }\n",
       "\n",
       "    .dataframe tbody tr th {\n",
       "        vertical-align: top;\n",
       "    }\n",
       "\n",
       "    .dataframe thead th {\n",
       "        text-align: right;\n",
       "    }\n",
       "</style>\n",
       "<table border=\"1\" class=\"dataframe\">\n",
       "  <thead>\n",
       "    <tr style=\"text-align: right;\">\n",
       "      <th></th>\n",
       "      <th>id</th>\n",
       "      <th>NAME</th>\n",
       "      <th>host id</th>\n",
       "      <th>host_identity_verified</th>\n",
       "      <th>host name</th>\n",
       "      <th>neighbourhood group</th>\n",
       "      <th>neighbourhood</th>\n",
       "      <th>lat</th>\n",
       "      <th>long</th>\n",
       "      <th>country</th>\n",
       "      <th>...</th>\n",
       "      <th>price</th>\n",
       "      <th>service fee</th>\n",
       "      <th>minimum nights</th>\n",
       "      <th>number of reviews</th>\n",
       "      <th>last review</th>\n",
       "      <th>reviews per month</th>\n",
       "      <th>review rate number</th>\n",
       "      <th>calculated host listings count</th>\n",
       "      <th>availability 365</th>\n",
       "      <th>house_rules</th>\n",
       "    </tr>\n",
       "  </thead>\n",
       "  <tbody>\n",
       "    <tr>\n",
       "      <th>102058</th>\n",
       "      <td>35506831</td>\n",
       "      <td>Master Bedroom with private Bathroom &amp; Balcony</td>\n",
       "      <td>55110690425</td>\n",
       "      <td>unconfirmed</td>\n",
       "      <td>UZeyir</td>\n",
       "      <td>Queens</td>\n",
       "      <td>Maspeth</td>\n",
       "      <td>40.74056</td>\n",
       "      <td>-73.90635</td>\n",
       "      <td>United States</td>\n",
       "      <td>...</td>\n",
       "      <td>$706</td>\n",
       "      <td>$141</td>\n",
       "      <td>1.0</td>\n",
       "      <td>1.0</td>\n",
       "      <td>2021-11-14</td>\n",
       "      <td>0.27</td>\n",
       "      <td>3.0</td>\n",
       "      <td>1.0</td>\n",
       "      <td>339.0</td>\n",
       "      <td>No Rules</td>\n",
       "    </tr>\n",
       "    <tr>\n",
       "      <th>102059</th>\n",
       "      <td>35507383</td>\n",
       "      <td>Cozy 2 br in sunny Fort Greene apt</td>\n",
       "      <td>80193772189</td>\n",
       "      <td>verified</td>\n",
       "      <td>Sally</td>\n",
       "      <td>Brooklyn</td>\n",
       "      <td>Fort Greene</td>\n",
       "      <td>40.68701</td>\n",
       "      <td>-73.97555</td>\n",
       "      <td>United States</td>\n",
       "      <td>...</td>\n",
       "      <td>$651</td>\n",
       "      <td>$130</td>\n",
       "      <td>3.0</td>\n",
       "      <td>38.0</td>\n",
       "      <td>2021-11-13</td>\n",
       "      <td>0.27</td>\n",
       "      <td>3.0</td>\n",
       "      <td>1.0</td>\n",
       "      <td>0.0</td>\n",
       "      <td>No Rules</td>\n",
       "    </tr>\n",
       "    <tr>\n",
       "      <th>102060</th>\n",
       "      <td>35507935</td>\n",
       "      <td>Duplex w/ Terrace @ Box House Hotel</td>\n",
       "      <td>72991962259</td>\n",
       "      <td>verified</td>\n",
       "      <td>The Box House Hotel</td>\n",
       "      <td>Brooklyn</td>\n",
       "      <td>Greenpoint</td>\n",
       "      <td>40.73756</td>\n",
       "      <td>-73.95350</td>\n",
       "      <td>United States</td>\n",
       "      <td>...</td>\n",
       "      <td>$907</td>\n",
       "      <td>$181</td>\n",
       "      <td>3.0</td>\n",
       "      <td>10.0</td>\n",
       "      <td>2021-11-13</td>\n",
       "      <td>0.08</td>\n",
       "      <td>3.0</td>\n",
       "      <td>30.0</td>\n",
       "      <td>32.0</td>\n",
       "      <td>No Rules</td>\n",
       "    </tr>\n",
       "    <tr>\n",
       "      <th>102061</th>\n",
       "      <td>35508488</td>\n",
       "      <td>Cozy, clean Greenpoint room with yard access</td>\n",
       "      <td>74975156081</td>\n",
       "      <td>verified</td>\n",
       "      <td>Dawn</td>\n",
       "      <td>Brooklyn</td>\n",
       "      <td>Greenpoint</td>\n",
       "      <td>40.72516</td>\n",
       "      <td>-73.95004</td>\n",
       "      <td>United States</td>\n",
       "      <td>...</td>\n",
       "      <td>$589</td>\n",
       "      <td>$118</td>\n",
       "      <td>30.0</td>\n",
       "      <td>38.0</td>\n",
       "      <td>2021-11-13</td>\n",
       "      <td>0.34</td>\n",
       "      <td>5.0</td>\n",
       "      <td>2.0</td>\n",
       "      <td>324.0</td>\n",
       "      <td>No Rules</td>\n",
       "    </tr>\n",
       "    <tr>\n",
       "      <th>102062</th>\n",
       "      <td>35509040</td>\n",
       "      <td>2BR XL Loft: Cleaning CDC guidelines implemented</td>\n",
       "      <td>85844415221</td>\n",
       "      <td>unconfirmed</td>\n",
       "      <td>Vida</td>\n",
       "      <td>Brooklyn</td>\n",
       "      <td>Greenpoint</td>\n",
       "      <td>40.72732</td>\n",
       "      <td>-73.94185</td>\n",
       "      <td>United States</td>\n",
       "      <td>...</td>\n",
       "      <td>$356</td>\n",
       "      <td>$71</td>\n",
       "      <td>30.0</td>\n",
       "      <td>13.0</td>\n",
       "      <td>2021-11-13</td>\n",
       "      <td>0.14</td>\n",
       "      <td>4.0</td>\n",
       "      <td>28.0</td>\n",
       "      <td>336.0</td>\n",
       "      <td>No Rules</td>\n",
       "    </tr>\n",
       "    <tr>\n",
       "      <th>...</th>\n",
       "      <td>...</td>\n",
       "      <td>...</td>\n",
       "      <td>...</td>\n",
       "      <td>...</td>\n",
       "      <td>...</td>\n",
       "      <td>...</td>\n",
       "      <td>...</td>\n",
       "      <td>...</td>\n",
       "      <td>...</td>\n",
       "      <td>...</td>\n",
       "      <td>...</td>\n",
       "      <td>...</td>\n",
       "      <td>...</td>\n",
       "      <td>...</td>\n",
       "      <td>...</td>\n",
       "      <td>...</td>\n",
       "      <td>...</td>\n",
       "      <td>...</td>\n",
       "      <td>...</td>\n",
       "      <td>...</td>\n",
       "      <td>...</td>\n",
       "    </tr>\n",
       "    <tr>\n",
       "      <th>102594</th>\n",
       "      <td>6092437</td>\n",
       "      <td>Spare room in Williamsburg</td>\n",
       "      <td>12312296767</td>\n",
       "      <td>verified</td>\n",
       "      <td>Krik</td>\n",
       "      <td>Brooklyn</td>\n",
       "      <td>Williamsburg</td>\n",
       "      <td>40.70862</td>\n",
       "      <td>-73.94651</td>\n",
       "      <td>United States</td>\n",
       "      <td>...</td>\n",
       "      <td>$844</td>\n",
       "      <td>$169</td>\n",
       "      <td>1.0</td>\n",
       "      <td>0.0</td>\n",
       "      <td>NaT</td>\n",
       "      <td>NaN</td>\n",
       "      <td>3.0</td>\n",
       "      <td>1.0</td>\n",
       "      <td>227.0</td>\n",
       "      <td>No Smoking No Parties or Events of any kind Pl...</td>\n",
       "    </tr>\n",
       "    <tr>\n",
       "      <th>102595</th>\n",
       "      <td>6092990</td>\n",
       "      <td>Best Location near Columbia U</td>\n",
       "      <td>77864383453</td>\n",
       "      <td>unconfirmed</td>\n",
       "      <td>Mifan</td>\n",
       "      <td>Manhattan</td>\n",
       "      <td>Morningside Heights</td>\n",
       "      <td>40.80460</td>\n",
       "      <td>-73.96545</td>\n",
       "      <td>United States</td>\n",
       "      <td>...</td>\n",
       "      <td>$837</td>\n",
       "      <td>$167</td>\n",
       "      <td>1.0</td>\n",
       "      <td>1.0</td>\n",
       "      <td>2015-07-06</td>\n",
       "      <td>0.02</td>\n",
       "      <td>2.0</td>\n",
       "      <td>2.0</td>\n",
       "      <td>395.0</td>\n",
       "      <td>House rules: Guests agree to the following ter...</td>\n",
       "    </tr>\n",
       "    <tr>\n",
       "      <th>102596</th>\n",
       "      <td>6093542</td>\n",
       "      <td>Comfy, bright room in Brooklyn</td>\n",
       "      <td>69050334417</td>\n",
       "      <td>unconfirmed</td>\n",
       "      <td>Megan</td>\n",
       "      <td>Brooklyn</td>\n",
       "      <td>Park Slope</td>\n",
       "      <td>40.67505</td>\n",
       "      <td>-73.98045</td>\n",
       "      <td>United States</td>\n",
       "      <td>...</td>\n",
       "      <td>$988</td>\n",
       "      <td>$198</td>\n",
       "      <td>3.0</td>\n",
       "      <td>0.0</td>\n",
       "      <td>NaT</td>\n",
       "      <td>NaN</td>\n",
       "      <td>5.0</td>\n",
       "      <td>1.0</td>\n",
       "      <td>342.0</td>\n",
       "      <td>No Rules</td>\n",
       "    </tr>\n",
       "    <tr>\n",
       "      <th>102597</th>\n",
       "      <td>6094094</td>\n",
       "      <td>Big Studio-One Stop from Midtown</td>\n",
       "      <td>11160591270</td>\n",
       "      <td>unconfirmed</td>\n",
       "      <td>Christopher</td>\n",
       "      <td>Queens</td>\n",
       "      <td>Long Island City</td>\n",
       "      <td>40.74989</td>\n",
       "      <td>-73.93777</td>\n",
       "      <td>United States</td>\n",
       "      <td>...</td>\n",
       "      <td>$546</td>\n",
       "      <td>$109</td>\n",
       "      <td>2.0</td>\n",
       "      <td>5.0</td>\n",
       "      <td>2015-10-11</td>\n",
       "      <td>0.10</td>\n",
       "      <td>3.0</td>\n",
       "      <td>1.0</td>\n",
       "      <td>386.0</td>\n",
       "      <td>No Rules</td>\n",
       "    </tr>\n",
       "    <tr>\n",
       "      <th>102598</th>\n",
       "      <td>6094647</td>\n",
       "      <td>585 sf Luxury Studio</td>\n",
       "      <td>68170633372</td>\n",
       "      <td>unconfirmed</td>\n",
       "      <td>Rebecca</td>\n",
       "      <td>Manhattan</td>\n",
       "      <td>Upper West Side</td>\n",
       "      <td>40.76807</td>\n",
       "      <td>-73.98342</td>\n",
       "      <td>United States</td>\n",
       "      <td>...</td>\n",
       "      <td>$1,032</td>\n",
       "      <td>$206</td>\n",
       "      <td>1.0</td>\n",
       "      <td>0.0</td>\n",
       "      <td>NaT</td>\n",
       "      <td>NaN</td>\n",
       "      <td>3.0</td>\n",
       "      <td>1.0</td>\n",
       "      <td>69.0</td>\n",
       "      <td>No Rules</td>\n",
       "    </tr>\n",
       "  </tbody>\n",
       "</table>\n",
       "<p>541 rows × 25 columns</p>\n",
       "</div>"
      ],
      "text/plain": [
       "              id                                              NAME  \\\n",
       "102058  35506831    Master Bedroom with private Bathroom & Balcony   \n",
       "102059  35507383                Cozy 2 br in sunny Fort Greene apt   \n",
       "102060  35507935               Duplex w/ Terrace @ Box House Hotel   \n",
       "102061  35508488      Cozy, clean Greenpoint room with yard access   \n",
       "102062  35509040  2BR XL Loft: Cleaning CDC guidelines implemented   \n",
       "...          ...                                               ...   \n",
       "102594   6092437                        Spare room in Williamsburg   \n",
       "102595   6092990                     Best Location near Columbia U   \n",
       "102596   6093542                    Comfy, bright room in Brooklyn   \n",
       "102597   6094094                  Big Studio-One Stop from Midtown   \n",
       "102598   6094647                              585 sf Luxury Studio   \n",
       "\n",
       "            host id host_identity_verified            host name  \\\n",
       "102058  55110690425            unconfirmed               UZeyir   \n",
       "102059  80193772189               verified                Sally   \n",
       "102060  72991962259               verified  The Box House Hotel   \n",
       "102061  74975156081               verified                 Dawn   \n",
       "102062  85844415221            unconfirmed                 Vida   \n",
       "...             ...                    ...                  ...   \n",
       "102594  12312296767               verified                 Krik   \n",
       "102595  77864383453            unconfirmed                Mifan   \n",
       "102596  69050334417            unconfirmed                Megan   \n",
       "102597  11160591270            unconfirmed          Christopher   \n",
       "102598  68170633372            unconfirmed              Rebecca   \n",
       "\n",
       "       neighbourhood group        neighbourhood       lat      long  \\\n",
       "102058              Queens              Maspeth  40.74056 -73.90635   \n",
       "102059            Brooklyn          Fort Greene  40.68701 -73.97555   \n",
       "102060            Brooklyn           Greenpoint  40.73756 -73.95350   \n",
       "102061            Brooklyn           Greenpoint  40.72516 -73.95004   \n",
       "102062            Brooklyn           Greenpoint  40.72732 -73.94185   \n",
       "...                    ...                  ...       ...       ...   \n",
       "102594            Brooklyn         Williamsburg  40.70862 -73.94651   \n",
       "102595           Manhattan  Morningside Heights  40.80460 -73.96545   \n",
       "102596            Brooklyn           Park Slope  40.67505 -73.98045   \n",
       "102597              Queens     Long Island City  40.74989 -73.93777   \n",
       "102598           Manhattan      Upper West Side  40.76807 -73.98342   \n",
       "\n",
       "              country  ...    price service fee minimum nights  \\\n",
       "102058  United States  ...    $706        $141             1.0   \n",
       "102059  United States  ...    $651        $130             3.0   \n",
       "102060  United States  ...    $907        $181             3.0   \n",
       "102061  United States  ...    $589        $118            30.0   \n",
       "102062  United States  ...    $356         $71            30.0   \n",
       "...               ...  ...      ...         ...            ...   \n",
       "102594  United States  ...    $844        $169             1.0   \n",
       "102595  United States  ...    $837        $167             1.0   \n",
       "102596  United States  ...    $988        $198             3.0   \n",
       "102597  United States  ...    $546        $109             2.0   \n",
       "102598  United States  ...  $1,032        $206             1.0   \n",
       "\n",
       "       number of reviews  last review reviews per month review rate number  \\\n",
       "102058               1.0   2021-11-14              0.27                3.0   \n",
       "102059              38.0   2021-11-13              0.27                3.0   \n",
       "102060              10.0   2021-11-13              0.08                3.0   \n",
       "102061              38.0   2021-11-13              0.34                5.0   \n",
       "102062              13.0   2021-11-13              0.14                4.0   \n",
       "...                  ...          ...               ...                ...   \n",
       "102594               0.0          NaT               NaN                3.0   \n",
       "102595               1.0   2015-07-06              0.02                2.0   \n",
       "102596               0.0          NaT               NaN                5.0   \n",
       "102597               5.0   2015-10-11              0.10                3.0   \n",
       "102598               0.0          NaT               NaN                3.0   \n",
       "\n",
       "        calculated host listings count  availability 365  \\\n",
       "102058                             1.0             339.0   \n",
       "102059                             1.0               0.0   \n",
       "102060                            30.0              32.0   \n",
       "102061                             2.0             324.0   \n",
       "102062                            28.0             336.0   \n",
       "...                                ...               ...   \n",
       "102594                             1.0             227.0   \n",
       "102595                             2.0             395.0   \n",
       "102596                             1.0             342.0   \n",
       "102597                             1.0             386.0   \n",
       "102598                             1.0              69.0   \n",
       "\n",
       "                                              house_rules  \n",
       "102058                                           No Rules  \n",
       "102059                                           No Rules  \n",
       "102060                                           No Rules  \n",
       "102061                                           No Rules  \n",
       "102062                                           No Rules  \n",
       "...                                                   ...  \n",
       "102594  No Smoking No Parties or Events of any kind Pl...  \n",
       "102595  House rules: Guests agree to the following ter...  \n",
       "102596                                           No Rules  \n",
       "102597                                           No Rules  \n",
       "102598                                           No Rules  \n",
       "\n",
       "[541 rows x 25 columns]"
      ]
     },
     "execution_count": 20,
     "metadata": {},
     "output_type": "execute_result"
    }
   ],
   "source": [
    "df.loc[df.duplicated()]"
   ]
  },
  {
   "cell_type": "code",
   "execution_count": 21,
   "id": "595aa203",
   "metadata": {},
   "outputs": [],
   "source": [
    "df.drop_duplicates(keep='first',inplace=True)"
   ]
  },
  {
   "cell_type": "code",
   "execution_count": 22,
   "id": "27ed8f42",
   "metadata": {},
   "outputs": [
    {
     "data": {
      "text/plain": [
       "32753"
      ]
     },
     "execution_count": 22,
     "metadata": {},
     "output_type": "execute_result"
    }
   ],
   "source": [
    "df.duplicated(subset=['host name','lat','long','price']).sum()"
   ]
  },
  {
   "cell_type": "code",
   "execution_count": 23,
   "id": "18dd0792",
   "metadata": {},
   "outputs": [],
   "source": [
    "temp=df.copy()"
   ]
  },
  {
   "cell_type": "code",
   "execution_count": 24,
   "id": "8a435ad4",
   "metadata": {},
   "outputs": [
    {
     "data": {
      "text/plain": [
       "32753"
      ]
     },
     "execution_count": 24,
     "metadata": {},
     "output_type": "execute_result"
    }
   ],
   "source": [
    "temp.duplicated(subset=['host name','lat','long','price']).sum()"
   ]
  },
  {
   "cell_type": "code",
   "execution_count": 25,
   "id": "0d62d67b",
   "metadata": {},
   "outputs": [
    {
     "name": "stdout",
     "output_type": "stream",
     "text": [
      "('#NAME?', 40.7045, -73.7354, '$588 ')\n",
      "             id               NAME      host id host_identity_verified  \\\n",
      "58873  33516894  Queens Corner Lot  70288360709            unconfirmed   \n",
      "\n",
      "      host name neighbourhood group   neighbourhood      lat     long  \\\n",
      "58873    #NAME?              Queens  Queens Village  40.7045 -73.7354   \n",
      "\n",
      "             country  ...  price service fee minimum nights number of reviews  \\\n",
      "58873  United States  ...  $588        $118             2.0             131.0   \n",
      "\n",
      "       last review reviews per month review rate number  \\\n",
      "58873   2022-01-02              3.34                4.0   \n",
      "\n",
      "       calculated host listings count  availability 365 house_rules  \n",
      "58873                             1.0             329.0    No Rules  \n",
      "\n",
      "[1 rows x 25 columns] \n",
      "\n"
     ]
    }
   ],
   "source": [
    "temp=temp.groupby(['host name','lat','long','price'])\n",
    "for key,subdf in temp:\n",
    "    print(key)\n",
    "    print(pd.DataFrame(subdf),'\\n')\n",
    "    break"
   ]
  },
  {
   "cell_type": "code",
   "execution_count": 26,
   "id": "fcf837d2",
   "metadata": {},
   "outputs": [],
   "source": [
    "df.drop_duplicates(subset=['host name','lat','long','price'],inplace=True)"
   ]
  },
  {
   "cell_type": "code",
   "execution_count": 27,
   "id": "f67c453b",
   "metadata": {},
   "outputs": [
    {
     "data": {
      "text/plain": [
       "0"
      ]
     },
     "execution_count": 27,
     "metadata": {},
     "output_type": "execute_result"
    }
   ],
   "source": [
    "df.duplicated(subset=['host name','lat','long','price']).sum()"
   ]
  },
  {
   "cell_type": "code",
   "execution_count": 28,
   "id": "db290630",
   "metadata": {},
   "outputs": [
    {
     "name": "stderr",
     "output_type": "stream",
     "text": [
      "C:\\Users\\JS-MED\\anaconda3\\lib\\site-packages\\scipy\\__init__.py:138: UserWarning: A NumPy version >=1.16.5 and <1.23.0 is required for this version of SciPy (detected version 1.24.1)\n",
      "  warnings.warn(f\"A NumPy version >={np_minversion} and <{np_maxversion} is required for this version of \"\n"
     ]
    }
   ],
   "source": [
    "import  seaborn as sns "
   ]
  },
  {
   "cell_type": "code",
   "execution_count": 29,
   "id": "7e25b529",
   "metadata": {},
   "outputs": [
    {
     "data": {
      "text/plain": [
       "<seaborn.axisgrid.FacetGrid at 0x20287c7c520>"
      ]
     },
     "execution_count": 29,
     "metadata": {},
     "output_type": "execute_result"
    },
    {
     "data": {
      "text/plain": [
       "<Figure size 1440x1440 with 0 Axes>"
      ]
     },
     "metadata": {},
     "output_type": "display_data"
    },
    {
     "data": {
      "image/png": "[encoded data removed]",
      "text/plain": [
       "<Figure size 360x360 with 1 Axes>"
      ]
     },
     "metadata": {
      "needs_background": "light"
     },
     "output_type": "display_data"
    }
   ],
   "source": [
    "plt.figure(figsize=(20,20))\n",
    "sns.displot(df['reviews per month'],kind='kde')"
   ]
  },
  {
   "cell_type": "code",
   "execution_count": 30,
   "id": "1548ec53",
   "metadata": {},
   "outputs": [
    {
     "data": {
      "text/plain": [
       "8.314775730802412"
      ]
     },
     "execution_count": 30,
     "metadata": {},
     "output_type": "execute_result"
    }
   ],
   "source": [
    "df['reviews per month'].skew()"
   ]
  },
  {
   "cell_type": "code",
   "execution_count": 31,
   "id": "401a9673",
   "metadata": {},
   "outputs": [],
   "source": [
    "df['reviews per month']=np.cbrt(df['reviews per month'])"
   ]
  },
  {
   "cell_type": "code",
   "execution_count": 32,
   "id": "20a1d3bc",
   "metadata": {},
   "outputs": [
    {
     "data": {
      "text/plain": [
       "0.4332160042657958"
      ]
     },
     "execution_count": 32,
     "metadata": {},
     "output_type": "execute_result"
    }
   ],
   "source": [
    "df['reviews per month'].skew()"
   ]
  },
  {
   "cell_type": "code",
   "execution_count": 33,
   "id": "90907f4a",
   "metadata": {},
   "outputs": [
    {
     "name": "stdout",
     "output_type": "stream",
     "text": [
      "<class 'pandas.core.frame.DataFrame'>\n",
      "Int64Index: 69305 entries, 0 to 102050\n",
      "Data columns (total 25 columns):\n",
      " #   Column                          Non-Null Count  Dtype         \n",
      "---  ------                          --------------  -----         \n",
      " 0   id                              69305 non-null  int64         \n",
      " 1   NAME                            69097 non-null  object        \n",
      " 2   host id                         69305 non-null  int64         \n",
      " 3   host_identity_verified          69088 non-null  object        \n",
      " 4   host name                       68992 non-null  object        \n",
      " 5   neighbourhood group             69276 non-null  object        \n",
      " 6   neighbourhood                   69289 non-null  object        \n",
      " 7   lat                             69297 non-null  float64       \n",
      " 8   long                            69297 non-null  float64       \n",
      " 9   country                         68982 non-null  object        \n",
      " 10  country code                    69219 non-null  object        \n",
      " 11  instant_bookable                69219 non-null  object        \n",
      " 12  cancellation_policy             69248 non-null  object        \n",
      " 13  room type                       69305 non-null  object        \n",
      " 14  Construction year               69115 non-null  float64       \n",
      " 15  price                           69060 non-null  object        \n",
      " 16  service fee                     69064 non-null  object        \n",
      " 17  minimum nights                  68942 non-null  float64       \n",
      " 18  number of reviews               69153 non-null  float64       \n",
      " 19  last review                     58477 non-null  datetime64[ns]\n",
      " 20  reviews per month               58491 non-null  float64       \n",
      " 21  review rate number              69066 non-null  float64       \n",
      " 22  calculated host listings count  69161 non-null  float64       \n",
      " 23  availability 365                68867 non-null  float64       \n",
      " 24  house_rules                     69305 non-null  object        \n",
      "dtypes: datetime64[ns](1), float64(9), int64(2), object(13)\n",
      "memory usage: 13.7+ MB\n"
     ]
    }
   ],
   "source": [
    "df.info()"
   ]
  },
  {
   "cell_type": "code",
   "execution_count": 34,
   "id": "37c52157",
   "metadata": {},
   "outputs": [
    {
     "name": "stdout",
     "output_type": "stream",
     "text": [
      "id\n",
      "0.021826760506377645\n",
      "host id\n",
      "0.004266133649322972\n",
      "lat\n",
      "0.2145001193071869\n",
      "long\n",
      "1.2465462006619579\n",
      "Construction year\n",
      "0.003855900526005481\n",
      "minimum nights\n",
      "86.61370721963831\n",
      "number of reviews\n",
      "3.919447863957343\n",
      "reviews per month\n",
      "0.4332160042657958\n",
      "review rate number\n",
      "-0.14000980304648747\n",
      "calculated host listings count\n",
      "6.5316593925396145\n",
      "availability 365\n",
      "0.3551081647898203\n"
     ]
    }
   ],
   "source": [
    "nn=df.select_dtypes(exclude=['object','datetime64[ns]'])\n",
    "for column in nn:\n",
    "    print(column)\n",
    "    print(nn[column].skew())"
   ]
  },
  {
   "cell_type": "code",
   "execution_count": 35,
   "id": "aed2b409",
   "metadata": {},
   "outputs": [],
   "source": [
    "df.loc[df['minimum nights'].isnull(),'minimum nights']=0.1"
   ]
  },
  {
   "cell_type": "code",
   "execution_count": 36,
   "id": "b1214751",
   "metadata": {},
   "outputs": [
    {
     "data": {
      "text/plain": [
       "0"
      ]
     },
     "execution_count": 36,
     "metadata": {},
     "output_type": "execute_result"
    }
   ],
   "source": [
    "df['minimum nights'].isnull().sum()"
   ]
  },
  {
   "cell_type": "code",
   "execution_count": 37,
   "id": "8910830d",
   "metadata": {},
   "outputs": [],
   "source": [
    "df['minimum nights']=np.reciprocal(df['minimum nights'])"
   ]
  },
  {
   "cell_type": "code",
   "execution_count": 38,
   "id": "2703b077",
   "metadata": {},
   "outputs": [
    {
     "data": {
      "text/plain": [
       "9.722428385506104"
      ]
     },
     "execution_count": 38,
     "metadata": {},
     "output_type": "execute_result"
    }
   ],
   "source": [
    "df['minimum nights'].skew()"
   ]
  },
  {
   "cell_type": "code",
   "execution_count": 39,
   "id": "17c2181b",
   "metadata": {},
   "outputs": [
    {
     "name": "stderr",
     "output_type": "stream",
     "text": [
      "C:\\Users\\JS-MED\\anaconda3\\lib\\site-packages\\seaborn\\_decorators.py:36: FutureWarning: Pass the following variable as a keyword arg: x. From version 0.12, the only valid positional argument will be `data`, and passing other arguments without an explicit keyword will result in an error or misinterpretation.\n",
      "  warnings.warn(\n"
     ]
    },
    {
     "data": {
      "text/plain": [
       "<AxesSubplot:xlabel='minimum nights'>"
      ]
     },
     "execution_count": 39,
     "metadata": {},
     "output_type": "execute_result"
    },
    {
     "data": {
      "image/png": "[encoded data removed]",
      "text/plain": [
       "<Figure size 432x288 with 1 Axes>"
      ]
     },
     "metadata": {
      "needs_background": "light"
     },
     "output_type": "display_data"
    }
   ],
   "source": [
    "sns.boxplot(df['minimum nights'])"
   ]
  },
  {
   "cell_type": "code",
   "execution_count": 47,
   "id": "980fe0f2",
   "metadata": {},
   "outputs": [
    {
     "data": {
      "text/plain": [
       "Index(['id', 'host id', 'lat', 'long', 'Construction year', 'minimum nights',\n",
       "       'number of reviews', 'reviews per month', 'review rate number',\n",
       "       'calculated host listings count', 'availability 365'],\n",
       "      dtype='object')"
      ]
     },
     "execution_count": 47,
     "metadata": {},
     "output_type": "execute_result"
    }
   ],
   "source": [
    "nn.columns\n"
   ]
  },
  {
   "cell_type": "code",
   "execution_count": 63,
   "id": "3d4c0803",
   "metadata": {},
   "outputs": [
    {
     "data": {
      "text/plain": [
       "last review                       10828\n",
       "reviews per month                 10814\n",
       "availability 365                    438\n",
       "country                             323\n",
       "host name                           313\n",
       "price                               245\n",
       "service fee                         241\n",
       "review rate number                  239\n",
       "host_identity_verified              217\n",
       "NAME                                208\n",
       "Construction year                   190\n",
       "number of reviews                   152\n",
       "calculated host listings count      144\n",
       "country code                         86\n",
       "instant_bookable                     86\n",
       "cancellation_policy                  57\n",
       "neighbourhood group                  29\n",
       "neighbourhood                        16\n",
       "long                                  8\n",
       "lat                                   8\n",
       "id                                    0\n",
       "minimum nights                        0\n",
       "room type                             0\n",
       "host id                               0\n",
       "house_rules                           0\n",
       "dtype: int64"
      ]
     },
     "execution_count": 63,
     "metadata": {},
     "output_type": "execute_result"
    }
   ],
   "source": [
    "df.isnull().sum().sort_values(ascending=False)"
   ]
  },
  {
   "cell_type": "code",
   "execution_count": 64,
   "id": "1942b46e",
   "metadata": {},
   "outputs": [],
   "source": [
    "\n",
    "df.loc[df['last review'].isnull(),'last review']=df['last review'].median()"
   ]
  },
  {
   "cell_type": "code",
   "execution_count": 65,
   "id": "d42d825f",
   "metadata": {},
   "outputs": [
    {
     "data": {
      "text/plain": [
       "reviews per month                 10814\n",
       "availability 365                    438\n",
       "country                             323\n",
       "host name                           313\n",
       "price                               245\n",
       "service fee                         241\n",
       "review rate number                  239\n",
       "host_identity_verified              217\n",
       "NAME                                208\n",
       "Construction year                   190\n",
       "number of reviews                   152\n",
       "calculated host listings count      144\n",
       "instant_bookable                     86\n",
       "country code                         86\n",
       "cancellation_policy                  57\n",
       "neighbourhood group                  29\n",
       "neighbourhood                        16\n",
       "long                                  8\n",
       "lat                                   8\n",
       "id                                    0\n",
       "last review                           0\n",
       "minimum nights                        0\n",
       "room type                             0\n",
       "host id                               0\n",
       "house_rules                           0\n",
       "dtype: int64"
      ]
     },
     "execution_count": 65,
     "metadata": {},
     "output_type": "execute_result"
    }
   ],
   "source": [
    "df.isnull().sum().sort_values(ascending=False)"
   ]
  },
  {
   "cell_type": "code",
   "execution_count": 68,
   "id": "400aa013",
   "metadata": {},
   "outputs": [
    {
     "data": {
      "text/plain": [
       "<AxesSubplot:xlabel='reviews per month', ylabel='Count'>"
      ]
     },
     "execution_count": 68,
     "metadata": {},
     "output_type": "execute_result"
    },
    {
     "data": {
      "image/png": "[encoded data removed]",
      "text/plain": [
       "<Figure size 432x288 with 1 Axes>"
      ]
     },
     "metadata": {
      "needs_background": "light"
     },
     "output_type": "display_data"
    }
   ],
   "source": [
    "sns.histplot(x=df['reviews per month'])"
   ]
  },
  {
   "cell_type": "code",
   "execution_count": 69,
   "id": "9e41b538",
   "metadata": {},
   "outputs": [
    {
     "data": {
      "text/plain": [
       "(0.21544346900318836, 4.481404746557165)"
      ]
     },
     "execution_count": 69,
     "metadata": {},
     "output_type": "execute_result"
    }
   ],
   "source": [
    "df['reviews per month'].min(),df['reviews per month'].max()"
   ]
  },
  {
   "cell_type": "code",
   "execution_count": 70,
   "id": "cfea8577",
   "metadata": {},
   "outputs": [
    {
     "data": {
      "text/plain": [
       "0.4332160042657958"
      ]
     },
     "execution_count": 70,
     "metadata": {},
     "output_type": "execute_result"
    }
   ],
   "source": [
    "df['reviews per month'].skew()"
   ]
  },
  {
   "cell_type": "code",
   "execution_count": 74,
   "id": "351632b8",
   "metadata": {},
   "outputs": [
    {
     "name": "stderr",
     "output_type": "stream",
     "text": [
      "C:\\Users\\JS-MED\\anaconda3\\lib\\site-packages\\seaborn\\_decorators.py:36: FutureWarning: Pass the following variable as a keyword arg: x. From version 0.12, the only valid positional argument will be `data`, and passing other arguments without an explicit keyword will result in an error or misinterpretation.\n",
      "  warnings.warn(\n"
     ]
    },
    {
     "data": {
      "text/plain": [
       "<AxesSubplot:xlabel='reviews per month'>"
      ]
     },
     "execution_count": 74,
     "metadata": {},
     "output_type": "execute_result"
    },
    {
     "data": {
      "image/png": "[encoded data removed]",
      "text/plain": [
       "<Figure size 432x288 with 1 Axes>"
      ]
     },
     "metadata": {
      "needs_background": "light"
     },
     "output_type": "display_data"
    }
   ],
   "source": [
    "sns.boxplot(df['reviews per month'])"
   ]
  },
  {
   "cell_type": "code",
   "execution_count": 76,
   "id": "a27a650c",
   "metadata": {},
   "outputs": [],
   "source": [
    "df.loc[df['reviews per month'].isnull(),'reviews per month']=df['reviews per month'].median()"
   ]
  },
  {
   "cell_type": "code",
   "execution_count": 80,
   "id": "43ec6809",
   "metadata": {},
   "outputs": [
    {
     "data": {
      "text/plain": [
       "0    286.0\n",
       "1    228.0\n",
       "2    352.0\n",
       "3    322.0\n",
       "4    289.0\n",
       "5    374.0\n",
       "6    224.0\n",
       "7    219.0\n",
       "8    180.0\n",
       "9    375.0\n",
       "Name: availability 365, dtype: float64"
      ]
     },
     "execution_count": 80,
     "metadata": {},
     "output_type": "execute_result"
    }
   ],
   "source": [
    "df['availability 365'].head(10)"
   ]
  },
  {
   "cell_type": "code",
   "execution_count": 82,
   "id": "7deaeed4",
   "metadata": {},
   "outputs": [
    {
     "data": {
      "text/plain": [
       "-10.0"
      ]
     },
     "execution_count": 82,
     "metadata": {},
     "output_type": "execute_result"
    }
   ],
   "source": [
    "df['availability 365'].min()"
   ]
  },
  {
   "cell_type": "code",
   "execution_count": 98,
   "id": "9a09ff6e",
   "metadata": {},
   "outputs": [
    {
     "ename": "SyntaxError",
     "evalue": "invalid syntax (<ipython-input-98-3637d66e3bfe>, line 1)",
     "output_type": "error",
     "traceback": [
      "\u001b[1;36m  File \u001b[1;32m\"<ipython-input-98-3637d66e3bfe>\"\u001b[1;36m, line \u001b[1;32m1\u001b[0m\n\u001b[1;33m    df.loc[df['availability 365'].max(),axis=0]\u001b[0m\n\u001b[1;37m                                            ^\u001b[0m\n\u001b[1;31mSyntaxError\u001b[0m\u001b[1;31m:\u001b[0m invalid syntax\n"
     ]
    }
   ],
   "source": [
    "df['availability 365'].max()"
   ]
  },
  {
   "cell_type": "code",
   "execution_count": 85,
   "id": "7facbea0",
   "metadata": {},
   "outputs": [
    {
     "data": {
      "text/plain": [
       "153.35082114800994"
      ]
     },
     "execution_count": 85,
     "metadata": {},
     "output_type": "execute_result"
    }
   ],
   "source": [
    "df['availability 365'].mean()"
   ]
  },
  {
   "cell_type": "code",
   "execution_count": 87,
   "id": "2921e774",
   "metadata": {},
   "outputs": [
    {
     "data": {
      "text/plain": [
       "<seaborn.axisgrid.FacetGrid at 0x2028fab38e0>"
      ]
     },
     "execution_count": 87,
     "metadata": {},
     "output_type": "execute_result"
    },
    {
     "data": {
      "image/png": "[encoded data removed]",
      "text/plain": [
       "<Figure size 360x360 with 1 Axes>"
      ]
     },
     "metadata": {
      "needs_background": "light"
     },
     "output_type": "display_data"
    }
   ],
   "source": [
    "sns.displot(data=df,x=df['availability 365'])"
   ]
  },
  {
   "cell_type": "code",
   "execution_count": 100,
   "id": "b1e9478e",
   "metadata": {
    "scrolled": true
   },
   "outputs": [
    {
     "name": "stdout",
     "output_type": "stream",
     "text": [
      " column id has 69305 unique values\n",
      " column NAME has 61233 unique values\n",
      " column host id has 69304 unique values\n",
      " column host_identity_verified has 2 unique values\n",
      " column host name has 13190 unique values\n",
      " column neighbourhood group has 7 unique values\n",
      " column neighbourhood has 224 unique values\n",
      " column lat has 21991 unique values\n",
      " column long has 17774 unique values\n",
      " column country has 1 unique values\n",
      " column country code has 1 unique values\n",
      " column instant_bookable has 2 unique values\n",
      " column cancellation_policy has 3 unique values\n",
      " column room type has 4 unique values\n",
      " column Construction year has 20 unique values\n",
      " column price has 1151 unique values\n",
      " column service fee has 231 unique values\n",
      " column minimum nights has 149 unique values\n",
      " column number of reviews has 476 unique values\n",
      " column last review has 2472 unique values\n",
      " column reviews per month has 1016 unique values\n",
      " column review rate number has 5 unique values\n",
      " column calculated host listings count has 78 unique values\n",
      " column availability 365 has 437 unique values\n",
      " column house_rules has 1977 unique values\n"
     ]
    }
   ],
   "source": [
    "for col in df.columns:\n",
    "    print(f\" column {col} has {df[col].nunique()} unique values\")"
   ]
  },
  {
   "cell_type": "code",
   "execution_count": 101,
   "id": "2609502b",
   "metadata": {},
   "outputs": [
    {
     "data": {
      "text/plain": [
       "unconfirmed    34562\n",
       "verified       34526\n",
       "Name: host_identity_verified, dtype: int64"
      ]
     },
     "execution_count": 101,
     "metadata": {},
     "output_type": "execute_result"
    }
   ],
   "source": [
    "df['host_identity_verified'].value_counts()"
   ]
  },
  {
   "cell_type": "code",
   "execution_count": null,
   "id": "69740083",
   "metadata": {},
   "outputs": [],
   "source": []
  }
 ],
 "metadata": {
  "kernelspec": {
   "display_name": "Python 3",
   "language": "python",
   "name": "python3"
  },
  "language_info": {
   "codemirror_mode": {
    "name": "ipython",
    "version": 3
   },
   "file_extension": ".py",
   "mimetype": "text/x-python",
   "name": "python",
   "nbconvert_exporter": "python",
   "pygments_lexer": "ipython3",
   "version": "3.8.8"
  }
 },
 "nbformat": 4,
 "nbformat_minor": 5
}
